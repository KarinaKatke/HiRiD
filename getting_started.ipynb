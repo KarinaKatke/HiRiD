{
  "cells": [
    {
      "cell_type": "markdown",
      "metadata": {
        "id": "view-in-github",
        "colab_type": "text"
      },
      "source": [
        "<a href=\"https://colab.research.google.com/github/KarinaKatke/HiRiD/blob/main/getting_started.ipynb\" target=\"_parent\"><img src=\"https://colab.research.google.com/assets/colab-badge.svg\" alt=\"Open In Colab\"/></a>"
      ]
    },
    {
      "cell_type": "code",
      "execution_count": 1,
      "metadata": {
        "id": "krmx5PmjiROE"
      },
      "outputs": [],
      "source": [
        "import glob\n",
        "import math\n",
        "import numpy as np\n",
        "import os\n",
        "import pandas as pd\n",
        "import re\n",
        "import shutil\n",
        "import sys"
      ]
    },
    {
      "cell_type": "code",
      "execution_count": null,
      "metadata": {
        "id": "fkZ3bEWuiROF"
      },
      "outputs": [],
      "source": [
        "data_path = '..../hirid_data'   #complete data path"
      ]
    },
    {
      "cell_type": "markdown",
      "metadata": {
        "id": "10BZpe9CiROG"
      },
      "source": [
        "## Reading using Pandas\n",
        "Required python packages are `pandas` and `pyarrow`"
      ]
    },
    {
      "cell_type": "markdown",
      "metadata": {
        "id": "ry1g0o20iROG"
      },
      "source": [
        "### Reading a part"
      ]
    },
    {
      "cell_type": "code",
      "execution_count": null,
      "metadata": {
        "id": "kernE_tbiROH"
      },
      "outputs": [],
      "source": [
        "part = 4"
      ]
    },
    {
      "cell_type": "code",
      "execution_count": null,
      "metadata": {
        "id": "vKZu7E3viROH"
      },
      "outputs": [],
      "source": [
        "df_part = pd.read_parquet(os.path.join(data_path, 'observation_tables', 'parquet', f'part-{part}.parquet'))\n",
        "df_part['value'].count()"
      ]
    },
    {
      "cell_type": "markdown",
      "metadata": {
        "id": "7rU6rhyPiROH"
      },
      "source": [
        "### Reading a specific patient"
      ]
    },
    {
      "cell_type": "code",
      "execution_count": null,
      "metadata": {
        "id": "8hB4kH-ciROH"
      },
      "outputs": [],
      "source": [
        "patientid = 3"
      ]
    },
    {
      "cell_type": "code",
      "execution_count": null,
      "metadata": {
        "id": "AxcKNbUaiROI"
      },
      "outputs": [],
      "source": [
        "def load_patient_index(path):\n",
        "    df_ind = pd.read_csv(path)\n",
        "    return { pid : part for (pid, part) in zip(df_ind['patientid'], df_ind['part'])}\n",
        "\n",
        "pat_index = load_patient_index(os.path.join(data_path, 'observation_tables', 'observation_tables_index.csv'))"
      ]
    },
    {
      "cell_type": "code",
      "execution_count": null,
      "metadata": {
        "id": "ymY6zOMKiROI"
      },
      "outputs": [],
      "source": [
        "def load_patient(pid, data_path, pat_index):\n",
        "    df_part = pd.read_parquet(os.path.join(data_path, 'observation_tables', 'parquet', f\"part-{pat_index[pid]}.parquet\"))\n",
        "\n",
        "    return df_part.query(f'patientid == {pid}')\n",
        "\n",
        "print (\"Patient {} in partition {}.\".format(patientid, pat_index[patientid]))\n",
        "load_patient(3, data_path, pat_index)"
      ]
    },
    {
      "cell_type": "markdown",
      "metadata": {
        "id": "B2yI2G4fiROI"
      },
      "source": [
        "### Stats over columns\n",
        "\n",
        "`pandas` can also read several parts at the same time. To save memory, only the needed columns can be selected."
      ]
    },
    {
      "cell_type": "code",
      "execution_count": null,
      "metadata": {
        "id": "_-Qb0doTiROI"
      },
      "outputs": [],
      "source": [
        "df_ph = pd.read_parquet(os.path.join(data_path, 'pharma_records', 'parquet'), columns=['pharmaid', 'givendose'])"
      ]
    },
    {
      "cell_type": "code",
      "execution_count": null,
      "metadata": {
        "id": "3sV189JuiROI"
      },
      "outputs": [],
      "source": [
        "df_ph.info()"
      ]
    },
    {
      "cell_type": "code",
      "execution_count": null,
      "metadata": {
        "id": "gbunR1qwiROI"
      },
      "outputs": [],
      "source": [
        "# stats over augmentin doses\n",
        "df_ph.query('pharmaid == 1000274')['givendose'].describe()"
      ]
    },
    {
      "cell_type": "markdown",
      "metadata": {
        "id": "nd39V0jFiROJ"
      },
      "source": [
        "## Using spark\n",
        "\n",
        "Access with `pyspark` (no need for a cluster)"
      ]
    },
    {
      "cell_type": "code",
      "execution_count": null,
      "metadata": {
        "id": "uU2A1S7ziROJ"
      },
      "outputs": [],
      "source": [
        "from pyspark.sql import SparkSession\n",
        "from pyspark.conf import SparkConf\n",
        "\n",
        "from pyspark.sql import functions as sf"
      ]
    },
    {
      "cell_type": "code",
      "execution_count": null,
      "metadata": {
        "id": "TB0MePx2iROJ"
      },
      "outputs": [],
      "source": [
        "def get_spark_session(cores, memory_per_executor):\n",
        "    driver_mem = cores * memory_per_executor + 2000 # + some driver overhead\n",
        "\n",
        "    cfg = (SparkConf().set(\"spark.driver.memory\", \"{}m\".format(driver_mem)).\n",
        "            set(\"spark.executor.memory\", \"{}m\".format(memory_per_executor)).\n",
        "            set(\"spark.master\", \"local[{}]\".format(cores)).\n",
        "            set(\"spark.sql.execution.arrow.enabled\", True)\n",
        "          )\n",
        "\n",
        "    return (SparkSession.\n",
        "             builder.\n",
        "             config(conf=cfg).\n",
        "             getOrCreate())"
      ]
    },
    {
      "cell_type": "code",
      "execution_count": null,
      "metadata": {
        "id": "woKI2PwxiROJ"
      },
      "outputs": [],
      "source": [
        "spark = get_spark_session(4, 1024)"
      ]
    },
    {
      "cell_type": "markdown",
      "metadata": {
        "id": "J-x9I806iROJ"
      },
      "source": [
        "### Stats over columns"
      ]
    },
    {
      "cell_type": "code",
      "execution_count": null,
      "metadata": {
        "id": "kALBu6KuiROJ"
      },
      "outputs": [],
      "source": [
        "df_obs = spark.read.parquet(os.path.join(data_path, 'observation_tables', 'parquet'))"
      ]
    },
    {
      "cell_type": "code",
      "execution_count": null,
      "metadata": {
        "id": "VOAUDwnGiROJ"
      },
      "outputs": [],
      "source": [
        "# stats over weights (considering all parts)\n",
        "df_obs.where('variableid == 10000400').select('value').summary().toPandas()"
      ]
    }
  ],
  "metadata": {
    "hide_input": false,
    "kernelspec": {
      "display_name": "Python 3",
      "language": "python",
      "name": "python3"
    },
    "language_info": {
      "codemirror_mode": {
        "name": "ipython",
        "version": 3
      },
      "file_extension": ".py",
      "mimetype": "text/x-python",
      "name": "python",
      "nbconvert_exporter": "python",
      "pygments_lexer": "ipython3",
      "version": "3.7.5"
    },
    "toc": {
      "base_numbering": 1,
      "nav_menu": {},
      "number_sections": true,
      "sideBar": true,
      "skip_h1_title": false,
      "title_cell": "Table of Contents",
      "title_sidebar": "Contents",
      "toc_cell": false,
      "toc_position": {},
      "toc_section_display": true,
      "toc_window_display": false
    },
    "varInspector": {
      "cols": {
        "lenName": 16,
        "lenType": 16,
        "lenVar": 40
      },
      "kernels_config": {
        "python": {
          "delete_cmd_postfix": "",
          "delete_cmd_prefix": "del ",
          "library": "var_list.py",
          "varRefreshCmd": "print(var_dic_list())"
        },
        "r": {
          "delete_cmd_postfix": ") ",
          "delete_cmd_prefix": "rm(",
          "library": "var_list.r",
          "varRefreshCmd": "cat(var_dic_list()) "
        }
      },
      "types_to_exclude": [
        "module",
        "function",
        "builtin_function_or_method",
        "instance",
        "_Feature"
      ],
      "window_display": false
    },
    "colab": {
      "provenance": [],
      "include_colab_link": true
    }
  },
  "nbformat": 4,
  "nbformat_minor": 0
}