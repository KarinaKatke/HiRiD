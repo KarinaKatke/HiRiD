{
  "cells": [
    {
      "cell_type": "markdown",
      "metadata": {
        "id": "view-in-github",
        "colab_type": "text"
      },
      "source": [
        "<a href=\"https://colab.research.google.com/github/KarinaKatke/HiRiD/blob/main/getting_started.ipynb\" target=\"_parent\"><img src=\"https://colab.research.google.com/assets/colab-badge.svg\" alt=\"Open In Colab\"/></a>"
      ]
    },
    {
      "cell_type": "code",
      "execution_count": 2,
      "metadata": {
        "id": "krmx5PmjiROE"
      },
      "outputs": [],
      "source": [
        "import glob\n",
        "import math\n",
        "import numpy as np\n",
        "import os\n",
        "import pandas as pd\n",
        "import re\n",
        "import shutil\n",
        "import sys"
      ]
    },
    {
      "cell_type": "code",
      "source": [
        "from google.colab import drive\n",
        "drive.mount('/content/drive')"
      ],
      "metadata": {
        "id": "PB-2cpLMj_kQ",
        "outputId": "74218aac-d6df-4a99-9c27-9048cfbf1250",
        "colab": {
          "base_uri": "https://localhost:8080/"
        }
      },
      "execution_count": 3,
      "outputs": [
        {
          "output_type": "stream",
          "name": "stdout",
          "text": [
            "Mounted at /content/drive\n"
          ]
        }
      ]
    },
    {
      "cell_type": "code",
      "execution_count": 4,
      "metadata": {
        "id": "fkZ3bEWuiROF"
      },
      "outputs": [],
      "source": [
        "data_path = '/content/drive/My Drive/HiRID/raw_stage'"
      ]
    },
    {
      "cell_type": "code",
      "source": [
        "# Extract Raw Data\n",
        "import tarfile\n",
        "\n",
        "file_path = '/content/drive/My Drive/HiRID/raw_stage/observation_tables_parquet.tar.gz'\n",
        "extract_path = '/content/observation_tables'\n",
        "\n",
        "with tarfile.open(file_path, 'r:gz') as tar:\n",
        "    tar.extractall(path=extract_path)"
      ],
      "metadata": {
        "id": "ioQc6WUNqag2"
      },
      "execution_count": 5,
      "outputs": []
    },
    {
      "cell_type": "code",
      "source": [
        "import os\n",
        "\n",
        "extracted_files = os.listdir(extract_path)\n",
        "print(extracted_files)"
      ],
      "metadata": {
        "id": "_9SkXN9aLldY",
        "outputId": "684798b4-3726-448e-8f6d-0e593b4f534a",
        "colab": {
          "base_uri": "https://localhost:8080/"
        }
      },
      "execution_count": 6,
      "outputs": [
        {
          "output_type": "stream",
          "name": "stdout",
          "text": [
            "['observation_tables']\n"
          ]
        }
      ]
    },
    {
      "cell_type": "code",
      "source": [
        "observation_table_path = os.path.join(extract_path, 'observation_tables')"
      ],
      "metadata": {
        "id": "JhfryoTKq0tD"
      },
      "execution_count": 7,
      "outputs": []
    },
    {
      "cell_type": "code",
      "source": [
        "# Listing of all parquet files\n",
        "all_parquet_files = []\n",
        "for root, dirs, files in os.walk(observation_table_path):\n",
        "    for file in files:\n",
        "        if file.endswith('.parquet'):\n",
        "            all_parquet_files.append(os.path.join(root, file))\n",
        "\n",
        "print(all_parquet_files)"
      ],
      "metadata": {
        "id": "Z3Nu7UVzL5Bo",
        "outputId": "ba25d2d1-de5f-443f-8c54-a2444c843c0c",
        "colab": {
          "base_uri": "https://localhost:8080/"
        }
      },
      "execution_count": 8,
      "outputs": [
        {
          "output_type": "stream",
          "name": "stdout",
          "text": [
            "['/content/observation_tables/observation_tables/parquet/part-1.parquet', '/content/observation_tables/observation_tables/parquet/part-222.parquet', '/content/observation_tables/observation_tables/parquet/part-144.parquet', '/content/observation_tables/observation_tables/parquet/part-236.parquet', '/content/observation_tables/observation_tables/parquet/part-84.parquet', '/content/observation_tables/observation_tables/parquet/part-201.parquet', '/content/observation_tables/observation_tables/parquet/part-219.parquet', '/content/observation_tables/observation_tables/parquet/part-123.parquet', '/content/observation_tables/observation_tables/parquet/part-80.parquet', '/content/observation_tables/observation_tables/parquet/part-129.parquet', '/content/observation_tables/observation_tables/parquet/part-197.parquet', '/content/observation_tables/observation_tables/parquet/part-34.parquet', '/content/observation_tables/observation_tables/parquet/part-183.parquet', '/content/observation_tables/observation_tables/parquet/part-10.parquet', '/content/observation_tables/observation_tables/parquet/part-65.parquet', '/content/observation_tables/observation_tables/parquet/part-76.parquet', '/content/observation_tables/observation_tables/parquet/part-56.parquet', '/content/observation_tables/observation_tables/parquet/part-23.parquet', '/content/observation_tables/observation_tables/parquet/part-173.parquet', '/content/observation_tables/observation_tables/parquet/part-59.parquet', '/content/observation_tables/observation_tables/parquet/part-99.parquet', '/content/observation_tables/observation_tables/parquet/part-42.parquet', '/content/observation_tables/observation_tables/parquet/part-185.parquet', '/content/observation_tables/observation_tables/parquet/part-155.parquet', '/content/observation_tables/observation_tables/parquet/part-174.parquet', '/content/observation_tables/observation_tables/parquet/part-152.parquet', '/content/observation_tables/observation_tables/parquet/part-103.parquet', '/content/observation_tables/observation_tables/parquet/part-45.parquet', '/content/observation_tables/observation_tables/parquet/part-3.parquet', '/content/observation_tables/observation_tables/parquet/part-147.parquet', '/content/observation_tables/observation_tables/parquet/part-98.parquet', '/content/observation_tables/observation_tables/parquet/part-170.parquet', '/content/observation_tables/observation_tables/parquet/part-239.parquet', '/content/observation_tables/observation_tables/parquet/part-194.parquet', '/content/observation_tables/observation_tables/parquet/part-214.parquet', '/content/observation_tables/observation_tables/parquet/part-206.parquet', '/content/observation_tables/observation_tables/parquet/part-83.parquet', '/content/observation_tables/observation_tables/parquet/part-208.parquet', '/content/observation_tables/observation_tables/parquet/part-209.parquet', '/content/observation_tables/observation_tables/parquet/part-213.parquet', '/content/observation_tables/observation_tables/parquet/part-167.parquet', '/content/observation_tables/observation_tables/parquet/part-150.parquet', '/content/observation_tables/observation_tables/parquet/part-124.parquet', '/content/observation_tables/observation_tables/parquet/part-102.parquet', '/content/observation_tables/observation_tables/parquet/part-25.parquet', '/content/observation_tables/observation_tables/parquet/part-26.parquet', '/content/observation_tables/observation_tables/parquet/part-113.parquet', '/content/observation_tables/observation_tables/parquet/part-216.parquet', '/content/observation_tables/observation_tables/parquet/part-126.parquet', '/content/observation_tables/observation_tables/parquet/part-11.parquet', '/content/observation_tables/observation_tables/parquet/part-149.parquet', '/content/observation_tables/observation_tables/parquet/part-232.parquet', '/content/observation_tables/observation_tables/parquet/part-187.parquet', '/content/observation_tables/observation_tables/parquet/part-145.parquet', '/content/observation_tables/observation_tables/parquet/part-49.parquet', '/content/observation_tables/observation_tables/parquet/part-233.parquet', '/content/observation_tables/observation_tables/parquet/part-241.parquet', '/content/observation_tables/observation_tables/parquet/part-249.parquet', '/content/observation_tables/observation_tables/parquet/part-95.parquet', '/content/observation_tables/observation_tables/parquet/part-160.parquet', '/content/observation_tables/observation_tables/parquet/part-200.parquet', '/content/observation_tables/observation_tables/parquet/part-140.parquet', '/content/observation_tables/observation_tables/parquet/part-138.parquet', '/content/observation_tables/observation_tables/parquet/part-46.parquet', '/content/observation_tables/observation_tables/parquet/part-119.parquet', '/content/observation_tables/observation_tables/parquet/part-90.parquet', '/content/observation_tables/observation_tables/parquet/part-50.parquet', '/content/observation_tables/observation_tables/parquet/part-86.parquet', '/content/observation_tables/observation_tables/parquet/part-182.parquet', '/content/observation_tables/observation_tables/parquet/part-205.parquet', '/content/observation_tables/observation_tables/parquet/part-40.parquet', '/content/observation_tables/observation_tables/parquet/part-172.parquet', '/content/observation_tables/observation_tables/parquet/part-133.parquet', '/content/observation_tables/observation_tables/parquet/part-154.parquet', '/content/observation_tables/observation_tables/parquet/part-70.parquet', '/content/observation_tables/observation_tables/parquet/part-97.parquet', '/content/observation_tables/observation_tables/parquet/part-64.parquet', '/content/observation_tables/observation_tables/parquet/part-89.parquet', '/content/observation_tables/observation_tables/parquet/part-78.parquet', '/content/observation_tables/observation_tables/parquet/part-55.parquet', '/content/observation_tables/observation_tables/parquet/part-165.parquet', '/content/observation_tables/observation_tables/parquet/part-4.parquet', '/content/observation_tables/observation_tables/parquet/part-210.parquet', '/content/observation_tables/observation_tables/parquet/part-19.parquet', '/content/observation_tables/observation_tables/parquet/part-237.parquet', '/content/observation_tables/observation_tables/parquet/part-227.parquet', '/content/observation_tables/observation_tables/parquet/part-88.parquet', '/content/observation_tables/observation_tables/parquet/part-85.parquet', '/content/observation_tables/observation_tables/parquet/part-166.parquet', '/content/observation_tables/observation_tables/parquet/part-58.parquet', '/content/observation_tables/observation_tables/parquet/part-196.parquet', '/content/observation_tables/observation_tables/parquet/part-225.parquet', '/content/observation_tables/observation_tables/parquet/part-77.parquet', '/content/observation_tables/observation_tables/parquet/part-71.parquet', '/content/observation_tables/observation_tables/parquet/part-61.parquet', '/content/observation_tables/observation_tables/parquet/part-8.parquet', '/content/observation_tables/observation_tables/parquet/part-73.parquet', '/content/observation_tables/observation_tables/parquet/part-240.parquet', '/content/observation_tables/observation_tables/parquet/part-132.parquet', '/content/observation_tables/observation_tables/parquet/part-135.parquet', '/content/observation_tables/observation_tables/parquet/part-198.parquet', '/content/observation_tables/observation_tables/parquet/part-92.parquet', '/content/observation_tables/observation_tables/parquet/part-115.parquet', '/content/observation_tables/observation_tables/parquet/part-158.parquet', '/content/observation_tables/observation_tables/parquet/part-17.parquet', '/content/observation_tables/observation_tables/parquet/part-215.parquet', '/content/observation_tables/observation_tables/parquet/part-75.parquet', '/content/observation_tables/observation_tables/parquet/part-91.parquet', '/content/observation_tables/observation_tables/parquet/part-32.parquet', '/content/observation_tables/observation_tables/parquet/part-195.parquet', '/content/observation_tables/observation_tables/parquet/part-82.parquet', '/content/observation_tables/observation_tables/parquet/part-51.parquet', '/content/observation_tables/observation_tables/parquet/part-244.parquet', '/content/observation_tables/observation_tables/parquet/part-57.parquet', '/content/observation_tables/observation_tables/parquet/part-120.parquet', '/content/observation_tables/observation_tables/parquet/part-117.parquet', '/content/observation_tables/observation_tables/parquet/part-116.parquet', '/content/observation_tables/observation_tables/parquet/part-96.parquet', '/content/observation_tables/observation_tables/parquet/part-72.parquet', '/content/observation_tables/observation_tables/parquet/part-191.parquet', '/content/observation_tables/observation_tables/parquet/part-193.parquet', '/content/observation_tables/observation_tables/parquet/part-230.parquet', '/content/observation_tables/observation_tables/parquet/part-104.parquet', '/content/observation_tables/observation_tables/parquet/part-79.parquet', '/content/observation_tables/observation_tables/parquet/part-248.parquet', '/content/observation_tables/observation_tables/parquet/part-223.parquet', '/content/observation_tables/observation_tables/parquet/part-106.parquet', '/content/observation_tables/observation_tables/parquet/part-131.parquet', '/content/observation_tables/observation_tables/parquet/part-127.parquet', '/content/observation_tables/observation_tables/parquet/part-217.parquet', '/content/observation_tables/observation_tables/parquet/part-41.parquet', '/content/observation_tables/observation_tables/parquet/part-112.parquet', '/content/observation_tables/observation_tables/parquet/part-180.parquet', '/content/observation_tables/observation_tables/parquet/part-161.parquet', '/content/observation_tables/observation_tables/parquet/part-238.parquet', '/content/observation_tables/observation_tables/parquet/part-21.parquet', '/content/observation_tables/observation_tables/parquet/part-111.parquet', '/content/observation_tables/observation_tables/parquet/part-168.parquet', '/content/observation_tables/observation_tables/parquet/part-204.parquet', '/content/observation_tables/observation_tables/parquet/part-44.parquet', '/content/observation_tables/observation_tables/parquet/part-118.parquet', '/content/observation_tables/observation_tables/parquet/part-30.parquet', '/content/observation_tables/observation_tables/parquet/part-163.parquet', '/content/observation_tables/observation_tables/parquet/part-39.parquet', '/content/observation_tables/observation_tables/parquet/part-175.parquet', '/content/observation_tables/observation_tables/parquet/part-247.parquet', '/content/observation_tables/observation_tables/parquet/part-12.parquet', '/content/observation_tables/observation_tables/parquet/part-224.parquet', '/content/observation_tables/observation_tables/parquet/part-130.parquet', '/content/observation_tables/observation_tables/parquet/part-229.parquet', '/content/observation_tables/observation_tables/parquet/part-199.parquet', '/content/observation_tables/observation_tables/parquet/part-202.parquet', '/content/observation_tables/observation_tables/parquet/part-31.parquet', '/content/observation_tables/observation_tables/parquet/part-235.parquet', '/content/observation_tables/observation_tables/parquet/part-6.parquet', '/content/observation_tables/observation_tables/parquet/part-153.parquet', '/content/observation_tables/observation_tables/parquet/part-164.parquet', '/content/observation_tables/observation_tables/parquet/part-38.parquet', '/content/observation_tables/observation_tables/parquet/part-109.parquet', '/content/observation_tables/observation_tables/parquet/part-18.parquet', '/content/observation_tables/observation_tables/parquet/part-28.parquet', '/content/observation_tables/observation_tables/parquet/part-5.parquet', '/content/observation_tables/observation_tables/parquet/part-169.parquet', '/content/observation_tables/observation_tables/parquet/part-33.parquet', '/content/observation_tables/observation_tables/parquet/part-107.parquet', '/content/observation_tables/observation_tables/parquet/part-22.parquet', '/content/observation_tables/observation_tables/parquet/part-52.parquet', '/content/observation_tables/observation_tables/parquet/part-186.parquet', '/content/observation_tables/observation_tables/parquet/part-179.parquet', '/content/observation_tables/observation_tables/parquet/part-0.parquet', '/content/observation_tables/observation_tables/parquet/part-16.parquet', '/content/observation_tables/observation_tables/parquet/part-60.parquet', '/content/observation_tables/observation_tables/parquet/part-162.parquet', '/content/observation_tables/observation_tables/parquet/part-212.parquet', '/content/observation_tables/observation_tables/parquet/part-108.parquet', '/content/observation_tables/observation_tables/parquet/part-203.parquet', '/content/observation_tables/observation_tables/parquet/part-110.parquet', '/content/observation_tables/observation_tables/parquet/part-48.parquet', '/content/observation_tables/observation_tables/parquet/part-68.parquet', '/content/observation_tables/observation_tables/parquet/part-37.parquet', '/content/observation_tables/observation_tables/parquet/part-27.parquet', '/content/observation_tables/observation_tables/parquet/part-36.parquet', '/content/observation_tables/observation_tables/parquet/part-221.parquet', '/content/observation_tables/observation_tables/parquet/part-211.parquet', '/content/observation_tables/observation_tables/parquet/part-207.parquet', '/content/observation_tables/observation_tables/parquet/part-94.parquet', '/content/observation_tables/observation_tables/parquet/part-190.parquet', '/content/observation_tables/observation_tables/parquet/part-171.parquet', '/content/observation_tables/observation_tables/parquet/part-176.parquet', '/content/observation_tables/observation_tables/parquet/part-189.parquet', '/content/observation_tables/observation_tables/parquet/part-29.parquet', '/content/observation_tables/observation_tables/parquet/part-67.parquet', '/content/observation_tables/observation_tables/parquet/part-134.parquet', '/content/observation_tables/observation_tables/parquet/part-74.parquet', '/content/observation_tables/observation_tables/parquet/part-35.parquet', '/content/observation_tables/observation_tables/parquet/part-63.parquet', '/content/observation_tables/observation_tables/parquet/part-43.parquet', '/content/observation_tables/observation_tables/parquet/part-114.parquet', '/content/observation_tables/observation_tables/parquet/part-220.parquet', '/content/observation_tables/observation_tables/parquet/part-139.parquet', '/content/observation_tables/observation_tables/parquet/part-121.parquet', '/content/observation_tables/observation_tables/parquet/part-226.parquet', '/content/observation_tables/observation_tables/parquet/part-125.parquet', '/content/observation_tables/observation_tables/parquet/part-9.parquet', '/content/observation_tables/observation_tables/parquet/part-146.parquet', '/content/observation_tables/observation_tables/parquet/part-81.parquet', '/content/observation_tables/observation_tables/parquet/part-93.parquet', '/content/observation_tables/observation_tables/parquet/part-231.parquet', '/content/observation_tables/observation_tables/parquet/part-181.parquet', '/content/observation_tables/observation_tables/parquet/part-151.parquet', '/content/observation_tables/observation_tables/parquet/part-122.parquet', '/content/observation_tables/observation_tables/parquet/part-242.parquet', '/content/observation_tables/observation_tables/parquet/part-246.parquet', '/content/observation_tables/observation_tables/parquet/part-15.parquet', '/content/observation_tables/observation_tables/parquet/part-243.parquet', '/content/observation_tables/observation_tables/parquet/part-188.parquet', '/content/observation_tables/observation_tables/parquet/part-100.parquet', '/content/observation_tables/observation_tables/parquet/part-159.parquet', '/content/observation_tables/observation_tables/parquet/part-142.parquet', '/content/observation_tables/observation_tables/parquet/part-14.parquet', '/content/observation_tables/observation_tables/parquet/part-192.parquet', '/content/observation_tables/observation_tables/parquet/part-137.parquet', '/content/observation_tables/observation_tables/parquet/part-177.parquet', '/content/observation_tables/observation_tables/parquet/part-24.parquet', '/content/observation_tables/observation_tables/parquet/part-228.parquet', '/content/observation_tables/observation_tables/parquet/part-87.parquet', '/content/observation_tables/observation_tables/parquet/part-184.parquet', '/content/observation_tables/observation_tables/parquet/part-141.parquet', '/content/observation_tables/observation_tables/parquet/part-47.parquet', '/content/observation_tables/observation_tables/parquet/part-143.parquet', '/content/observation_tables/observation_tables/parquet/part-156.parquet', '/content/observation_tables/observation_tables/parquet/part-7.parquet', '/content/observation_tables/observation_tables/parquet/part-54.parquet', '/content/observation_tables/observation_tables/parquet/part-218.parquet', '/content/observation_tables/observation_tables/parquet/part-53.parquet', '/content/observation_tables/observation_tables/parquet/part-62.parquet', '/content/observation_tables/observation_tables/parquet/part-157.parquet', '/content/observation_tables/observation_tables/parquet/part-20.parquet', '/content/observation_tables/observation_tables/parquet/part-178.parquet', '/content/observation_tables/observation_tables/parquet/part-245.parquet', '/content/observation_tables/observation_tables/parquet/part-128.parquet', '/content/observation_tables/observation_tables/parquet/part-13.parquet', '/content/observation_tables/observation_tables/parquet/part-136.parquet', '/content/observation_tables/observation_tables/parquet/part-234.parquet', '/content/observation_tables/observation_tables/parquet/part-105.parquet', '/content/observation_tables/observation_tables/parquet/part-148.parquet', '/content/observation_tables/observation_tables/parquet/part-2.parquet', '/content/observation_tables/observation_tables/parquet/part-69.parquet', '/content/observation_tables/observation_tables/parquet/part-101.parquet', '/content/observation_tables/observation_tables/parquet/part-66.parquet']\n"
          ]
        }
      ]
    },
    {
      "cell_type": "code",
      "source": [
        "#for parquet_file in all_parquet_files:\n",
        " #   df = pd.read_parquet(parquet_file)\n",
        "  #  print(f\"Reading file: {parquet_file}\")\n",
        "   # print(df.columns)"
      ],
      "metadata": {
        "id": "e1OPjHGjMrzM"
      },
      "execution_count": null,
      "outputs": []
    },
    {
      "cell_type": "markdown",
      "metadata": {
        "id": "10BZpe9CiROG"
      },
      "source": [
        "## Reading using Pandas\n",
        "Required python packages are `pandas` and `pyarrow`"
      ]
    },
    {
      "cell_type": "markdown",
      "metadata": {
        "id": "ry1g0o20iROG"
      },
      "source": [
        "### Reading a part"
      ]
    },
    {
      "cell_type": "code",
      "execution_count": null,
      "metadata": {
        "id": "kernE_tbiROH"
      },
      "outputs": [],
      "source": [
        "part = 4"
      ]
    },
    {
      "cell_type": "code",
      "source": [
        "# Pandas-Optionen setzen für bessere Anzeige\n",
        "pd.set_option(\"display.max_columns\", None)        # alle Spalten anzeigen\n",
        "pd.set_option(\"display.expand_frame_repr\", False) # keine Umbrüche\n"
      ],
      "metadata": {
        "id": "GS8pJ0Kq0hTZ"
      },
      "execution_count": null,
      "outputs": []
    },
    {
      "cell_type": "code",
      "source": [
        "file_path = os.path.join(\n",
        "    'observation_tables', 'observation_tables', 'parquet', f'part-{part}.parquet'\n",
        ")"
      ],
      "metadata": {
        "id": "eskzuLqHnoPn"
      },
      "execution_count": null,
      "outputs": []
    },
    {
      "cell_type": "code",
      "execution_count": null,
      "metadata": {
        "id": "vKZu7E3viROH",
        "outputId": "790b58f5-6827-46fb-9bbe-7783b791a9e3",
        "colab": {
          "base_uri": "https://localhost:8080/"
        }
      },
      "outputs": [
        {
          "output_type": "stream",
          "name": "stdout",
          "text": [
            "Datei geladen: observation_tables/observation_tables/parquet/part-4.parquet\n",
            "Index(['datetime', 'entertime', 'patientid', 'status', 'stringvalue', 'type',\n",
            "       'value', 'variableid'],\n",
            "      dtype='object')\n"
          ]
        }
      ],
      "source": [
        "# Anzeigen der Spaltennmane des parquet-files\n",
        "\n",
        "df_part = pd.read_parquet(file_path)\n",
        "print(f\"Datei geladen: {file_path}\")\n",
        "print(df_part.columns)\n"
      ]
    },
    {
      "cell_type": "code",
      "source": [
        "df_part['value'].count() #zählt wie viele Werte in der Spalte 'value' nicht leer sind, also wie viele Werte existieren"
      ],
      "metadata": {
        "id": "wWL2FAs6rA9t",
        "outputId": "121d36b5-2974-4c7b-dbd1-724b688d973c",
        "colab": {
          "base_uri": "https://localhost:8080/"
        }
      },
      "execution_count": null,
      "outputs": [
        {
          "output_type": "execute_result",
          "data": {
            "text/plain": [
              "np.int64(2412421)"
            ]
          },
          "metadata": {},
          "execution_count": 27
        }
      ]
    },
    {
      "cell_type": "code",
      "source": [
        "# die ersten 10 Zeilen anzeigen lassen des parquet files\n",
        "\n",
        "print(df_part.head(10))"
      ],
      "metadata": {
        "colab": {
          "base_uri": "https://localhost:8080/"
        },
        "id": "aNv1apsu_E_x",
        "outputId": "b46415b9-eb07-4ca7-a967-66734c54726a"
      },
      "execution_count": null,
      "outputs": [
        {
          "output_type": "stream",
          "name": "stdout",
          "text": [
            "                 datetime               entertime  patientid  status stringvalue type  value  variableid\n",
            "0 2111-04-07 17:50:00.000 2111-04-07 18:02:16.320         65       8        None        90.0    10000400\n",
            "1 2111-04-07 17:50:00.000 2111-04-07 18:02:16.333         65       8        None       175.0    10000450\n",
            "2 2111-04-07 18:00:00.000 2111-04-07 19:46:35.530         65       8                     0.0    30005010\n",
            "3 2111-04-07 18:00:00.000 2111-04-07 19:46:36.140         65       8                     0.0    30005075\n",
            "4 2111-04-07 18:02:54.220 2111-04-07 18:02:58.723         65       4                   126.0         200\n",
            "5 2111-04-07 18:02:55.070 2111-04-07 18:02:58.803         65       4                    88.0        4000\n",
            "6 2111-04-07 18:03:28.100 2111-04-07 18:03:40.316         65      16                    88.0        4000\n",
            "7 2111-04-07 18:03:28.550 2111-04-07 18:03:40.363         65      16                   127.0         200\n",
            "8 2111-04-07 18:04:34.850 2111-04-07 18:05:38.986         65      16                    88.0        4000\n",
            "9 2111-04-07 18:04:35.320 2111-04-07 18:05:39.033         65      16                   126.0         200\n"
          ]
        }
      ]
    },
    {
      "cell_type": "markdown",
      "source": [
        "# Betrachtete Value\n"
      ],
      "metadata": {
        "id": "bDFAHEHO1OYI"
      }
    },
    {
      "cell_type": "code",
      "source": [
        "# Die gewünschte variableid setzen\n",
        "variableid = 300\n"
      ],
      "metadata": {
        "id": "CfFJEbUj1TE2"
      },
      "execution_count": null,
      "outputs": []
    },
    {
      "cell_type": "markdown",
      "source": [
        "# Wie viele Einträge hat eine bestimmte Variable?"
      ],
      "metadata": {
        "id": "MG_OSW9R_Gro"
      }
    },
    {
      "cell_type": "code",
      "source": [
        "total_count = 0\n",
        "variableid = 3845"
      ],
      "metadata": {
        "id": "sKJCvm2F4KPB"
      },
      "execution_count": null,
      "outputs": []
    },
    {
      "cell_type": "code",
      "source": [
        "# zählen wie viel data wir zu einer spezifischen value haben, in diesem parquet file\n",
        "\n",
        "gefilterte_values = df_part[df_part['variableid'] == variableid]['value']\n",
        "total_count = gefilterte_values.notna().sum()\n",
        "\n",
        "print(f\"\\nGesamtanzahl nicht-NaN-Werte für VariableID {variableid}: {total_count}\")\n",
        "print(gefilterte_values)"
      ],
      "metadata": {
        "colab": {
          "base_uri": "https://localhost:8080/"
        },
        "id": "KN6ynLo7_ra2",
        "outputId": "383e4e32-66c5-4e17-beec-96398c5bacd2"
      },
      "execution_count": null,
      "outputs": [
        {
          "output_type": "stream",
          "name": "stdout",
          "text": [
            "\n",
            "Gesamtanzahl nicht-NaN-Werte für VariableID 3845: 16068\n",
            "11806      13.0\n",
            "11902      13.0\n",
            "12078      13.0\n",
            "12213      13.0\n",
            "12334      13.0\n",
            "           ... \n",
            "2392581     1.0\n",
            "2392585     1.0\n",
            "2392589     1.0\n",
            "2392593     1.0\n",
            "2392597     1.0\n",
            "Name: value, Length: 16068, dtype: float32\n"
          ]
        }
      ]
    },
    {
      "cell_type": "code",
      "source": [
        "# durch alle Parquet Files gehen und zählen:\n",
        "\n",
        "# Zähler initialisieren\n",
        "gesamt_count = 0\n",
        "\n",
        "# Durchlaufen aller Parquet-Dateien\n",
        "for file_path in all_parquet_files:\n",
        "    print(f\"Lade Datei: {file_path}\")\n",
        "    df = pd.read_parquet(file_path)\n",
        "\n",
        "    # Filtern nach der gewünschten variableid\n",
        "    gefilterte_values = df[df['variableid'] == variableid]['value']\n",
        "\n",
        "    # Zählen nicht-NaN-Werte in der Spalte \"value\"\n",
        "    count = gefilterte_values.notna().sum()\n",
        "    gesamt_count += count\n",
        "\n",
        "    print(f\"{count} Werte in Datei gefunden.\")\n",
        "\n",
        "print(f\"\\n Gesamtanzahl nicht-NaN-Werte für VariableID {variableid}: {gesamt_count}\")"
      ],
      "metadata": {
        "colab": {
          "base_uri": "https://localhost:8080/"
        },
        "id": "feftOOMV_TOo",
        "outputId": "0c0ffd30-c182-4e87-d6bb-2e120bcd9cef"
      },
      "execution_count": null,
      "outputs": [
        {
          "output_type": "stream",
          "name": "stdout",
          "text": [
            "Lade Datei: /content/observation_tables/observation_tables/parquet/part-1.parquet\n",
            "24313 Werte in Datei gefunden.\n",
            "Lade Datei: /content/observation_tables/observation_tables/parquet/part-222.parquet\n",
            "15504 Werte in Datei gefunden.\n",
            "Lade Datei: /content/observation_tables/observation_tables/parquet/part-144.parquet\n",
            "25512 Werte in Datei gefunden.\n",
            "Lade Datei: /content/observation_tables/observation_tables/parquet/part-236.parquet\n",
            "24017 Werte in Datei gefunden.\n",
            "Lade Datei: /content/observation_tables/observation_tables/parquet/part-84.parquet\n",
            "16467 Werte in Datei gefunden.\n",
            "Lade Datei: /content/observation_tables/observation_tables/parquet/part-201.parquet\n",
            "27031 Werte in Datei gefunden.\n",
            "Lade Datei: /content/observation_tables/observation_tables/parquet/part-219.parquet\n",
            "29674 Werte in Datei gefunden.\n",
            "Lade Datei: /content/observation_tables/observation_tables/parquet/part-123.parquet\n",
            "23439 Werte in Datei gefunden.\n",
            "Lade Datei: /content/observation_tables/observation_tables/parquet/part-80.parquet\n",
            "21809 Werte in Datei gefunden.\n",
            "Lade Datei: /content/observation_tables/observation_tables/parquet/part-129.parquet\n",
            "24389 Werte in Datei gefunden.\n",
            "Lade Datei: /content/observation_tables/observation_tables/parquet/part-197.parquet\n",
            "36913 Werte in Datei gefunden.\n",
            "Lade Datei: /content/observation_tables/observation_tables/parquet/part-34.parquet\n",
            "38710 Werte in Datei gefunden.\n",
            "Lade Datei: /content/observation_tables/observation_tables/parquet/part-183.parquet\n",
            "17088 Werte in Datei gefunden.\n",
            "Lade Datei: /content/observation_tables/observation_tables/parquet/part-10.parquet\n",
            "29557 Werte in Datei gefunden.\n",
            "Lade Datei: /content/observation_tables/observation_tables/parquet/part-65.parquet\n",
            "25005 Werte in Datei gefunden.\n",
            "Lade Datei: /content/observation_tables/observation_tables/parquet/part-76.parquet\n",
            "18378 Werte in Datei gefunden.\n",
            "Lade Datei: /content/observation_tables/observation_tables/parquet/part-56.parquet\n",
            "24074 Werte in Datei gefunden.\n",
            "Lade Datei: /content/observation_tables/observation_tables/parquet/part-23.parquet\n",
            "28551 Werte in Datei gefunden.\n",
            "Lade Datei: /content/observation_tables/observation_tables/parquet/part-173.parquet\n",
            "15000 Werte in Datei gefunden.\n",
            "Lade Datei: /content/observation_tables/observation_tables/parquet/part-59.parquet\n",
            "30510 Werte in Datei gefunden.\n",
            "Lade Datei: /content/observation_tables/observation_tables/parquet/part-99.parquet\n",
            "24967 Werte in Datei gefunden.\n",
            "Lade Datei: /content/observation_tables/observation_tables/parquet/part-42.parquet\n",
            "27513 Werte in Datei gefunden.\n",
            "Lade Datei: /content/observation_tables/observation_tables/parquet/part-185.parquet\n",
            "17794 Werte in Datei gefunden.\n",
            "Lade Datei: /content/observation_tables/observation_tables/parquet/part-155.parquet\n",
            "24749 Werte in Datei gefunden.\n",
            "Lade Datei: /content/observation_tables/observation_tables/parquet/part-174.parquet\n",
            "33811 Werte in Datei gefunden.\n",
            "Lade Datei: /content/observation_tables/observation_tables/parquet/part-152.parquet\n",
            "44684 Werte in Datei gefunden.\n",
            "Lade Datei: /content/observation_tables/observation_tables/parquet/part-103.parquet\n",
            "26882 Werte in Datei gefunden.\n",
            "Lade Datei: /content/observation_tables/observation_tables/parquet/part-45.parquet\n",
            "29724 Werte in Datei gefunden.\n",
            "Lade Datei: /content/observation_tables/observation_tables/parquet/part-3.parquet\n",
            "19665 Werte in Datei gefunden.\n",
            "Lade Datei: /content/observation_tables/observation_tables/parquet/part-147.parquet\n",
            "38673 Werte in Datei gefunden.\n",
            "Lade Datei: /content/observation_tables/observation_tables/parquet/part-98.parquet\n",
            "25737 Werte in Datei gefunden.\n",
            "Lade Datei: /content/observation_tables/observation_tables/parquet/part-170.parquet\n",
            "21609 Werte in Datei gefunden.\n",
            "Lade Datei: /content/observation_tables/observation_tables/parquet/part-239.parquet\n",
            "31433 Werte in Datei gefunden.\n",
            "Lade Datei: /content/observation_tables/observation_tables/parquet/part-194.parquet\n",
            "32334 Werte in Datei gefunden.\n",
            "Lade Datei: /content/observation_tables/observation_tables/parquet/part-214.parquet\n",
            "23638 Werte in Datei gefunden.\n",
            "Lade Datei: /content/observation_tables/observation_tables/parquet/part-206.parquet\n",
            "30225 Werte in Datei gefunden.\n",
            "Lade Datei: /content/observation_tables/observation_tables/parquet/part-83.parquet\n",
            "27978 Werte in Datei gefunden.\n",
            "Lade Datei: /content/observation_tables/observation_tables/parquet/part-208.parquet\n",
            "46279 Werte in Datei gefunden.\n",
            "Lade Datei: /content/observation_tables/observation_tables/parquet/part-209.parquet\n",
            "29826 Werte in Datei gefunden.\n",
            "Lade Datei: /content/observation_tables/observation_tables/parquet/part-213.parquet\n",
            "20346 Werte in Datei gefunden.\n",
            "Lade Datei: /content/observation_tables/observation_tables/parquet/part-167.parquet\n",
            "22738 Werte in Datei gefunden.\n",
            "Lade Datei: /content/observation_tables/observation_tables/parquet/part-150.parquet\n",
            "23471 Werte in Datei gefunden.\n",
            "Lade Datei: /content/observation_tables/observation_tables/parquet/part-124.parquet\n",
            "21064 Werte in Datei gefunden.\n",
            "Lade Datei: /content/observation_tables/observation_tables/parquet/part-102.parquet\n",
            "26752 Werte in Datei gefunden.\n",
            "Lade Datei: /content/observation_tables/observation_tables/parquet/part-25.parquet\n",
            "20327 Werte in Datei gefunden.\n",
            "Lade Datei: /content/observation_tables/observation_tables/parquet/part-26.parquet\n",
            "41305 Werte in Datei gefunden.\n",
            "Lade Datei: /content/observation_tables/observation_tables/parquet/part-113.parquet\n",
            "27216 Werte in Datei gefunden.\n",
            "Lade Datei: /content/observation_tables/observation_tables/parquet/part-216.parquet\n",
            "32800 Werte in Datei gefunden.\n",
            "Lade Datei: /content/observation_tables/observation_tables/parquet/part-126.parquet\n",
            "23559 Werte in Datei gefunden.\n",
            "Lade Datei: /content/observation_tables/observation_tables/parquet/part-11.parquet\n",
            "20436 Werte in Datei gefunden.\n",
            "Lade Datei: /content/observation_tables/observation_tables/parquet/part-149.parquet\n",
            "25206 Werte in Datei gefunden.\n",
            "Lade Datei: /content/observation_tables/observation_tables/parquet/part-232.parquet\n",
            "20554 Werte in Datei gefunden.\n",
            "Lade Datei: /content/observation_tables/observation_tables/parquet/part-187.parquet\n",
            "35893 Werte in Datei gefunden.\n",
            "Lade Datei: /content/observation_tables/observation_tables/parquet/part-145.parquet\n",
            "31847 Werte in Datei gefunden.\n",
            "Lade Datei: /content/observation_tables/observation_tables/parquet/part-49.parquet\n",
            "22403 Werte in Datei gefunden.\n",
            "Lade Datei: /content/observation_tables/observation_tables/parquet/part-233.parquet\n",
            "37113 Werte in Datei gefunden.\n",
            "Lade Datei: /content/observation_tables/observation_tables/parquet/part-241.parquet\n",
            "20272 Werte in Datei gefunden.\n",
            "Lade Datei: /content/observation_tables/observation_tables/parquet/part-249.parquet\n",
            "22229 Werte in Datei gefunden.\n",
            "Lade Datei: /content/observation_tables/observation_tables/parquet/part-95.parquet\n",
            "21056 Werte in Datei gefunden.\n",
            "Lade Datei: /content/observation_tables/observation_tables/parquet/part-160.parquet\n",
            "36618 Werte in Datei gefunden.\n",
            "Lade Datei: /content/observation_tables/observation_tables/parquet/part-200.parquet\n",
            "34410 Werte in Datei gefunden.\n",
            "Lade Datei: /content/observation_tables/observation_tables/parquet/part-140.parquet\n",
            "25485 Werte in Datei gefunden.\n",
            "Lade Datei: /content/observation_tables/observation_tables/parquet/part-138.parquet\n",
            "22761 Werte in Datei gefunden.\n",
            "Lade Datei: /content/observation_tables/observation_tables/parquet/part-46.parquet\n",
            "23556 Werte in Datei gefunden.\n",
            "Lade Datei: /content/observation_tables/observation_tables/parquet/part-119.parquet\n",
            "43247 Werte in Datei gefunden.\n",
            "Lade Datei: /content/observation_tables/observation_tables/parquet/part-90.parquet\n",
            "32827 Werte in Datei gefunden.\n",
            "Lade Datei: /content/observation_tables/observation_tables/parquet/part-50.parquet\n",
            "29581 Werte in Datei gefunden.\n",
            "Lade Datei: /content/observation_tables/observation_tables/parquet/part-86.parquet\n",
            "16025 Werte in Datei gefunden.\n",
            "Lade Datei: /content/observation_tables/observation_tables/parquet/part-182.parquet\n",
            "32925 Werte in Datei gefunden.\n",
            "Lade Datei: /content/observation_tables/observation_tables/parquet/part-205.parquet\n",
            "20723 Werte in Datei gefunden.\n",
            "Lade Datei: /content/observation_tables/observation_tables/parquet/part-40.parquet\n",
            "33032 Werte in Datei gefunden.\n",
            "Lade Datei: /content/observation_tables/observation_tables/parquet/part-172.parquet\n",
            "19633 Werte in Datei gefunden.\n",
            "Lade Datei: /content/observation_tables/observation_tables/parquet/part-133.parquet\n",
            "18253 Werte in Datei gefunden.\n",
            "Lade Datei: /content/observation_tables/observation_tables/parquet/part-154.parquet\n",
            "23543 Werte in Datei gefunden.\n",
            "Lade Datei: /content/observation_tables/observation_tables/parquet/part-70.parquet\n",
            "18535 Werte in Datei gefunden.\n",
            "Lade Datei: /content/observation_tables/observation_tables/parquet/part-97.parquet\n",
            "22904 Werte in Datei gefunden.\n",
            "Lade Datei: /content/observation_tables/observation_tables/parquet/part-64.parquet\n",
            "20247 Werte in Datei gefunden.\n",
            "Lade Datei: /content/observation_tables/observation_tables/parquet/part-89.parquet\n",
            "15816 Werte in Datei gefunden.\n",
            "Lade Datei: /content/observation_tables/observation_tables/parquet/part-78.parquet\n",
            "31363 Werte in Datei gefunden.\n",
            "Lade Datei: /content/observation_tables/observation_tables/parquet/part-55.parquet\n",
            "17143 Werte in Datei gefunden.\n",
            "Lade Datei: /content/observation_tables/observation_tables/parquet/part-165.parquet\n",
            "27580 Werte in Datei gefunden.\n",
            "Lade Datei: /content/observation_tables/observation_tables/parquet/part-4.parquet\n",
            "16068 Werte in Datei gefunden.\n",
            "Lade Datei: /content/observation_tables/observation_tables/parquet/part-210.parquet\n",
            "18187 Werte in Datei gefunden.\n",
            "Lade Datei: /content/observation_tables/observation_tables/parquet/part-19.parquet\n",
            "38121 Werte in Datei gefunden.\n",
            "Lade Datei: /content/observation_tables/observation_tables/parquet/part-237.parquet\n",
            "19603 Werte in Datei gefunden.\n",
            "Lade Datei: /content/observation_tables/observation_tables/parquet/part-227.parquet\n",
            "19429 Werte in Datei gefunden.\n",
            "Lade Datei: /content/observation_tables/observation_tables/parquet/part-88.parquet\n",
            "32769 Werte in Datei gefunden.\n",
            "Lade Datei: /content/observation_tables/observation_tables/parquet/part-85.parquet\n",
            "28274 Werte in Datei gefunden.\n",
            "Lade Datei: /content/observation_tables/observation_tables/parquet/part-166.parquet\n",
            "30790 Werte in Datei gefunden.\n",
            "Lade Datei: /content/observation_tables/observation_tables/parquet/part-58.parquet\n",
            "31006 Werte in Datei gefunden.\n",
            "Lade Datei: /content/observation_tables/observation_tables/parquet/part-196.parquet\n",
            "31503 Werte in Datei gefunden.\n",
            "Lade Datei: /content/observation_tables/observation_tables/parquet/part-225.parquet\n",
            "21968 Werte in Datei gefunden.\n",
            "Lade Datei: /content/observation_tables/observation_tables/parquet/part-77.parquet\n",
            "25732 Werte in Datei gefunden.\n",
            "Lade Datei: /content/observation_tables/observation_tables/parquet/part-71.parquet\n",
            "26325 Werte in Datei gefunden.\n",
            "Lade Datei: /content/observation_tables/observation_tables/parquet/part-61.parquet\n",
            "25847 Werte in Datei gefunden.\n",
            "Lade Datei: /content/observation_tables/observation_tables/parquet/part-8.parquet\n",
            "35173 Werte in Datei gefunden.\n",
            "Lade Datei: /content/observation_tables/observation_tables/parquet/part-73.parquet\n",
            "23460 Werte in Datei gefunden.\n",
            "Lade Datei: /content/observation_tables/observation_tables/parquet/part-240.parquet\n",
            "35650 Werte in Datei gefunden.\n",
            "Lade Datei: /content/observation_tables/observation_tables/parquet/part-132.parquet\n",
            "22359 Werte in Datei gefunden.\n",
            "Lade Datei: /content/observation_tables/observation_tables/parquet/part-135.parquet\n",
            "29398 Werte in Datei gefunden.\n",
            "Lade Datei: /content/observation_tables/observation_tables/parquet/part-198.parquet\n",
            "30868 Werte in Datei gefunden.\n",
            "Lade Datei: /content/observation_tables/observation_tables/parquet/part-92.parquet\n",
            "32069 Werte in Datei gefunden.\n",
            "Lade Datei: /content/observation_tables/observation_tables/parquet/part-115.parquet\n",
            "20562 Werte in Datei gefunden.\n",
            "Lade Datei: /content/observation_tables/observation_tables/parquet/part-158.parquet\n",
            "21828 Werte in Datei gefunden.\n",
            "Lade Datei: /content/observation_tables/observation_tables/parquet/part-17.parquet\n",
            "31631 Werte in Datei gefunden.\n",
            "Lade Datei: /content/observation_tables/observation_tables/parquet/part-215.parquet\n",
            "21048 Werte in Datei gefunden.\n",
            "Lade Datei: /content/observation_tables/observation_tables/parquet/part-75.parquet\n",
            "22556 Werte in Datei gefunden.\n",
            "Lade Datei: /content/observation_tables/observation_tables/parquet/part-91.parquet\n",
            "24709 Werte in Datei gefunden.\n",
            "Lade Datei: /content/observation_tables/observation_tables/parquet/part-32.parquet\n",
            "40998 Werte in Datei gefunden.\n",
            "Lade Datei: /content/observation_tables/observation_tables/parquet/part-195.parquet\n",
            "29394 Werte in Datei gefunden.\n",
            "Lade Datei: /content/observation_tables/observation_tables/parquet/part-82.parquet\n",
            "25794 Werte in Datei gefunden.\n",
            "Lade Datei: /content/observation_tables/observation_tables/parquet/part-51.parquet\n",
            "20162 Werte in Datei gefunden.\n",
            "Lade Datei: /content/observation_tables/observation_tables/parquet/part-244.parquet\n",
            "34536 Werte in Datei gefunden.\n",
            "Lade Datei: /content/observation_tables/observation_tables/parquet/part-57.parquet\n",
            "27333 Werte in Datei gefunden.\n",
            "Lade Datei: /content/observation_tables/observation_tables/parquet/part-120.parquet\n",
            "17647 Werte in Datei gefunden.\n",
            "Lade Datei: /content/observation_tables/observation_tables/parquet/part-117.parquet\n",
            "19389 Werte in Datei gefunden.\n",
            "Lade Datei: /content/observation_tables/observation_tables/parquet/part-116.parquet\n",
            "41707 Werte in Datei gefunden.\n",
            "Lade Datei: /content/observation_tables/observation_tables/parquet/part-96.parquet\n",
            "28097 Werte in Datei gefunden.\n",
            "Lade Datei: /content/observation_tables/observation_tables/parquet/part-72.parquet\n",
            "44899 Werte in Datei gefunden.\n",
            "Lade Datei: /content/observation_tables/observation_tables/parquet/part-191.parquet\n",
            "40252 Werte in Datei gefunden.\n",
            "Lade Datei: /content/observation_tables/observation_tables/parquet/part-193.parquet\n",
            "12239 Werte in Datei gefunden.\n",
            "Lade Datei: /content/observation_tables/observation_tables/parquet/part-230.parquet\n",
            "18466 Werte in Datei gefunden.\n",
            "Lade Datei: /content/observation_tables/observation_tables/parquet/part-104.parquet\n",
            "27871 Werte in Datei gefunden.\n",
            "Lade Datei: /content/observation_tables/observation_tables/parquet/part-79.parquet\n",
            "28650 Werte in Datei gefunden.\n",
            "Lade Datei: /content/observation_tables/observation_tables/parquet/part-248.parquet\n",
            "40017 Werte in Datei gefunden.\n",
            "Lade Datei: /content/observation_tables/observation_tables/parquet/part-223.parquet\n",
            "11457 Werte in Datei gefunden.\n",
            "Lade Datei: /content/observation_tables/observation_tables/parquet/part-106.parquet\n",
            "27705 Werte in Datei gefunden.\n",
            "Lade Datei: /content/observation_tables/observation_tables/parquet/part-131.parquet\n",
            "30742 Werte in Datei gefunden.\n",
            "Lade Datei: /content/observation_tables/observation_tables/parquet/part-127.parquet\n",
            "23918 Werte in Datei gefunden.\n",
            "Lade Datei: /content/observation_tables/observation_tables/parquet/part-217.parquet\n",
            "30118 Werte in Datei gefunden.\n",
            "Lade Datei: /content/observation_tables/observation_tables/parquet/part-41.parquet\n",
            "31156 Werte in Datei gefunden.\n",
            "Lade Datei: /content/observation_tables/observation_tables/parquet/part-112.parquet\n",
            "33973 Werte in Datei gefunden.\n",
            "Lade Datei: /content/observation_tables/observation_tables/parquet/part-180.parquet\n",
            "23103 Werte in Datei gefunden.\n",
            "Lade Datei: /content/observation_tables/observation_tables/parquet/part-161.parquet\n",
            "20415 Werte in Datei gefunden.\n",
            "Lade Datei: /content/observation_tables/observation_tables/parquet/part-238.parquet\n",
            "26953 Werte in Datei gefunden.\n",
            "Lade Datei: /content/observation_tables/observation_tables/parquet/part-21.parquet\n",
            "25944 Werte in Datei gefunden.\n",
            "Lade Datei: /content/observation_tables/observation_tables/parquet/part-111.parquet\n",
            "27022 Werte in Datei gefunden.\n",
            "Lade Datei: /content/observation_tables/observation_tables/parquet/part-168.parquet\n",
            "20243 Werte in Datei gefunden.\n",
            "Lade Datei: /content/observation_tables/observation_tables/parquet/part-204.parquet\n",
            "19941 Werte in Datei gefunden.\n",
            "Lade Datei: /content/observation_tables/observation_tables/parquet/part-44.parquet\n",
            "37973 Werte in Datei gefunden.\n",
            "Lade Datei: /content/observation_tables/observation_tables/parquet/part-118.parquet\n",
            "52276 Werte in Datei gefunden.\n",
            "Lade Datei: /content/observation_tables/observation_tables/parquet/part-30.parquet\n",
            "15982 Werte in Datei gefunden.\n",
            "Lade Datei: /content/observation_tables/observation_tables/parquet/part-163.parquet\n",
            "19260 Werte in Datei gefunden.\n",
            "Lade Datei: /content/observation_tables/observation_tables/parquet/part-39.parquet\n",
            "25931 Werte in Datei gefunden.\n",
            "Lade Datei: /content/observation_tables/observation_tables/parquet/part-175.parquet\n",
            "26957 Werte in Datei gefunden.\n",
            "Lade Datei: /content/observation_tables/observation_tables/parquet/part-247.parquet\n",
            "22255 Werte in Datei gefunden.\n",
            "Lade Datei: /content/observation_tables/observation_tables/parquet/part-12.parquet\n",
            "29305 Werte in Datei gefunden.\n",
            "Lade Datei: /content/observation_tables/observation_tables/parquet/part-224.parquet\n",
            "17610 Werte in Datei gefunden.\n",
            "Lade Datei: /content/observation_tables/observation_tables/parquet/part-130.parquet\n",
            "16061 Werte in Datei gefunden.\n",
            "Lade Datei: /content/observation_tables/observation_tables/parquet/part-229.parquet\n",
            "24799 Werte in Datei gefunden.\n",
            "Lade Datei: /content/observation_tables/observation_tables/parquet/part-199.parquet\n",
            "28104 Werte in Datei gefunden.\n",
            "Lade Datei: /content/observation_tables/observation_tables/parquet/part-202.parquet\n",
            "25580 Werte in Datei gefunden.\n",
            "Lade Datei: /content/observation_tables/observation_tables/parquet/part-31.parquet\n",
            "30095 Werte in Datei gefunden.\n",
            "Lade Datei: /content/observation_tables/observation_tables/parquet/part-235.parquet\n",
            "19401 Werte in Datei gefunden.\n",
            "Lade Datei: /content/observation_tables/observation_tables/parquet/part-6.parquet\n",
            "52162 Werte in Datei gefunden.\n",
            "Lade Datei: /content/observation_tables/observation_tables/parquet/part-153.parquet\n",
            "31749 Werte in Datei gefunden.\n",
            "Lade Datei: /content/observation_tables/observation_tables/parquet/part-164.parquet\n",
            "19469 Werte in Datei gefunden.\n",
            "Lade Datei: /content/observation_tables/observation_tables/parquet/part-38.parquet\n",
            "27353 Werte in Datei gefunden.\n",
            "Lade Datei: /content/observation_tables/observation_tables/parquet/part-109.parquet\n",
            "20495 Werte in Datei gefunden.\n",
            "Lade Datei: /content/observation_tables/observation_tables/parquet/part-18.parquet\n",
            "28792 Werte in Datei gefunden.\n",
            "Lade Datei: /content/observation_tables/observation_tables/parquet/part-28.parquet\n",
            "11689 Werte in Datei gefunden.\n",
            "Lade Datei: /content/observation_tables/observation_tables/parquet/part-5.parquet\n",
            "24847 Werte in Datei gefunden.\n",
            "Lade Datei: /content/observation_tables/observation_tables/parquet/part-169.parquet\n",
            "21512 Werte in Datei gefunden.\n",
            "Lade Datei: /content/observation_tables/observation_tables/parquet/part-33.parquet\n",
            "31101 Werte in Datei gefunden.\n",
            "Lade Datei: /content/observation_tables/observation_tables/parquet/part-107.parquet\n",
            "33711 Werte in Datei gefunden.\n",
            "Lade Datei: /content/observation_tables/observation_tables/parquet/part-22.parquet\n",
            "22068 Werte in Datei gefunden.\n",
            "Lade Datei: /content/observation_tables/observation_tables/parquet/part-52.parquet\n",
            "22627 Werte in Datei gefunden.\n",
            "Lade Datei: /content/observation_tables/observation_tables/parquet/part-186.parquet\n",
            "28351 Werte in Datei gefunden.\n",
            "Lade Datei: /content/observation_tables/observation_tables/parquet/part-179.parquet\n",
            "29680 Werte in Datei gefunden.\n",
            "Lade Datei: /content/observation_tables/observation_tables/parquet/part-0.parquet\n",
            "26608 Werte in Datei gefunden.\n",
            "Lade Datei: /content/observation_tables/observation_tables/parquet/part-16.parquet\n",
            "13863 Werte in Datei gefunden.\n",
            "Lade Datei: /content/observation_tables/observation_tables/parquet/part-60.parquet\n",
            "24357 Werte in Datei gefunden.\n",
            "Lade Datei: /content/observation_tables/observation_tables/parquet/part-162.parquet\n",
            "28346 Werte in Datei gefunden.\n",
            "Lade Datei: /content/observation_tables/observation_tables/parquet/part-212.parquet\n",
            "22253 Werte in Datei gefunden.\n",
            "Lade Datei: /content/observation_tables/observation_tables/parquet/part-108.parquet\n",
            "27649 Werte in Datei gefunden.\n",
            "Lade Datei: /content/observation_tables/observation_tables/parquet/part-203.parquet\n",
            "28545 Werte in Datei gefunden.\n",
            "Lade Datei: /content/observation_tables/observation_tables/parquet/part-110.parquet\n",
            "26733 Werte in Datei gefunden.\n",
            "Lade Datei: /content/observation_tables/observation_tables/parquet/part-48.parquet\n",
            "28454 Werte in Datei gefunden.\n",
            "Lade Datei: /content/observation_tables/observation_tables/parquet/part-68.parquet\n",
            "16265 Werte in Datei gefunden.\n",
            "Lade Datei: /content/observation_tables/observation_tables/parquet/part-37.parquet\n",
            "20468 Werte in Datei gefunden.\n",
            "Lade Datei: /content/observation_tables/observation_tables/parquet/part-27.parquet\n",
            "25076 Werte in Datei gefunden.\n",
            "Lade Datei: /content/observation_tables/observation_tables/parquet/part-36.parquet\n",
            "27901 Werte in Datei gefunden.\n",
            "Lade Datei: /content/observation_tables/observation_tables/parquet/part-221.parquet\n",
            "28102 Werte in Datei gefunden.\n",
            "Lade Datei: /content/observation_tables/observation_tables/parquet/part-211.parquet\n",
            "26459 Werte in Datei gefunden.\n",
            "Lade Datei: /content/observation_tables/observation_tables/parquet/part-207.parquet\n",
            "23587 Werte in Datei gefunden.\n",
            "Lade Datei: /content/observation_tables/observation_tables/parquet/part-94.parquet\n",
            "16090 Werte in Datei gefunden.\n",
            "Lade Datei: /content/observation_tables/observation_tables/parquet/part-190.parquet\n",
            "35691 Werte in Datei gefunden.\n",
            "Lade Datei: /content/observation_tables/observation_tables/parquet/part-171.parquet\n",
            "22050 Werte in Datei gefunden.\n",
            "Lade Datei: /content/observation_tables/observation_tables/parquet/part-176.parquet\n",
            "24060 Werte in Datei gefunden.\n",
            "Lade Datei: /content/observation_tables/observation_tables/parquet/part-189.parquet\n",
            "30346 Werte in Datei gefunden.\n",
            "Lade Datei: /content/observation_tables/observation_tables/parquet/part-29.parquet\n",
            "23846 Werte in Datei gefunden.\n",
            "Lade Datei: /content/observation_tables/observation_tables/parquet/part-67.parquet\n",
            "22184 Werte in Datei gefunden.\n",
            "Lade Datei: /content/observation_tables/observation_tables/parquet/part-134.parquet\n",
            "28642 Werte in Datei gefunden.\n",
            "Lade Datei: /content/observation_tables/observation_tables/parquet/part-74.parquet\n",
            "30107 Werte in Datei gefunden.\n",
            "Lade Datei: /content/observation_tables/observation_tables/parquet/part-35.parquet\n",
            "29121 Werte in Datei gefunden.\n",
            "Lade Datei: /content/observation_tables/observation_tables/parquet/part-63.parquet\n",
            "27288 Werte in Datei gefunden.\n",
            "Lade Datei: /content/observation_tables/observation_tables/parquet/part-43.parquet\n",
            "33254 Werte in Datei gefunden.\n",
            "Lade Datei: /content/observation_tables/observation_tables/parquet/part-114.parquet\n",
            "40895 Werte in Datei gefunden.\n",
            "Lade Datei: /content/observation_tables/observation_tables/parquet/part-220.parquet\n",
            "44050 Werte in Datei gefunden.\n",
            "Lade Datei: /content/observation_tables/observation_tables/parquet/part-139.parquet\n",
            "28762 Werte in Datei gefunden.\n",
            "Lade Datei: /content/observation_tables/observation_tables/parquet/part-121.parquet\n",
            "30555 Werte in Datei gefunden.\n",
            "Lade Datei: /content/observation_tables/observation_tables/parquet/part-226.parquet\n",
            "22449 Werte in Datei gefunden.\n",
            "Lade Datei: /content/observation_tables/observation_tables/parquet/part-125.parquet\n",
            "24112 Werte in Datei gefunden.\n",
            "Lade Datei: /content/observation_tables/observation_tables/parquet/part-9.parquet\n",
            "25606 Werte in Datei gefunden.\n",
            "Lade Datei: /content/observation_tables/observation_tables/parquet/part-146.parquet\n",
            "30975 Werte in Datei gefunden.\n",
            "Lade Datei: /content/observation_tables/observation_tables/parquet/part-81.parquet\n",
            "36302 Werte in Datei gefunden.\n",
            "Lade Datei: /content/observation_tables/observation_tables/parquet/part-93.parquet\n",
            "39281 Werte in Datei gefunden.\n",
            "Lade Datei: /content/observation_tables/observation_tables/parquet/part-231.parquet\n",
            "38408 Werte in Datei gefunden.\n",
            "Lade Datei: /content/observation_tables/observation_tables/parquet/part-181.parquet\n",
            "36371 Werte in Datei gefunden.\n",
            "Lade Datei: /content/observation_tables/observation_tables/parquet/part-151.parquet\n",
            "19903 Werte in Datei gefunden.\n",
            "Lade Datei: /content/observation_tables/observation_tables/parquet/part-122.parquet\n",
            "28647 Werte in Datei gefunden.\n",
            "Lade Datei: /content/observation_tables/observation_tables/parquet/part-242.parquet\n",
            "20188 Werte in Datei gefunden.\n",
            "Lade Datei: /content/observation_tables/observation_tables/parquet/part-246.parquet\n",
            "35010 Werte in Datei gefunden.\n",
            "Lade Datei: /content/observation_tables/observation_tables/parquet/part-15.parquet\n",
            "29614 Werte in Datei gefunden.\n",
            "Lade Datei: /content/observation_tables/observation_tables/parquet/part-243.parquet\n",
            "30061 Werte in Datei gefunden.\n",
            "Lade Datei: /content/observation_tables/observation_tables/parquet/part-188.parquet\n",
            "43763 Werte in Datei gefunden.\n",
            "Lade Datei: /content/observation_tables/observation_tables/parquet/part-100.parquet\n",
            "25462 Werte in Datei gefunden.\n",
            "Lade Datei: /content/observation_tables/observation_tables/parquet/part-159.parquet\n",
            "24033 Werte in Datei gefunden.\n",
            "Lade Datei: /content/observation_tables/observation_tables/parquet/part-142.parquet\n",
            "23396 Werte in Datei gefunden.\n",
            "Lade Datei: /content/observation_tables/observation_tables/parquet/part-14.parquet\n",
            "17623 Werte in Datei gefunden.\n",
            "Lade Datei: /content/observation_tables/observation_tables/parquet/part-192.parquet\n",
            "30745 Werte in Datei gefunden.\n",
            "Lade Datei: /content/observation_tables/observation_tables/parquet/part-137.parquet\n",
            "24856 Werte in Datei gefunden.\n",
            "Lade Datei: /content/observation_tables/observation_tables/parquet/part-177.parquet\n",
            "15324 Werte in Datei gefunden.\n",
            "Lade Datei: /content/observation_tables/observation_tables/parquet/part-24.parquet\n",
            "36895 Werte in Datei gefunden.\n",
            "Lade Datei: /content/observation_tables/observation_tables/parquet/part-228.parquet\n",
            "42340 Werte in Datei gefunden.\n",
            "Lade Datei: /content/observation_tables/observation_tables/parquet/part-87.parquet\n",
            "24584 Werte in Datei gefunden.\n",
            "Lade Datei: /content/observation_tables/observation_tables/parquet/part-184.parquet\n",
            "21190 Werte in Datei gefunden.\n",
            "Lade Datei: /content/observation_tables/observation_tables/parquet/part-141.parquet\n",
            "30172 Werte in Datei gefunden.\n",
            "Lade Datei: /content/observation_tables/observation_tables/parquet/part-47.parquet\n",
            "29897 Werte in Datei gefunden.\n",
            "Lade Datei: /content/observation_tables/observation_tables/parquet/part-143.parquet\n",
            "17993 Werte in Datei gefunden.\n",
            "Lade Datei: /content/observation_tables/observation_tables/parquet/part-156.parquet\n",
            "29498 Werte in Datei gefunden.\n",
            "Lade Datei: /content/observation_tables/observation_tables/parquet/part-7.parquet\n",
            "15089 Werte in Datei gefunden.\n",
            "Lade Datei: /content/observation_tables/observation_tables/parquet/part-54.parquet\n",
            "25609 Werte in Datei gefunden.\n",
            "Lade Datei: /content/observation_tables/observation_tables/parquet/part-218.parquet\n",
            "29119 Werte in Datei gefunden.\n",
            "Lade Datei: /content/observation_tables/observation_tables/parquet/part-53.parquet\n",
            "22516 Werte in Datei gefunden.\n",
            "Lade Datei: /content/observation_tables/observation_tables/parquet/part-62.parquet\n",
            "24969 Werte in Datei gefunden.\n",
            "Lade Datei: /content/observation_tables/observation_tables/parquet/part-157.parquet\n",
            "24182 Werte in Datei gefunden.\n",
            "Lade Datei: /content/observation_tables/observation_tables/parquet/part-20.parquet\n",
            "16981 Werte in Datei gefunden.\n",
            "Lade Datei: /content/observation_tables/observation_tables/parquet/part-178.parquet\n",
            "35136 Werte in Datei gefunden.\n",
            "Lade Datei: /content/observation_tables/observation_tables/parquet/part-245.parquet\n",
            "34938 Werte in Datei gefunden.\n",
            "Lade Datei: /content/observation_tables/observation_tables/parquet/part-128.parquet\n",
            "31163 Werte in Datei gefunden.\n",
            "Lade Datei: /content/observation_tables/observation_tables/parquet/part-13.parquet\n",
            "35320 Werte in Datei gefunden.\n",
            "Lade Datei: /content/observation_tables/observation_tables/parquet/part-136.parquet\n",
            "19802 Werte in Datei gefunden.\n",
            "Lade Datei: /content/observation_tables/observation_tables/parquet/part-234.parquet\n",
            "44726 Werte in Datei gefunden.\n",
            "Lade Datei: /content/observation_tables/observation_tables/parquet/part-105.parquet\n",
            "25961 Werte in Datei gefunden.\n",
            "Lade Datei: /content/observation_tables/observation_tables/parquet/part-148.parquet\n",
            "28529 Werte in Datei gefunden.\n",
            "Lade Datei: /content/observation_tables/observation_tables/parquet/part-2.parquet\n",
            "28437 Werte in Datei gefunden.\n",
            "Lade Datei: /content/observation_tables/observation_tables/parquet/part-69.parquet\n",
            "23388 Werte in Datei gefunden.\n",
            "Lade Datei: /content/observation_tables/observation_tables/parquet/part-101.parquet\n",
            "25359 Werte in Datei gefunden.\n",
            "Lade Datei: /content/observation_tables/observation_tables/parquet/part-66.parquet\n",
            "26216 Werte in Datei gefunden.\n",
            "\n",
            " Gesamtanzahl nicht-NaN-Werte für VariableID 3845: 6734270\n"
          ]
        }
      ]
    },
    {
      "cell_type": "code",
      "source": [],
      "metadata": {
        "id": "-Tj1mPl0yRko"
      },
      "execution_count": null,
      "outputs": []
    },
    {
      "cell_type": "markdown",
      "source": [
        "# Tabelle nur mit einer variableid"
      ],
      "metadata": {
        "id": "IQzihsUsyVwL"
      }
    },
    {
      "cell_type": "code",
      "source": [
        "variableid = 200"
      ],
      "metadata": {
        "id": "g3eOBLXT1ysv"
      },
      "execution_count": null,
      "outputs": []
    },
    {
      "cell_type": "code",
      "source": [
        "# Filter anwenden\n",
        "filtered_df = df_part[df_part[\"variableid\"] == variableid]\n",
        "\n",
        "# Nach Zeit sortieren, falls vorhanden\n",
        "if \"timestamp\" in filtered_df.columns:\n",
        "    filtered_df = filtered_df.sort_values(\"timestamp\")\n",
        "\n",
        "# Ausgabe\n",
        "print(filtered_df.head(20))"
      ],
      "metadata": {
        "id": "-29Gky_mycxA",
        "outputId": "9b5cded2-801c-4558-e74c-28a815ca0d19",
        "colab": {
          "base_uri": "https://localhost:8080/"
        }
      },
      "execution_count": null,
      "outputs": [
        {
          "output_type": "stream",
          "name": "stdout",
          "text": [
            "                   datetime               entertime  patientid  status stringvalue type  value  variableid\n",
            "4   2111-04-07 18:02:54.220 2111-04-07 18:02:58.723         65       4                   126.0         200\n",
            "7   2111-04-07 18:03:28.550 2111-04-07 18:03:40.363         65      16                   127.0         200\n",
            "9   2111-04-07 18:04:35.320 2111-04-07 18:05:39.033         65      16                   126.0         200\n",
            "16  2111-04-07 18:06:49.040 2111-04-07 18:07:38.220         65      16                   127.0         200\n",
            "21  2111-04-07 18:09:35.080 2111-04-07 18:09:37.250         65      16                   128.0         200\n",
            "26  2111-04-07 18:10:09.280 2111-04-07 18:11:35.966         65      16                   124.0         200\n",
            "28  2111-04-07 18:11:48.860 2111-04-07 18:13:34.730         65      16                   126.0         200\n",
            "32  2111-04-07 18:15:07.850 2111-04-07 18:15:33.746         65      16                   123.0         200\n",
            "33  2111-04-07 18:16:49.380 2111-04-07 18:17:32.730         65      16                   128.0         200\n",
            "43  2111-04-07 18:19:35.760 2111-04-07 18:19:31.820         65      16                   124.0         200\n",
            "44  2111-04-07 18:20:41.840 2111-04-07 18:21:31.303         65      16                   125.0         200\n",
            "48  2111-04-07 18:21:47.730 2111-04-07 18:23:30.520         65      16                   123.0         200\n",
            "55  2111-04-07 18:25:08.780 2111-04-07 18:25:29.800         65      16                   126.0         200\n",
            "59  2111-04-07 18:26:48.800 2111-04-07 18:27:28.910         65      16                   125.0         200\n",
            "88  2111-04-07 18:30:42.080 2111-04-07 18:31:27.310         65      16                   122.0         200\n",
            "106 2111-04-07 18:32:22.380 2111-04-07 18:33:26.326         65      16                   121.0         200\n",
            "113 2111-04-07 18:34:36.290 2111-04-07 18:35:25.620         65      16                   121.0         200\n",
            "119 2111-04-07 18:36:16.250 2111-04-07 18:37:25.180         65      16                   119.0         200\n",
            "128 2111-04-07 18:39:02.560 2111-04-07 18:39:24.400         65      16                   117.0         200\n",
            "131 2111-04-07 18:40:42.800 2111-04-07 18:41:23.586         65      16                   120.0         200\n"
          ]
        }
      ]
    },
    {
      "cell_type": "code",
      "source": [],
      "metadata": {
        "id": "YSv46rAQyqkB"
      },
      "execution_count": null,
      "outputs": []
    },
    {
      "cell_type": "markdown",
      "source": [
        "# Label und Features"
      ],
      "metadata": {
        "id": "oiG-F0VyrR6A"
      }
    },
    {
      "cell_type": "code",
      "source": [
        "import pandas as pd\n",
        "import pyarrow.parquet as pq\n",
        "import os\n",
        "from datetime import timedelta\n",
        "\n",
        "# IDs für dein Projekt\n",
        "VAR_IDS = {\n",
        "    \"TidalVolumeSetting\": [2400],  # Label\n",
        "    \"PEEP\": [2600, 2610],\n",
        "    \"FiO2\": [2010],\n",
        "    \"PaCO2\": [2001200],\n",
        "    \"pH\": [20000300],\n",
        "    \"SaO2\": [20000800],\n",
        "    \"RespRate\": [300, 310, 5685],\n",
        "    \"VentMode\": [3845],\n",
        "    \"Weight\": [10000480]\n",
        "}\n",
        "\n",
        "# Zeitfenster (z. B. 60 Minuten vor Zielzeitpunkt)\n",
        "window_minutes = 60\n",
        "\n",
        "# Ergebnisse speichern\n",
        "feature_rows = []\n",
        "\n",
        "# Zähler für Debugging\n",
        "processed_files_count = 0\n",
        "total_patient_ids = 0\n",
        "total_tv_labels = 0\n",
        "rows_added_to_features = 0\n",
        "\n",
        "# Durchlaufe alle parquet-Dateien\n",
        "# Verwenden Sie die Variable observation_table_path, die den Pfad zum extrahierten Verzeichnis enthält\n",
        "print(f\"Suche nach Parquet-Dateien in: {observation_table_path}\")\n",
        "file_list = os.listdir(observation_table_path)\n",
        "print(f\"Gefundene Einträge im Verzeichnis: {len(file_list)}\")\n",
        "\n",
        "\n",
        "for part_path in file_list:\n",
        "    # Konstruiere den vollständigen Pfad zur Datei\n",
        "    full_file_path = os.path.join(observation_table_path, part_path)\n",
        "\n",
        "    # Stellen Sie sicher, dass es sich um eine Datei handelt, bevor Sie versuchen, sie zu lesen\n",
        "    if not os.path.isfile(full_file_path) or not full_file_path.endswith(\".parquet\"):\n",
        "        print(f\"Ignoriere: {full_file_path} (Keine Parquet-Datei)\")\n",
        "        continue\n",
        "\n",
        "    print(f\"Verarbeite Datei: {full_file_path}\")\n",
        "    processed_files_count += 1\n",
        "\n",
        "    try:\n",
        "        # Lesen Sie die Parquet-Datei\n",
        "        df = pd.read_parquet(full_file_path)\n",
        "        print(f\"  Datei erfolgreich geladen. Zeilen: {len(df)}\")\n",
        "\n",
        "        if df.empty:\n",
        "            print(f\"  Datei ist leer.\")\n",
        "            continue\n",
        "\n",
        "        # Filtere relevante Variablen\n",
        "        relevant_ids = [vid for ids in VAR_IDS.values() for vid in ids]\n",
        "        df_relevant = df[df['variableid'].isin(relevant_ids)].copy()\n",
        "        print(f\"  Zeilen nach Filtern nach relevanten VariableIDs ({len(relevant_ids)} IDs): {len(df_relevant)}\")\n",
        "\n",
        "        if df_relevant.empty:\n",
        "             print(f\"  Keine relevanten VariableIDs in dieser Datei gefunden.\")\n",
        "             continue\n",
        "\n",
        "        # Zeiteinheit\n",
        "        try:\n",
        "            df_relevant['timestamp'] = pd.to_datetime(df_relevant['timestamp'])\n",
        "            print(f\"  Zeitstempel erfolgreich in datetime konvertiert.\")\n",
        "        except Exception as e:\n",
        "            print(f\"  FEHLER bei Zeitstempel-Konvertierung in {full_file_path}: {e}\")\n",
        "            continue\n",
        "\n",
        "\n",
        "        # Nach Patientengruppierung\n",
        "        patient_groups = df_relevant.groupby('patientid')\n",
        "        print(f\"  Gefundene PatientIDs: {len(patient_groups)}\")\n",
        "        total_patient_ids += len(patient_groups)\n",
        "\n",
        "        for patient_id, patient_df in patient_groups:\n",
        "            patient_df = patient_df.sort_values('timestamp')\n",
        "\n",
        "            # Label-Zeitpunkte (wann immer Tidal Volume Setting vorhanden ist)\n",
        "            tv_df = patient_df[patient_df['variableid'].isin(VAR_IDS['TidalVolumeSetting'])]\n",
        "            print(f\"    Patient {patient_id}: Gefundene TidalVolumeSetting-Zeitpunkte: {len(tv_df)}\")\n",
        "            total_tv_labels += len(tv_df)\n",
        "\n",
        "            for _, row in tv_df.iterrows():\n",
        "                t_label = row['timestamp']\n",
        "                y = row['value']  # Label-Wert\n",
        "\n",
        "                # Alle Features im Zeitfenster [t_label - 60 min, t_label]\n",
        "                t_start = t_label - timedelta(minutes=window_minutes)\n",
        "                df_window = patient_df[(patient_df['timestamp'] >= t_start) & (patient_df['timestamp'] <= t_label)].copy() # .copy() um SettingWithCopyWarning zu vermeiden\n",
        "                #print(f\"      Label-Zeitpunkt {t_label}: Zeilen im Fenster [{t_start}, {t_label}]: {len(df_window)}\")\n",
        "\n",
        "                features = {'patientid': patient_id, 'label_time': t_label, 'TidalVolumeSetting': y}\n",
        "\n",
        "                # Zähler für Features im Fenster\n",
        "                features_found_in_window = 0\n",
        "\n",
        "                for feat_name, ids in VAR_IDS.items():\n",
        "                    if feat_name == \"TidalVolumeSetting\":\n",
        "                        continue\n",
        "                    feat_values = df_window[df_window['variableid'].isin(ids)]\n",
        "                    if not feat_values.empty:\n",
        "                        # Nehme den letzten bekannten Wert\n",
        "                        features[feat_name] = feat_values.sort_values('timestamp').iloc[-1]['value']\n",
        "                        features_found_in_window += 1\n",
        "                    else:\n",
        "                        features[feat_name] = None  # NaN\n",
        "\n",
        "                # Nur hinzufügen, wenn mindestens ein Feature im Fenster gefunden wurde (optional, je nach Anforderung)\n",
        "                # if features_found_in_window > 0:\n",
        "                feature_rows.append(features)\n",
        "                rows_added_to_features += 1\n",
        "                # else:\n",
        "                #     print(f\"      Label-Zeitpunkt {t_label}: Keine Features im Zeitfenster gefunden.\")\n",
        "\n",
        "\n",
        "    except Exception as e:\n",
        "        print(f\"  FEHLER bei Verarbeitung von Datei {full_file_path}: {e}\")\n",
        "\n",
        "\n",
        "print(\"\\n--- Verarbeitung abgeschlossen ---\")\n",
        "print(f\"Insgesamt verarbeitete Parquet-Dateien: {processed_files_count}\")\n",
        "print(f\"Insgesamt gefundene eindeutige PatientIDs (in relevanten Daten): {total_patient_ids}\")\n",
        "print(f\"Insgesamt gefundene TidalVolumeSetting-Zeitpunkte: {total_tv_labels}\")\n",
        "print(f\"Insgesamt hinzugefügte Zeilen zum Feature-DataFrame: {rows_added_to_features}\")\n",
        "\n",
        "# In DataFrame umwandeln\n",
        "df_features = pd.DataFrame(feature_rows)\n",
        "\n",
        "# Zeige Beispiel\n",
        "print(\"\\nBeispiel-Features:\")\n",
        "print(df_features.head())\n",
        "\n",
        "print(f\"\\nEndgültige Größe des Feature-DataFrames: {len(df_features)}\")"
      ],
      "metadata": {
        "id": "7o1elgi2uQLE",
        "outputId": "476740cc-85c4-4b2e-fdba-aeada0994e03",
        "colab": {
          "base_uri": "https://localhost:8080/"
        }
      },
      "execution_count": 12,
      "outputs": [
        {
          "output_type": "stream",
          "name": "stdout",
          "text": [
            "Suche nach Parquet-Dateien in: /content/observation_tables/observation_tables\n",
            "Gefundene Einträge im Verzeichnis: 2\n",
            "Ignoriere: /content/observation_tables/observation_tables/observation_tables_index.csv (Keine Parquet-Datei)\n",
            "Ignoriere: /content/observation_tables/observation_tables/parquet (Keine Parquet-Datei)\n",
            "\n",
            "--- Verarbeitung abgeschlossen ---\n",
            "Insgesamt verarbeitete Parquet-Dateien: 0\n",
            "Insgesamt gefundene eindeutige PatientIDs (in relevanten Daten): 0\n",
            "Insgesamt gefundene TidalVolumeSetting-Zeitpunkte: 0\n",
            "Insgesamt hinzugefügte Zeilen zum Feature-DataFrame: 0\n",
            "\n",
            "Beispiel-Features:\n",
            "Empty DataFrame\n",
            "Columns: []\n",
            "Index: []\n",
            "\n",
            "Endgültige Größe des Feature-DataFrames: 0\n"
          ]
        }
      ]
    },
    {
      "cell_type": "code",
      "source": [],
      "metadata": {
        "id": "ut7xAfNptUJM"
      },
      "execution_count": null,
      "outputs": []
    }
  ],
  "metadata": {
    "hide_input": false,
    "kernelspec": {
      "display_name": "Python 3",
      "language": "python",
      "name": "python3"
    },
    "language_info": {
      "codemirror_mode": {
        "name": "ipython",
        "version": 3
      },
      "file_extension": ".py",
      "mimetype": "text/x-python",
      "name": "python",
      "nbconvert_exporter": "python",
      "pygments_lexer": "ipython3",
      "version": "3.7.5"
    },
    "toc": {
      "base_numbering": 1,
      "nav_menu": {},
      "number_sections": true,
      "sideBar": true,
      "skip_h1_title": false,
      "title_cell": "Table of Contents",
      "title_sidebar": "Contents",
      "toc_cell": false,
      "toc_position": {},
      "toc_section_display": true,
      "toc_window_display": false
    },
    "varInspector": {
      "cols": {
        "lenName": 16,
        "lenType": 16,
        "lenVar": 40
      },
      "kernels_config": {
        "python": {
          "delete_cmd_postfix": "",
          "delete_cmd_prefix": "del ",
          "library": "var_list.py",
          "varRefreshCmd": "print(var_dic_list())"
        },
        "r": {
          "delete_cmd_postfix": ") ",
          "delete_cmd_prefix": "rm(",
          "library": "var_list.r",
          "varRefreshCmd": "cat(var_dic_list()) "
        }
      },
      "types_to_exclude": [
        "module",
        "function",
        "builtin_function_or_method",
        "instance",
        "_Feature"
      ],
      "window_display": false
    },
    "colab": {
      "provenance": [],
      "include_colab_link": true
    }
  },
  "nbformat": 4,
  "nbformat_minor": 0
}