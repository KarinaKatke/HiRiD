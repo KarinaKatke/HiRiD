{
  "cells": [
    {
      "cell_type": "markdown",
      "metadata": {
        "id": "view-in-github",
        "colab_type": "text"
      },
      "source": [
        "<a href=\"https://colab.research.google.com/github/KarinaKatke/HiRiD/blob/main/getting_started.ipynb\" target=\"_parent\"><img src=\"https://colab.research.google.com/assets/colab-badge.svg\" alt=\"Open In Colab\"/></a>"
      ]
    },
    {
      "cell_type": "code",
      "execution_count": 4,
      "metadata": {
        "id": "krmx5PmjiROE"
      },
      "outputs": [],
      "source": [
        "import glob\n",
        "import math\n",
        "import numpy as np\n",
        "import os\n",
        "import pandas as pd\n",
        "import re\n",
        "import shutil\n",
        "import sys"
      ]
    },
    {
      "cell_type": "code",
      "source": [
        "from google.colab import drive\n",
        "drive.mount('/content/drive')"
      ],
      "metadata": {
        "id": "PB-2cpLMj_kQ",
        "outputId": "50d672f8-d220-45ca-f058-0799ffab5495",
        "colab": {
          "base_uri": "https://localhost:8080/"
        }
      },
      "execution_count": 5,
      "outputs": [
        {
          "output_type": "stream",
          "name": "stdout",
          "text": [
            "Mounted at /content/drive\n"
          ]
        }
      ]
    },
    {
      "cell_type": "code",
      "execution_count": 12,
      "metadata": {
        "id": "fkZ3bEWuiROF"
      },
      "outputs": [],
      "source": [
        "data_path = '/content/drive/My Drive/HiRID/raw_stage'"
      ]
    },
    {
      "cell_type": "code",
      "source": [
        "import tarfile\n",
        "\n",
        "file_path = '/content/drive/My Drive/HiRID/raw_stage/observation_tables_parquet.tar.gz'\n",
        "extract_path = '/content/observation_tables'\n",
        "\n",
        "with tarfile.open(file_path, 'r:gz') as tar:\n",
        "    tar.extractall(path=extract_path)"
      ],
      "metadata": {
        "id": "ioQc6WUNqag2"
      },
      "execution_count": 15,
      "outputs": []
    },
    {
      "cell_type": "code",
      "source": [
        "import os\n",
        "\n",
        "extracted_files = os.listdir(extract_path)\n",
        "print(extracted_files)"
      ],
      "metadata": {
        "id": "_9SkXN9aLldY",
        "outputId": "ef751e6c-1274-4f7b-b7b0-d70932c78e53",
        "colab": {
          "base_uri": "https://localhost:8080/"
        }
      },
      "execution_count": 23,
      "outputs": [
        {
          "output_type": "stream",
          "name": "stdout",
          "text": [
            "['observation_tables']\n"
          ]
        }
      ]
    },
    {
      "cell_type": "code",
      "source": [
        "\n",
        "all_parquet_files = []\n",
        "for root, dirs, files in os.walk(observation_table_path):\n",
        "    for file in files:\n",
        "        if file.endswith('.parquet'):\n",
        "            all_parquet_files.append(os.path.join(root, file))\n",
        "\n",
        "print(all_parquet_files)"
      ],
      "metadata": {
        "id": "Z3Nu7UVzL5Bo",
        "outputId": "28e94051-24fd-47ce-8d6a-9cc93ead5417",
        "colab": {
          "base_uri": "https://localhost:8080/"
        }
      },
      "execution_count": 28,
      "outputs": [
        {
          "output_type": "stream",
          "name": "stdout",
          "text": [
            "['/content/observation_tables/observation_tables/parquet/part-228.parquet', '/content/observation_tables/observation_tables/parquet/part-135.parquet', '/content/observation_tables/observation_tables/parquet/part-188.parquet', '/content/observation_tables/observation_tables/parquet/part-122.parquet', '/content/observation_tables/observation_tables/parquet/part-18.parquet', '/content/observation_tables/observation_tables/parquet/part-62.parquet', '/content/observation_tables/observation_tables/parquet/part-8.parquet', '/content/observation_tables/observation_tables/parquet/part-185.parquet', '/content/observation_tables/observation_tables/parquet/part-206.parquet', '/content/observation_tables/observation_tables/parquet/part-86.parquet', '/content/observation_tables/observation_tables/parquet/part-154.parquet', '/content/observation_tables/observation_tables/parquet/part-221.parquet', '/content/observation_tables/observation_tables/parquet/part-19.parquet', '/content/observation_tables/observation_tables/parquet/part-184.parquet', '/content/observation_tables/observation_tables/parquet/part-35.parquet', '/content/observation_tables/observation_tables/parquet/part-22.parquet', '/content/observation_tables/observation_tables/parquet/part-213.parquet', '/content/observation_tables/observation_tables/parquet/part-177.parquet', '/content/observation_tables/observation_tables/parquet/part-161.parquet', '/content/observation_tables/observation_tables/parquet/part-139.parquet', '/content/observation_tables/observation_tables/parquet/part-96.parquet', '/content/observation_tables/observation_tables/parquet/part-90.parquet', '/content/observation_tables/observation_tables/parquet/part-66.parquet', '/content/observation_tables/observation_tables/parquet/part-23.parquet', '/content/observation_tables/observation_tables/parquet/part-121.parquet', '/content/observation_tables/observation_tables/parquet/part-159.parquet', '/content/observation_tables/observation_tables/parquet/part-157.parquet', '/content/observation_tables/observation_tables/parquet/part-247.parquet', '/content/observation_tables/observation_tables/parquet/part-30.parquet', '/content/observation_tables/observation_tables/parquet/part-173.parquet', '/content/observation_tables/observation_tables/parquet/part-94.parquet', '/content/observation_tables/observation_tables/parquet/part-147.parquet', '/content/observation_tables/observation_tables/parquet/part-194.parquet', '/content/observation_tables/observation_tables/parquet/part-168.parquet', '/content/observation_tables/observation_tables/parquet/part-164.parquet', '/content/observation_tables/observation_tables/parquet/part-68.parquet', '/content/observation_tables/observation_tables/parquet/part-171.parquet', '/content/observation_tables/observation_tables/parquet/part-137.parquet', '/content/observation_tables/observation_tables/parquet/part-57.parquet', '/content/observation_tables/observation_tables/parquet/part-190.parquet', '/content/observation_tables/observation_tables/parquet/part-209.parquet', '/content/observation_tables/observation_tables/parquet/part-5.parquet', '/content/observation_tables/observation_tables/parquet/part-99.parquet', '/content/observation_tables/observation_tables/parquet/part-152.parquet', '/content/observation_tables/observation_tables/parquet/part-174.parquet', '/content/observation_tables/observation_tables/parquet/part-149.parquet', '/content/observation_tables/observation_tables/parquet/part-201.parquet', '/content/observation_tables/observation_tables/parquet/part-109.parquet', '/content/observation_tables/observation_tables/parquet/part-17.parquet', '/content/observation_tables/observation_tables/parquet/part-48.parquet', '/content/observation_tables/observation_tables/parquet/part-77.parquet', '/content/observation_tables/observation_tables/parquet/part-21.parquet', '/content/observation_tables/observation_tables/parquet/part-1.parquet', '/content/observation_tables/observation_tables/parquet/part-95.parquet', '/content/observation_tables/observation_tables/parquet/part-32.parquet', '/content/observation_tables/observation_tables/parquet/part-125.parquet', '/content/observation_tables/observation_tables/parquet/part-116.parquet', '/content/observation_tables/observation_tables/parquet/part-198.parquet', '/content/observation_tables/observation_tables/parquet/part-235.parquet', '/content/observation_tables/observation_tables/parquet/part-15.parquet', '/content/observation_tables/observation_tables/parquet/part-199.parquet', '/content/observation_tables/observation_tables/parquet/part-132.parquet', '/content/observation_tables/observation_tables/parquet/part-231.parquet', '/content/observation_tables/observation_tables/parquet/part-140.parquet', '/content/observation_tables/observation_tables/parquet/part-237.parquet', '/content/observation_tables/observation_tables/parquet/part-203.parquet', '/content/observation_tables/observation_tables/parquet/part-98.parquet', '/content/observation_tables/observation_tables/parquet/part-145.parquet', '/content/observation_tables/observation_tables/parquet/part-218.parquet', '/content/observation_tables/observation_tables/parquet/part-144.parquet', '/content/observation_tables/observation_tables/parquet/part-92.parquet', '/content/observation_tables/observation_tables/parquet/part-40.parquet', '/content/observation_tables/observation_tables/parquet/part-43.parquet', '/content/observation_tables/observation_tables/parquet/part-3.parquet', '/content/observation_tables/observation_tables/parquet/part-67.parquet', '/content/observation_tables/observation_tables/parquet/part-233.parquet', '/content/observation_tables/observation_tables/parquet/part-197.parquet', '/content/observation_tables/observation_tables/parquet/part-83.parquet', '/content/observation_tables/observation_tables/parquet/part-244.parquet', '/content/observation_tables/observation_tables/parquet/part-178.parquet', '/content/observation_tables/observation_tables/parquet/part-12.parquet', '/content/observation_tables/observation_tables/parquet/part-31.parquet', '/content/observation_tables/observation_tables/parquet/part-193.parquet', '/content/observation_tables/observation_tables/parquet/part-208.parquet', '/content/observation_tables/observation_tables/parquet/part-204.parquet', '/content/observation_tables/observation_tables/parquet/part-126.parquet', '/content/observation_tables/observation_tables/parquet/part-33.parquet', '/content/observation_tables/observation_tables/parquet/part-41.parquet', '/content/observation_tables/observation_tables/parquet/part-73.parquet', '/content/observation_tables/observation_tables/parquet/part-118.parquet', '/content/observation_tables/observation_tables/parquet/part-49.parquet', '/content/observation_tables/observation_tables/parquet/part-42.parquet', '/content/observation_tables/observation_tables/parquet/part-29.parquet', '/content/observation_tables/observation_tables/parquet/part-58.parquet', '/content/observation_tables/observation_tables/parquet/part-211.parquet', '/content/observation_tables/observation_tables/parquet/part-16.parquet', '/content/observation_tables/observation_tables/parquet/part-28.parquet', '/content/observation_tables/observation_tables/parquet/part-27.parquet', '/content/observation_tables/observation_tables/parquet/part-45.parquet', '/content/observation_tables/observation_tables/parquet/part-26.parquet', '/content/observation_tables/observation_tables/parquet/part-50.parquet', '/content/observation_tables/observation_tables/parquet/part-232.parquet', '/content/observation_tables/observation_tables/parquet/part-241.parquet', '/content/observation_tables/observation_tables/parquet/part-38.parquet', '/content/observation_tables/observation_tables/parquet/part-9.parquet', '/content/observation_tables/observation_tables/parquet/part-146.parquet', '/content/observation_tables/observation_tables/parquet/part-7.parquet', '/content/observation_tables/observation_tables/parquet/part-123.parquet', '/content/observation_tables/observation_tables/parquet/part-130.parquet', '/content/observation_tables/observation_tables/parquet/part-127.parquet', '/content/observation_tables/observation_tables/parquet/part-133.parquet', '/content/observation_tables/observation_tables/parquet/part-136.parquet', '/content/observation_tables/observation_tables/parquet/part-76.parquet', '/content/observation_tables/observation_tables/parquet/part-0.parquet', '/content/observation_tables/observation_tables/parquet/part-129.parquet', '/content/observation_tables/observation_tables/parquet/part-131.parquet', '/content/observation_tables/observation_tables/parquet/part-74.parquet', '/content/observation_tables/observation_tables/parquet/part-14.parquet', '/content/observation_tables/observation_tables/parquet/part-151.parquet', '/content/observation_tables/observation_tables/parquet/part-89.parquet', '/content/observation_tables/observation_tables/parquet/part-80.parquet', '/content/observation_tables/observation_tables/parquet/part-215.parquet', '/content/observation_tables/observation_tables/parquet/part-181.parquet', '/content/observation_tables/observation_tables/parquet/part-214.parquet', '/content/observation_tables/observation_tables/parquet/part-195.parquet', '/content/observation_tables/observation_tables/parquet/part-2.parquet', '/content/observation_tables/observation_tables/parquet/part-210.parquet', '/content/observation_tables/observation_tables/parquet/part-167.parquet', '/content/observation_tables/observation_tables/parquet/part-119.parquet', '/content/observation_tables/observation_tables/parquet/part-100.parquet', '/content/observation_tables/observation_tables/parquet/part-111.parquet', '/content/observation_tables/observation_tables/parquet/part-11.parquet', '/content/observation_tables/observation_tables/parquet/part-108.parquet', '/content/observation_tables/observation_tables/parquet/part-54.parquet', '/content/observation_tables/observation_tables/parquet/part-202.parquet', '/content/observation_tables/observation_tables/parquet/part-246.parquet', '/content/observation_tables/observation_tables/parquet/part-4.parquet', '/content/observation_tables/observation_tables/parquet/part-245.parquet', '/content/observation_tables/observation_tables/parquet/part-107.parquet', '/content/observation_tables/observation_tables/parquet/part-55.parquet', '/content/observation_tables/observation_tables/parquet/part-124.parquet', '/content/observation_tables/observation_tables/parquet/part-60.parquet', '/content/observation_tables/observation_tables/parquet/part-192.parquet', '/content/observation_tables/observation_tables/parquet/part-97.parquet', '/content/observation_tables/observation_tables/parquet/part-63.parquet', '/content/observation_tables/observation_tables/parquet/part-196.parquet', '/content/observation_tables/observation_tables/parquet/part-153.parquet', '/content/observation_tables/observation_tables/parquet/part-87.parquet', '/content/observation_tables/observation_tables/parquet/part-156.parquet', '/content/observation_tables/observation_tables/parquet/part-85.parquet', '/content/observation_tables/observation_tables/parquet/part-205.parquet', '/content/observation_tables/observation_tables/parquet/part-134.parquet', '/content/observation_tables/observation_tables/parquet/part-243.parquet', '/content/observation_tables/observation_tables/parquet/part-24.parquet', '/content/observation_tables/observation_tables/parquet/part-88.parquet', '/content/observation_tables/observation_tables/parquet/part-20.parquet', '/content/observation_tables/observation_tables/parquet/part-82.parquet', '/content/observation_tables/observation_tables/parquet/part-175.parquet', '/content/observation_tables/observation_tables/parquet/part-44.parquet', '/content/observation_tables/observation_tables/parquet/part-169.parquet', '/content/observation_tables/observation_tables/parquet/part-212.parquet', '/content/observation_tables/observation_tables/parquet/part-53.parquet', '/content/observation_tables/observation_tables/parquet/part-223.parquet', '/content/observation_tables/observation_tables/parquet/part-138.parquet', '/content/observation_tables/observation_tables/parquet/part-224.parquet', '/content/observation_tables/observation_tables/parquet/part-106.parquet', '/content/observation_tables/observation_tables/parquet/part-191.parquet', '/content/observation_tables/observation_tables/parquet/part-236.parquet', '/content/observation_tables/observation_tables/parquet/part-102.parquet', '/content/observation_tables/observation_tables/parquet/part-13.parquet', '/content/observation_tables/observation_tables/parquet/part-25.parquet', '/content/observation_tables/observation_tables/parquet/part-155.parquet', '/content/observation_tables/observation_tables/parquet/part-248.parquet', '/content/observation_tables/observation_tables/parquet/part-227.parquet', '/content/observation_tables/observation_tables/parquet/part-91.parquet', '/content/observation_tables/observation_tables/parquet/part-230.parquet', '/content/observation_tables/observation_tables/parquet/part-64.parquet', '/content/observation_tables/observation_tables/parquet/part-75.parquet', '/content/observation_tables/observation_tables/parquet/part-216.parquet', '/content/observation_tables/observation_tables/parquet/part-180.parquet', '/content/observation_tables/observation_tables/parquet/part-39.parquet', '/content/observation_tables/observation_tables/parquet/part-101.parquet', '/content/observation_tables/observation_tables/parquet/part-10.parquet', '/content/observation_tables/observation_tables/parquet/part-70.parquet', '/content/observation_tables/observation_tables/parquet/part-141.parquet', '/content/observation_tables/observation_tables/parquet/part-234.parquet', '/content/observation_tables/observation_tables/parquet/part-166.parquet', '/content/observation_tables/observation_tables/parquet/part-115.parquet', '/content/observation_tables/observation_tables/parquet/part-200.parquet', '/content/observation_tables/observation_tables/parquet/part-105.parquet', '/content/observation_tables/observation_tables/parquet/part-46.parquet', '/content/observation_tables/observation_tables/parquet/part-71.parquet', '/content/observation_tables/observation_tables/parquet/part-56.parquet', '/content/observation_tables/observation_tables/parquet/part-114.parquet', '/content/observation_tables/observation_tables/parquet/part-176.parquet', '/content/observation_tables/observation_tables/parquet/part-142.parquet', '/content/observation_tables/observation_tables/parquet/part-225.parquet', '/content/observation_tables/observation_tables/parquet/part-81.parquet', '/content/observation_tables/observation_tables/parquet/part-240.parquet', '/content/observation_tables/observation_tables/parquet/part-65.parquet', '/content/observation_tables/observation_tables/parquet/part-187.parquet', '/content/observation_tables/observation_tables/parquet/part-162.parquet', '/content/observation_tables/observation_tables/parquet/part-242.parquet', '/content/observation_tables/observation_tables/parquet/part-36.parquet', '/content/observation_tables/observation_tables/parquet/part-117.parquet', '/content/observation_tables/observation_tables/parquet/part-229.parquet', '/content/observation_tables/observation_tables/parquet/part-110.parquet', '/content/observation_tables/observation_tables/parquet/part-112.parquet', '/content/observation_tables/observation_tables/parquet/part-148.parquet', '/content/observation_tables/observation_tables/parquet/part-179.parquet', '/content/observation_tables/observation_tables/parquet/part-37.parquet', '/content/observation_tables/observation_tables/parquet/part-186.parquet', '/content/observation_tables/observation_tables/parquet/part-103.parquet', '/content/observation_tables/observation_tables/parquet/part-69.parquet', '/content/observation_tables/observation_tables/parquet/part-165.parquet', '/content/observation_tables/observation_tables/parquet/part-170.parquet', '/content/observation_tables/observation_tables/parquet/part-207.parquet', '/content/observation_tables/observation_tables/parquet/part-34.parquet', '/content/observation_tables/observation_tables/parquet/part-163.parquet', '/content/observation_tables/observation_tables/parquet/part-160.parquet', '/content/observation_tables/observation_tables/parquet/part-249.parquet', '/content/observation_tables/observation_tables/parquet/part-79.parquet', '/content/observation_tables/observation_tables/parquet/part-104.parquet', '/content/observation_tables/observation_tables/parquet/part-189.parquet', '/content/observation_tables/observation_tables/parquet/part-150.parquet', '/content/observation_tables/observation_tables/parquet/part-182.parquet', '/content/observation_tables/observation_tables/parquet/part-219.parquet', '/content/observation_tables/observation_tables/parquet/part-113.parquet', '/content/observation_tables/observation_tables/parquet/part-93.parquet', '/content/observation_tables/observation_tables/parquet/part-226.parquet', '/content/observation_tables/observation_tables/parquet/part-78.parquet', '/content/observation_tables/observation_tables/parquet/part-72.parquet', '/content/observation_tables/observation_tables/parquet/part-6.parquet', '/content/observation_tables/observation_tables/parquet/part-220.parquet', '/content/observation_tables/observation_tables/parquet/part-59.parquet', '/content/observation_tables/observation_tables/parquet/part-222.parquet', '/content/observation_tables/observation_tables/parquet/part-47.parquet', '/content/observation_tables/observation_tables/parquet/part-239.parquet', '/content/observation_tables/observation_tables/parquet/part-120.parquet', '/content/observation_tables/observation_tables/parquet/part-51.parquet', '/content/observation_tables/observation_tables/parquet/part-238.parquet', '/content/observation_tables/observation_tables/parquet/part-158.parquet', '/content/observation_tables/observation_tables/parquet/part-183.parquet', '/content/observation_tables/observation_tables/parquet/part-143.parquet', '/content/observation_tables/observation_tables/parquet/part-217.parquet', '/content/observation_tables/observation_tables/parquet/part-128.parquet', '/content/observation_tables/observation_tables/parquet/part-61.parquet', '/content/observation_tables/observation_tables/parquet/part-52.parquet', '/content/observation_tables/observation_tables/parquet/part-172.parquet', '/content/observation_tables/observation_tables/parquet/part-84.parquet']\n"
          ]
        }
      ]
    },
    {
      "cell_type": "code",
      "source": [
        "for parquet_file in all_parquet_files:\n",
        "    df = pd.read_parquet(parquet_file)\n",
        "    print(f\"Reading file: {parquet_file}\")\n",
        "    print(df.columns)"
      ],
      "metadata": {
        "id": "e1OPjHGjMrzM"
      },
      "execution_count": null,
      "outputs": []
    },
    {
      "cell_type": "markdown",
      "metadata": {
        "id": "10BZpe9CiROG"
      },
      "source": [
        "## Reading using Pandas\n",
        "Required python packages are `pandas` and `pyarrow`"
      ]
    },
    {
      "cell_type": "markdown",
      "metadata": {
        "id": "ry1g0o20iROG"
      },
      "source": [
        "### Reading a part"
      ]
    },
    {
      "cell_type": "code",
      "execution_count": 13,
      "metadata": {
        "id": "kernE_tbiROH"
      },
      "outputs": [],
      "source": [
        "part = 4"
      ]
    },
    {
      "cell_type": "code",
      "execution_count": 14,
      "metadata": {
        "id": "vKZu7E3viROH",
        "outputId": "f0da85fb-2425-46dc-db20-08accbb20d36",
        "colab": {
          "base_uri": "https://localhost:8080/",
          "height": 373
        }
      },
      "outputs": [
        {
          "output_type": "error",
          "ename": "FileNotFoundError",
          "evalue": "[Errno 2] No such file or directory: 'observation_tables/parquet/part-4.parquet'",
          "traceback": [
            "\u001b[0;31m---------------------------------------------------------------------------\u001b[0m",
            "\u001b[0;31mFileNotFoundError\u001b[0m                         Traceback (most recent call last)",
            "\u001b[0;32m<ipython-input-14-0b23b64171a2>\u001b[0m in \u001b[0;36m<cell line: 0>\u001b[0;34m()\u001b[0m\n\u001b[0;32m----> 1\u001b[0;31m \u001b[0mdf_part\u001b[0m \u001b[0;34m=\u001b[0m \u001b[0mpd\u001b[0m\u001b[0;34m.\u001b[0m\u001b[0mread_parquet\u001b[0m\u001b[0;34m(\u001b[0m\u001b[0mos\u001b[0m\u001b[0;34m.\u001b[0m\u001b[0mpath\u001b[0m\u001b[0;34m.\u001b[0m\u001b[0mjoin\u001b[0m\u001b[0;34m(\u001b[0m\u001b[0;34m'observation_tables'\u001b[0m\u001b[0;34m,\u001b[0m \u001b[0;34m'parquet'\u001b[0m\u001b[0;34m,\u001b[0m \u001b[0;34mf'part-{part}.parquet'\u001b[0m\u001b[0;34m)\u001b[0m\u001b[0;34m)\u001b[0m\u001b[0;34m\u001b[0m\u001b[0;34m\u001b[0m\u001b[0m\n\u001b[0m\u001b[1;32m      2\u001b[0m \u001b[0;31m#df_part['value'].count()\u001b[0m\u001b[0;34m\u001b[0m\u001b[0;34m\u001b[0m\u001b[0m\n\u001b[1;32m      3\u001b[0m \u001b[0mprint\u001b[0m\u001b[0;34m(\u001b[0m\u001b[0mdf_part\u001b[0m\u001b[0;34m.\u001b[0m\u001b[0mcolumns\u001b[0m\u001b[0;34m)\u001b[0m\u001b[0;34m\u001b[0m\u001b[0;34m\u001b[0m\u001b[0m\n",
            "\u001b[0;32m/usr/local/lib/python3.11/dist-packages/pandas/io/parquet.py\u001b[0m in \u001b[0;36mread_parquet\u001b[0;34m(path, engine, columns, storage_options, use_nullable_dtypes, dtype_backend, filesystem, filters, **kwargs)\u001b[0m\n\u001b[1;32m    665\u001b[0m     \u001b[0mcheck_dtype_backend\u001b[0m\u001b[0;34m(\u001b[0m\u001b[0mdtype_backend\u001b[0m\u001b[0;34m)\u001b[0m\u001b[0;34m\u001b[0m\u001b[0;34m\u001b[0m\u001b[0m\n\u001b[1;32m    666\u001b[0m \u001b[0;34m\u001b[0m\u001b[0m\n\u001b[0;32m--> 667\u001b[0;31m     return impl.read(\n\u001b[0m\u001b[1;32m    668\u001b[0m         \u001b[0mpath\u001b[0m\u001b[0;34m,\u001b[0m\u001b[0;34m\u001b[0m\u001b[0;34m\u001b[0m\u001b[0m\n\u001b[1;32m    669\u001b[0m         \u001b[0mcolumns\u001b[0m\u001b[0;34m=\u001b[0m\u001b[0mcolumns\u001b[0m\u001b[0;34m,\u001b[0m\u001b[0;34m\u001b[0m\u001b[0;34m\u001b[0m\u001b[0m\n",
            "\u001b[0;32m/usr/local/lib/python3.11/dist-packages/pandas/io/parquet.py\u001b[0m in \u001b[0;36mread\u001b[0;34m(self, path, columns, filters, use_nullable_dtypes, dtype_backend, storage_options, filesystem, **kwargs)\u001b[0m\n\u001b[1;32m    265\u001b[0m             \u001b[0mto_pandas_kwargs\u001b[0m\u001b[0;34m[\u001b[0m\u001b[0;34m\"split_blocks\"\u001b[0m\u001b[0;34m]\u001b[0m \u001b[0;34m=\u001b[0m \u001b[0;32mTrue\u001b[0m  \u001b[0;31m# type: ignore[assignment]\u001b[0m\u001b[0;34m\u001b[0m\u001b[0;34m\u001b[0m\u001b[0m\n\u001b[1;32m    266\u001b[0m \u001b[0;34m\u001b[0m\u001b[0m\n\u001b[0;32m--> 267\u001b[0;31m         path_or_handle, handles, filesystem = _get_path_or_handle(\n\u001b[0m\u001b[1;32m    268\u001b[0m             \u001b[0mpath\u001b[0m\u001b[0;34m,\u001b[0m\u001b[0;34m\u001b[0m\u001b[0;34m\u001b[0m\u001b[0m\n\u001b[1;32m    269\u001b[0m             \u001b[0mfilesystem\u001b[0m\u001b[0;34m,\u001b[0m\u001b[0;34m\u001b[0m\u001b[0;34m\u001b[0m\u001b[0m\n",
            "\u001b[0;32m/usr/local/lib/python3.11/dist-packages/pandas/io/parquet.py\u001b[0m in \u001b[0;36m_get_path_or_handle\u001b[0;34m(path, fs, storage_options, mode, is_dir)\u001b[0m\n\u001b[1;32m    138\u001b[0m         \u001b[0;31m# fsspec resources can also point to directories\u001b[0m\u001b[0;34m\u001b[0m\u001b[0;34m\u001b[0m\u001b[0m\n\u001b[1;32m    139\u001b[0m         \u001b[0;31m# this branch is used for example when reading from non-fsspec URLs\u001b[0m\u001b[0;34m\u001b[0m\u001b[0;34m\u001b[0m\u001b[0m\n\u001b[0;32m--> 140\u001b[0;31m         handles = get_handle(\n\u001b[0m\u001b[1;32m    141\u001b[0m             \u001b[0mpath_or_handle\u001b[0m\u001b[0;34m,\u001b[0m \u001b[0mmode\u001b[0m\u001b[0;34m,\u001b[0m \u001b[0mis_text\u001b[0m\u001b[0;34m=\u001b[0m\u001b[0;32mFalse\u001b[0m\u001b[0;34m,\u001b[0m \u001b[0mstorage_options\u001b[0m\u001b[0;34m=\u001b[0m\u001b[0mstorage_options\u001b[0m\u001b[0;34m\u001b[0m\u001b[0;34m\u001b[0m\u001b[0m\n\u001b[1;32m    142\u001b[0m         )\n",
            "\u001b[0;32m/usr/local/lib/python3.11/dist-packages/pandas/io/common.py\u001b[0m in \u001b[0;36mget_handle\u001b[0;34m(path_or_buf, mode, encoding, compression, memory_map, is_text, errors, storage_options)\u001b[0m\n\u001b[1;32m    880\u001b[0m         \u001b[0;32melse\u001b[0m\u001b[0;34m:\u001b[0m\u001b[0;34m\u001b[0m\u001b[0;34m\u001b[0m\u001b[0m\n\u001b[1;32m    881\u001b[0m             \u001b[0;31m# Binary mode\u001b[0m\u001b[0;34m\u001b[0m\u001b[0;34m\u001b[0m\u001b[0m\n\u001b[0;32m--> 882\u001b[0;31m             \u001b[0mhandle\u001b[0m \u001b[0;34m=\u001b[0m \u001b[0mopen\u001b[0m\u001b[0;34m(\u001b[0m\u001b[0mhandle\u001b[0m\u001b[0;34m,\u001b[0m \u001b[0mioargs\u001b[0m\u001b[0;34m.\u001b[0m\u001b[0mmode\u001b[0m\u001b[0;34m)\u001b[0m\u001b[0;34m\u001b[0m\u001b[0;34m\u001b[0m\u001b[0m\n\u001b[0m\u001b[1;32m    883\u001b[0m         \u001b[0mhandles\u001b[0m\u001b[0;34m.\u001b[0m\u001b[0mappend\u001b[0m\u001b[0;34m(\u001b[0m\u001b[0mhandle\u001b[0m\u001b[0;34m)\u001b[0m\u001b[0;34m\u001b[0m\u001b[0;34m\u001b[0m\u001b[0m\n\u001b[1;32m    884\u001b[0m \u001b[0;34m\u001b[0m\u001b[0m\n",
            "\u001b[0;31mFileNotFoundError\u001b[0m: [Errno 2] No such file or directory: 'observation_tables/parquet/part-4.parquet'"
          ]
        }
      ],
      "source": [
        "df_part = pd.read_parquet(os.path.join('observation_tables', 'parquet', f'part-{part}.parquet'))\n",
        "#df_part['value'].count()\n",
        "print(df_part.columns)"
      ]
    },
    {
      "cell_type": "markdown",
      "metadata": {
        "id": "7rU6rhyPiROH"
      },
      "source": [
        "### Reading a specific patient"
      ]
    },
    {
      "cell_type": "code",
      "execution_count": null,
      "metadata": {
        "id": "8hB4kH-ciROH"
      },
      "outputs": [],
      "source": [
        "patientid = 3"
      ]
    },
    {
      "cell_type": "code",
      "execution_count": null,
      "metadata": {
        "id": "AxcKNbUaiROI"
      },
      "outputs": [],
      "source": [
        "def load_patient_index(path):\n",
        "    df_ind = pd.read_csv(path)\n",
        "    return { pid : part for (pid, part) in zip(df_ind['patientid'], df_ind['part'])}\n",
        "\n",
        "pat_index = load_patient_index(os.path.join(data_path, 'observation_tables', 'observation_tables_index.csv'))"
      ]
    },
    {
      "cell_type": "code",
      "execution_count": null,
      "metadata": {
        "id": "ymY6zOMKiROI"
      },
      "outputs": [],
      "source": [
        "def load_patient(pid, data_path, pat_index):\n",
        "    df_part = pd.read_parquet(os.path.join(data_path, 'observation_tables', 'parquet', f\"part-{pat_index[pid]}.parquet\"))\n",
        "\n",
        "    return df_part.query(f'patientid == {pid}')\n",
        "\n",
        "print (\"Patient {} in partition {}.\".format(patientid, pat_index[patientid]))\n",
        "load_patient(3, data_path, pat_index)"
      ]
    },
    {
      "cell_type": "markdown",
      "metadata": {
        "id": "B2yI2G4fiROI"
      },
      "source": [
        "### Stats over columns\n",
        "\n",
        "`pandas` can also read several parts at the same time. To save memory, only the needed columns can be selected."
      ]
    },
    {
      "cell_type": "code",
      "execution_count": null,
      "metadata": {
        "id": "_-Qb0doTiROI"
      },
      "outputs": [],
      "source": [
        "df_ph = pd.read_parquet(os.path.join(data_path, 'pharma_records', 'parquet'), columns=['pharmaid', 'givendose'])"
      ]
    },
    {
      "cell_type": "code",
      "execution_count": null,
      "metadata": {
        "id": "3sV189JuiROI"
      },
      "outputs": [],
      "source": [
        "df_ph.info()"
      ]
    },
    {
      "cell_type": "code",
      "execution_count": null,
      "metadata": {
        "id": "gbunR1qwiROI"
      },
      "outputs": [],
      "source": [
        "# stats over augmentin doses\n",
        "df_ph.query('pharmaid == 1000274')['givendose'].describe()"
      ]
    },
    {
      "cell_type": "markdown",
      "metadata": {
        "id": "nd39V0jFiROJ"
      },
      "source": [
        "## Using spark\n",
        "\n",
        "Access with `pyspark` (no need for a cluster)"
      ]
    },
    {
      "cell_type": "code",
      "execution_count": null,
      "metadata": {
        "id": "uU2A1S7ziROJ"
      },
      "outputs": [],
      "source": [
        "from pyspark.sql import SparkSession\n",
        "from pyspark.conf import SparkConf\n",
        "\n",
        "from pyspark.sql import functions as sf"
      ]
    },
    {
      "cell_type": "code",
      "execution_count": null,
      "metadata": {
        "id": "TB0MePx2iROJ"
      },
      "outputs": [],
      "source": [
        "def get_spark_session(cores, memory_per_executor):\n",
        "    driver_mem = cores * memory_per_executor + 2000 # + some driver overhead\n",
        "\n",
        "    cfg = (SparkConf().set(\"spark.driver.memory\", \"{}m\".format(driver_mem)).\n",
        "            set(\"spark.executor.memory\", \"{}m\".format(memory_per_executor)).\n",
        "            set(\"spark.master\", \"local[{}]\".format(cores)).\n",
        "            set(\"spark.sql.execution.arrow.enabled\", True)\n",
        "          )\n",
        "\n",
        "    return (SparkSession.\n",
        "             builder.\n",
        "             config(conf=cfg).\n",
        "             getOrCreate())"
      ]
    },
    {
      "cell_type": "code",
      "execution_count": null,
      "metadata": {
        "id": "woKI2PwxiROJ"
      },
      "outputs": [],
      "source": [
        "spark = get_spark_session(4, 1024)"
      ]
    },
    {
      "cell_type": "markdown",
      "metadata": {
        "id": "J-x9I806iROJ"
      },
      "source": [
        "### Stats over columns"
      ]
    },
    {
      "cell_type": "code",
      "execution_count": null,
      "metadata": {
        "id": "kALBu6KuiROJ"
      },
      "outputs": [],
      "source": [
        "df_obs = spark.read.parquet(os.path.join(data_path, 'observation_tables', 'parquet'))"
      ]
    },
    {
      "cell_type": "code",
      "execution_count": null,
      "metadata": {
        "id": "VOAUDwnGiROJ"
      },
      "outputs": [],
      "source": [
        "# stats over weights (considering all parts)\n",
        "df_obs.where('variableid == 10000400').select('value').summary().toPandas()"
      ]
    }
  ],
  "metadata": {
    "hide_input": false,
    "kernelspec": {
      "display_name": "Python 3",
      "language": "python",
      "name": "python3"
    },
    "language_info": {
      "codemirror_mode": {
        "name": "ipython",
        "version": 3
      },
      "file_extension": ".py",
      "mimetype": "text/x-python",
      "name": "python",
      "nbconvert_exporter": "python",
      "pygments_lexer": "ipython3",
      "version": "3.7.5"
    },
    "toc": {
      "base_numbering": 1,
      "nav_menu": {},
      "number_sections": true,
      "sideBar": true,
      "skip_h1_title": false,
      "title_cell": "Table of Contents",
      "title_sidebar": "Contents",
      "toc_cell": false,
      "toc_position": {},
      "toc_section_display": true,
      "toc_window_display": false
    },
    "varInspector": {
      "cols": {
        "lenName": 16,
        "lenType": 16,
        "lenVar": 40
      },
      "kernels_config": {
        "python": {
          "delete_cmd_postfix": "",
          "delete_cmd_prefix": "del ",
          "library": "var_list.py",
          "varRefreshCmd": "print(var_dic_list())"
        },
        "r": {
          "delete_cmd_postfix": ") ",
          "delete_cmd_prefix": "rm(",
          "library": "var_list.r",
          "varRefreshCmd": "cat(var_dic_list()) "
        }
      },
      "types_to_exclude": [
        "module",
        "function",
        "builtin_function_or_method",
        "instance",
        "_Feature"
      ],
      "window_display": false
    },
    "colab": {
      "provenance": [],
      "include_colab_link": true
    }
  },
  "nbformat": 4,
  "nbformat_minor": 0
}