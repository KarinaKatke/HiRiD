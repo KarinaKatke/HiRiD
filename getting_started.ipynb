{
  "cells": [
    {
      "cell_type": "markdown",
      "metadata": {
        "id": "view-in-github",
        "colab_type": "text"
      },
      "source": [
        "<a href=\"https://colab.research.google.com/github/KarinaKatke/HiRiD/blob/main/getting_started.ipynb\" target=\"_parent\"><img src=\"https://colab.research.google.com/assets/colab-badge.svg\" alt=\"Open In Colab\"/></a>"
      ]
    },
    {
      "cell_type": "code",
      "execution_count": 4,
      "metadata": {
        "id": "krmx5PmjiROE"
      },
      "outputs": [],
      "source": [
        "import glob\n",
        "import math\n",
        "import numpy as np\n",
        "import os\n",
        "import pandas as pd\n",
        "import re\n",
        "import shutil\n",
        "import sys\n",
        "import scipy\n",
        "from sklearn.preprocessing import MinMaxScaler\n",
        "import seaborn as sns\n",
        "import matplotlib.pyplot as plt\n"
      ]
    },
    {
      "cell_type": "code",
      "source": [
        "from google.colab import drive\n",
        "drive.mount('/content/drive')"
      ],
      "metadata": {
        "id": "PB-2cpLMj_kQ",
        "outputId": "425f5a14-1103-406c-a77c-348e781df161",
        "colab": {
          "base_uri": "https://localhost:8080/"
        }
      },
      "execution_count": 5,
      "outputs": [
        {
          "output_type": "stream",
          "name": "stdout",
          "text": [
            "Drive already mounted at /content/drive; to attempt to forcibly remount, call drive.mount(\"/content/drive\", force_remount=True).\n"
          ]
        }
      ]
    },
    {
      "cell_type": "code",
      "execution_count": 6,
      "metadata": {
        "id": "fkZ3bEWuiROF"
      },
      "outputs": [],
      "source": [
        "data_path = '/content/drive/My Drive/HiRID/raw_stage'"
      ]
    },
    {
      "cell_type": "code",
      "source": [
        "# Extract Raw Data\n",
        "import tarfile\n",
        "\n",
        "file_path = '/content/drive/My Drive/HiRID/raw_stage/observation_tables_parquet.tar.gz'\n",
        "extract_path = '/content/observation_tables'\n",
        "\n",
        "with tarfile.open(file_path, 'r:gz') as tar:\n",
        "    tar.extractall(path=extract_path)"
      ],
      "metadata": {
        "id": "ioQc6WUNqag2"
      },
      "execution_count": 7,
      "outputs": []
    },
    {
      "cell_type": "code",
      "source": [
        "extracted_files = os.listdir(extract_path)\n",
        "print(extracted_files)"
      ],
      "metadata": {
        "id": "_9SkXN9aLldY",
        "outputId": "6ca2cb1b-82a9-4bd6-fa4b-99140366a605",
        "colab": {
          "base_uri": "https://localhost:8080/"
        }
      },
      "execution_count": 8,
      "outputs": [
        {
          "output_type": "stream",
          "name": "stdout",
          "text": [
            "['observation_tables']\n"
          ]
        }
      ]
    },
    {
      "cell_type": "code",
      "source": [
        "observation_table_path = os.path.join(extract_path, 'observation_tables')"
      ],
      "metadata": {
        "id": "JhfryoTKq0tD"
      },
      "execution_count": 9,
      "outputs": []
    },
    {
      "cell_type": "code",
      "source": [
        "# Listing of all parquet files\n",
        "all_parquet_files = []\n",
        "for root, dirs, files in os.walk(observation_table_path):\n",
        "    for file in files:\n",
        "        if file.endswith('.parquet'):\n",
        "            all_parquet_files.append(os.path.join(root, file))\n",
        "\n",
        "print(all_parquet_files)"
      ],
      "metadata": {
        "id": "Z3Nu7UVzL5Bo",
        "outputId": "9bca9edc-f1bc-46d5-a3c1-2f83c68973dc",
        "colab": {
          "base_uri": "https://localhost:8080/"
        }
      },
      "execution_count": 10,
      "outputs": [
        {
          "output_type": "stream",
          "name": "stdout",
          "text": [
            "['/content/observation_tables/observation_tables/parquet/part-248.parquet', '/content/observation_tables/observation_tables/parquet/part-220.parquet', '/content/observation_tables/observation_tables/parquet/part-114.parquet', '/content/observation_tables/observation_tables/parquet/part-208.parquet', '/content/observation_tables/observation_tables/parquet/part-50.parquet', '/content/observation_tables/observation_tables/parquet/part-102.parquet', '/content/observation_tables/observation_tables/parquet/part-184.parquet', '/content/observation_tables/observation_tables/parquet/part-213.parquet', '/content/observation_tables/observation_tables/parquet/part-209.parquet', '/content/observation_tables/observation_tables/parquet/part-81.parquet', '/content/observation_tables/observation_tables/parquet/part-51.parquet', '/content/observation_tables/observation_tables/parquet/part-148.parquet', '/content/observation_tables/observation_tables/parquet/part-7.parquet', '/content/observation_tables/observation_tables/parquet/part-53.parquet', '/content/observation_tables/observation_tables/parquet/part-187.parquet', '/content/observation_tables/observation_tables/parquet/part-22.parquet', '/content/observation_tables/observation_tables/parquet/part-31.parquet', '/content/observation_tables/observation_tables/parquet/part-70.parquet', '/content/observation_tables/observation_tables/parquet/part-12.parquet', '/content/observation_tables/observation_tables/parquet/part-226.parquet', '/content/observation_tables/observation_tables/parquet/part-46.parquet', '/content/observation_tables/observation_tables/parquet/part-223.parquet', '/content/observation_tables/observation_tables/parquet/part-119.parquet', '/content/observation_tables/observation_tables/parquet/part-21.parquet', '/content/observation_tables/observation_tables/parquet/part-210.parquet', '/content/observation_tables/observation_tables/parquet/part-100.parquet', '/content/observation_tables/observation_tables/parquet/part-149.parquet', '/content/observation_tables/observation_tables/parquet/part-3.parquet', '/content/observation_tables/observation_tables/parquet/part-235.parquet', '/content/observation_tables/observation_tables/parquet/part-218.parquet', '/content/observation_tables/observation_tables/parquet/part-74.parquet', '/content/observation_tables/observation_tables/parquet/part-140.parquet', '/content/observation_tables/observation_tables/parquet/part-191.parquet', '/content/observation_tables/observation_tables/parquet/part-163.parquet', '/content/observation_tables/observation_tables/parquet/part-189.parquet', '/content/observation_tables/observation_tables/parquet/part-175.parquet', '/content/observation_tables/observation_tables/parquet/part-17.parquet', '/content/observation_tables/observation_tables/parquet/part-92.parquet', '/content/observation_tables/observation_tables/parquet/part-231.parquet', '/content/observation_tables/observation_tables/parquet/part-177.parquet', '/content/observation_tables/observation_tables/parquet/part-224.parquet', '/content/observation_tables/observation_tables/parquet/part-125.parquet', '/content/observation_tables/observation_tables/parquet/part-172.parquet', '/content/observation_tables/observation_tables/parquet/part-52.parquet', '/content/observation_tables/observation_tables/parquet/part-179.parquet', '/content/observation_tables/observation_tables/parquet/part-169.parquet', '/content/observation_tables/observation_tables/parquet/part-15.parquet', '/content/observation_tables/observation_tables/parquet/part-144.parquet', '/content/observation_tables/observation_tables/parquet/part-129.parquet', '/content/observation_tables/observation_tables/parquet/part-135.parquet', '/content/observation_tables/observation_tables/parquet/part-105.parquet', '/content/observation_tables/observation_tables/parquet/part-138.parquet', '/content/observation_tables/observation_tables/parquet/part-33.parquet', '/content/observation_tables/observation_tables/parquet/part-77.parquet', '/content/observation_tables/observation_tables/parquet/part-38.parquet', '/content/observation_tables/observation_tables/parquet/part-78.parquet', '/content/observation_tables/observation_tables/parquet/part-95.parquet', '/content/observation_tables/observation_tables/parquet/part-42.parquet', '/content/observation_tables/observation_tables/parquet/part-69.parquet', '/content/observation_tables/observation_tables/parquet/part-29.parquet', '/content/observation_tables/observation_tables/parquet/part-236.parquet', '/content/observation_tables/observation_tables/parquet/part-83.parquet', '/content/observation_tables/observation_tables/parquet/part-35.parquet', '/content/observation_tables/observation_tables/parquet/part-39.parquet', '/content/observation_tables/observation_tables/parquet/part-190.parquet', '/content/observation_tables/observation_tables/parquet/part-193.parquet', '/content/observation_tables/observation_tables/parquet/part-55.parquet', '/content/observation_tables/observation_tables/parquet/part-228.parquet', '/content/observation_tables/observation_tables/parquet/part-180.parquet', '/content/observation_tables/observation_tables/parquet/part-107.parquet', '/content/observation_tables/observation_tables/parquet/part-44.parquet', '/content/observation_tables/observation_tables/parquet/part-6.parquet', '/content/observation_tables/observation_tables/parquet/part-123.parquet', '/content/observation_tables/observation_tables/parquet/part-45.parquet', '/content/observation_tables/observation_tables/parquet/part-89.parquet', '/content/observation_tables/observation_tables/parquet/part-153.parquet', '/content/observation_tables/observation_tables/parquet/part-225.parquet', '/content/observation_tables/observation_tables/parquet/part-196.parquet', '/content/observation_tables/observation_tables/parquet/part-23.parquet', '/content/observation_tables/observation_tables/parquet/part-247.parquet', '/content/observation_tables/observation_tables/parquet/part-229.parquet', '/content/observation_tables/observation_tables/parquet/part-24.parquet', '/content/observation_tables/observation_tables/parquet/part-112.parquet', '/content/observation_tables/observation_tables/parquet/part-13.parquet', '/content/observation_tables/observation_tables/parquet/part-188.parquet', '/content/observation_tables/observation_tables/parquet/part-103.parquet', '/content/observation_tables/observation_tables/parquet/part-117.parquet', '/content/observation_tables/observation_tables/parquet/part-183.parquet', '/content/observation_tables/observation_tables/parquet/part-27.parquet', '/content/observation_tables/observation_tables/parquet/part-186.parquet', '/content/observation_tables/observation_tables/parquet/part-197.parquet', '/content/observation_tables/observation_tables/parquet/part-11.parquet', '/content/observation_tables/observation_tables/parquet/part-130.parquet', '/content/observation_tables/observation_tables/parquet/part-198.parquet', '/content/observation_tables/observation_tables/parquet/part-206.parquet', '/content/observation_tables/observation_tables/parquet/part-162.parquet', '/content/observation_tables/observation_tables/parquet/part-164.parquet', '/content/observation_tables/observation_tables/parquet/part-176.parquet', '/content/observation_tables/observation_tables/parquet/part-246.parquet', '/content/observation_tables/observation_tables/parquet/part-160.parquet', '/content/observation_tables/observation_tables/parquet/part-98.parquet', '/content/observation_tables/observation_tables/parquet/part-192.parquet', '/content/observation_tables/observation_tables/parquet/part-113.parquet', '/content/observation_tables/observation_tables/parquet/part-32.parquet', '/content/observation_tables/observation_tables/parquet/part-43.parquet', '/content/observation_tables/observation_tables/parquet/part-219.parquet', '/content/observation_tables/observation_tables/parquet/part-139.parquet', '/content/observation_tables/observation_tables/parquet/part-146.parquet', '/content/observation_tables/observation_tables/parquet/part-126.parquet', '/content/observation_tables/observation_tables/parquet/part-216.parquet', '/content/observation_tables/observation_tables/parquet/part-86.parquet', '/content/observation_tables/observation_tables/parquet/part-104.parquet', '/content/observation_tables/observation_tables/parquet/part-243.parquet', '/content/observation_tables/observation_tables/parquet/part-232.parquet', '/content/observation_tables/observation_tables/parquet/part-202.parquet', '/content/observation_tables/observation_tables/parquet/part-5.parquet', '/content/observation_tables/observation_tables/parquet/part-142.parquet', '/content/observation_tables/observation_tables/parquet/part-212.parquet', '/content/observation_tables/observation_tables/parquet/part-99.parquet', '/content/observation_tables/observation_tables/parquet/part-245.parquet', '/content/observation_tables/observation_tables/parquet/part-178.parquet', '/content/observation_tables/observation_tables/parquet/part-221.parquet', '/content/observation_tables/observation_tables/parquet/part-61.parquet', '/content/observation_tables/observation_tables/parquet/part-71.parquet', '/content/observation_tables/observation_tables/parquet/part-227.parquet', '/content/observation_tables/observation_tables/parquet/part-170.parquet', '/content/observation_tables/observation_tables/parquet/part-49.parquet', '/content/observation_tables/observation_tables/parquet/part-47.parquet', '/content/observation_tables/observation_tables/parquet/part-85.parquet', '/content/observation_tables/observation_tables/parquet/part-222.parquet', '/content/observation_tables/observation_tables/parquet/part-26.parquet', '/content/observation_tables/observation_tables/parquet/part-40.parquet', '/content/observation_tables/observation_tables/parquet/part-96.parquet', '/content/observation_tables/observation_tables/parquet/part-217.parquet', '/content/observation_tables/observation_tables/parquet/part-215.parquet', '/content/observation_tables/observation_tables/parquet/part-48.parquet', '/content/observation_tables/observation_tables/parquet/part-80.parquet', '/content/observation_tables/observation_tables/parquet/part-156.parquet', '/content/observation_tables/observation_tables/parquet/part-118.parquet', '/content/observation_tables/observation_tables/parquet/part-79.parquet', '/content/observation_tables/observation_tables/parquet/part-75.parquet', '/content/observation_tables/observation_tables/parquet/part-60.parquet', '/content/observation_tables/observation_tables/parquet/part-134.parquet', '/content/observation_tables/observation_tables/parquet/part-101.parquet', '/content/observation_tables/observation_tables/parquet/part-152.parquet', '/content/observation_tables/observation_tables/parquet/part-2.parquet', '/content/observation_tables/observation_tables/parquet/part-41.parquet', '/content/observation_tables/observation_tables/parquet/part-181.parquet', '/content/observation_tables/observation_tables/parquet/part-230.parquet', '/content/observation_tables/observation_tables/parquet/part-20.parquet', '/content/observation_tables/observation_tables/parquet/part-155.parquet', '/content/observation_tables/observation_tables/parquet/part-249.parquet', '/content/observation_tables/observation_tables/parquet/part-19.parquet', '/content/observation_tables/observation_tables/parquet/part-120.parquet', '/content/observation_tables/observation_tables/parquet/part-57.parquet', '/content/observation_tables/observation_tables/parquet/part-168.parquet', '/content/observation_tables/observation_tables/parquet/part-65.parquet', '/content/observation_tables/observation_tables/parquet/part-171.parquet', '/content/observation_tables/observation_tables/parquet/part-28.parquet', '/content/observation_tables/observation_tables/parquet/part-151.parquet', '/content/observation_tables/observation_tables/parquet/part-64.parquet', '/content/observation_tables/observation_tables/parquet/part-8.parquet', '/content/observation_tables/observation_tables/parquet/part-234.parquet', '/content/observation_tables/observation_tables/parquet/part-141.parquet', '/content/observation_tables/observation_tables/parquet/part-195.parquet', '/content/observation_tables/observation_tables/parquet/part-173.parquet', '/content/observation_tables/observation_tables/parquet/part-62.parquet', '/content/observation_tables/observation_tables/parquet/part-36.parquet', '/content/observation_tables/observation_tables/parquet/part-201.parquet', '/content/observation_tables/observation_tables/parquet/part-143.parquet', '/content/observation_tables/observation_tables/parquet/part-0.parquet', '/content/observation_tables/observation_tables/parquet/part-136.parquet', '/content/observation_tables/observation_tables/parquet/part-108.parquet', '/content/observation_tables/observation_tables/parquet/part-204.parquet', '/content/observation_tables/observation_tables/parquet/part-233.parquet', '/content/observation_tables/observation_tables/parquet/part-131.parquet', '/content/observation_tables/observation_tables/parquet/part-200.parquet', '/content/observation_tables/observation_tables/parquet/part-147.parquet', '/content/observation_tables/observation_tables/parquet/part-16.parquet', '/content/observation_tables/observation_tables/parquet/part-97.parquet', '/content/observation_tables/observation_tables/parquet/part-93.parquet', '/content/observation_tables/observation_tables/parquet/part-25.parquet', '/content/observation_tables/observation_tables/parquet/part-237.parquet', '/content/observation_tables/observation_tables/parquet/part-128.parquet', '/content/observation_tables/observation_tables/parquet/part-1.parquet', '/content/observation_tables/observation_tables/parquet/part-94.parquet', '/content/observation_tables/observation_tables/parquet/part-122.parquet', '/content/observation_tables/observation_tables/parquet/part-82.parquet', '/content/observation_tables/observation_tables/parquet/part-111.parquet', '/content/observation_tables/observation_tables/parquet/part-158.parquet', '/content/observation_tables/observation_tables/parquet/part-132.parquet', '/content/observation_tables/observation_tables/parquet/part-4.parquet', '/content/observation_tables/observation_tables/parquet/part-67.parquet', '/content/observation_tables/observation_tables/parquet/part-109.parquet', '/content/observation_tables/observation_tables/parquet/part-242.parquet', '/content/observation_tables/observation_tables/parquet/part-211.parquet', '/content/observation_tables/observation_tables/parquet/part-37.parquet', '/content/observation_tables/observation_tables/parquet/part-214.parquet', '/content/observation_tables/observation_tables/parquet/part-91.parquet', '/content/observation_tables/observation_tables/parquet/part-90.parquet', '/content/observation_tables/observation_tables/parquet/part-56.parquet', '/content/observation_tables/observation_tables/parquet/part-207.parquet', '/content/observation_tables/observation_tables/parquet/part-58.parquet', '/content/observation_tables/observation_tables/parquet/part-159.parquet', '/content/observation_tables/observation_tables/parquet/part-76.parquet', '/content/observation_tables/observation_tables/parquet/part-199.parquet', '/content/observation_tables/observation_tables/parquet/part-54.parquet', '/content/observation_tables/observation_tables/parquet/part-133.parquet', '/content/observation_tables/observation_tables/parquet/part-66.parquet', '/content/observation_tables/observation_tables/parquet/part-88.parquet', '/content/observation_tables/observation_tables/parquet/part-182.parquet', '/content/observation_tables/observation_tables/parquet/part-14.parquet', '/content/observation_tables/observation_tables/parquet/part-84.parquet', '/content/observation_tables/observation_tables/parquet/part-127.parquet', '/content/observation_tables/observation_tables/parquet/part-145.parquet', '/content/observation_tables/observation_tables/parquet/part-87.parquet', '/content/observation_tables/observation_tables/parquet/part-167.parquet', '/content/observation_tables/observation_tables/parquet/part-154.parquet', '/content/observation_tables/observation_tables/parquet/part-238.parquet', '/content/observation_tables/observation_tables/parquet/part-115.parquet', '/content/observation_tables/observation_tables/parquet/part-63.parquet', '/content/observation_tables/observation_tables/parquet/part-205.parquet', '/content/observation_tables/observation_tables/parquet/part-59.parquet', '/content/observation_tables/observation_tables/parquet/part-239.parquet', '/content/observation_tables/observation_tables/parquet/part-124.parquet', '/content/observation_tables/observation_tables/parquet/part-194.parquet', '/content/observation_tables/observation_tables/parquet/part-137.parquet', '/content/observation_tables/observation_tables/parquet/part-174.parquet', '/content/observation_tables/observation_tables/parquet/part-185.parquet', '/content/observation_tables/observation_tables/parquet/part-9.parquet', '/content/observation_tables/observation_tables/parquet/part-30.parquet', '/content/observation_tables/observation_tables/parquet/part-72.parquet', '/content/observation_tables/observation_tables/parquet/part-121.parquet', '/content/observation_tables/observation_tables/parquet/part-166.parquet', '/content/observation_tables/observation_tables/parquet/part-240.parquet', '/content/observation_tables/observation_tables/parquet/part-73.parquet', '/content/observation_tables/observation_tables/parquet/part-116.parquet', '/content/observation_tables/observation_tables/parquet/part-110.parquet', '/content/observation_tables/observation_tables/parquet/part-10.parquet', '/content/observation_tables/observation_tables/parquet/part-34.parquet', '/content/observation_tables/observation_tables/parquet/part-161.parquet', '/content/observation_tables/observation_tables/parquet/part-150.parquet', '/content/observation_tables/observation_tables/parquet/part-241.parquet', '/content/observation_tables/observation_tables/parquet/part-165.parquet', '/content/observation_tables/observation_tables/parquet/part-106.parquet', '/content/observation_tables/observation_tables/parquet/part-203.parquet', '/content/observation_tables/observation_tables/parquet/part-244.parquet', '/content/observation_tables/observation_tables/parquet/part-18.parquet', '/content/observation_tables/observation_tables/parquet/part-68.parquet', '/content/observation_tables/observation_tables/parquet/part-157.parquet']\n"
          ]
        }
      ]
    },
    {
      "cell_type": "code",
      "source": [
        "#for parquet_file in all_parquet_files:\n",
        " #   df = pd.read_parquet(parquet_file)\n",
        "  #  print(f\"Reading file: {parquet_file}\")\n",
        "   # print(df.columns)"
      ],
      "metadata": {
        "id": "e1OPjHGjMrzM"
      },
      "execution_count": 11,
      "outputs": []
    },
    {
      "cell_type": "markdown",
      "metadata": {
        "id": "10BZpe9CiROG"
      },
      "source": [
        "## Reading using Pandas\n",
        "Required python packages are `pandas` and `pyarrow`"
      ]
    },
    {
      "cell_type": "markdown",
      "metadata": {
        "id": "ry1g0o20iROG"
      },
      "source": [
        "### Reading a part"
      ]
    },
    {
      "cell_type": "code",
      "execution_count": 12,
      "metadata": {
        "id": "kernE_tbiROH"
      },
      "outputs": [],
      "source": [
        "part = 7"
      ]
    },
    {
      "cell_type": "code",
      "source": [
        "# Pandas-Optionen setzen für bessere Anzeige\n",
        "pd.set_option(\"display.max_columns\", None)        # alle Spalten anzeigen\n",
        "pd.set_option(\"display.expand_frame_repr\", False) # keine Umbrüche\n"
      ],
      "metadata": {
        "id": "GS8pJ0Kq0hTZ"
      },
      "execution_count": 13,
      "outputs": []
    },
    {
      "cell_type": "code",
      "source": [
        "file_path = os.path.join(\n",
        "    'observation_tables', 'observation_tables', 'parquet', f'part-{part}.parquet'\n",
        ")"
      ],
      "metadata": {
        "id": "eskzuLqHnoPn"
      },
      "execution_count": 14,
      "outputs": []
    },
    {
      "cell_type": "code",
      "execution_count": 15,
      "metadata": {
        "id": "vKZu7E3viROH",
        "outputId": "bca77281-cd53-4d8a-c0cd-262f4e379484",
        "colab": {
          "base_uri": "https://localhost:8080/"
        }
      },
      "outputs": [
        {
          "output_type": "stream",
          "name": "stdout",
          "text": [
            "Datei geladen: observation_tables/observation_tables/parquet/part-7.parquet\n",
            "Index(['datetime', 'entertime', 'patientid', 'status', 'stringvalue', 'type',\n",
            "       'value', 'variableid'],\n",
            "      dtype='object')\n"
          ]
        }
      ],
      "source": [
        "# Anzeigen der Spaltennmane des parquet-files\n",
        "\n",
        "df_part = pd.read_parquet(file_path)\n",
        "print(f\"Datei geladen: {file_path}\")\n",
        "print(df_part.columns)\n"
      ]
    },
    {
      "cell_type": "code",
      "source": [
        "df_part['value'].count() #zählt wie viele Werte in der Spalte 'value' nicht leer sind, also wie viele Werte existieren"
      ],
      "metadata": {
        "id": "wWL2FAs6rA9t",
        "outputId": "89bdb4a0-8a0a-443c-e7f2-cc34460d4712",
        "colab": {
          "base_uri": "https://localhost:8080/"
        }
      },
      "execution_count": 16,
      "outputs": [
        {
          "output_type": "execute_result",
          "data": {
            "text/plain": [
              "np.int64(2191088)"
            ]
          },
          "metadata": {},
          "execution_count": 16
        }
      ]
    },
    {
      "cell_type": "code",
      "source": [
        "# die ersten 10 Zeilen anzeigen lassen des parquet files\n",
        "\n",
        "print(df_part.head(10))"
      ],
      "metadata": {
        "colab": {
          "base_uri": "https://localhost:8080/"
        },
        "id": "aNv1apsu_E_x",
        "outputId": "9ba625fe-eba7-4d45-fb20-0b72635586a4"
      },
      "execution_count": 17,
      "outputs": [
        {
          "output_type": "stream",
          "name": "stdout",
          "text": [
            "                 datetime               entertime  patientid  status stringvalue type  value  variableid\n",
            "0 2176-11-05 12:00:00.000 2176-11-05 13:02:46.590         94       8                     0.0    30005080\n",
            "1 2176-11-05 12:00:00.000 2176-11-05 15:07:09.450         94       8                     0.0    30005110\n",
            "2 2176-11-05 12:00:00.000 2176-11-05 13:02:46.440         94       8                     0.0    30005010\n",
            "3 2176-11-05 12:00:00.000 2176-11-05 13:02:46.560         94       8                     0.0    30005075\n",
            "4 2176-11-05 12:05:00.000 2176-11-05 12:06:42.790         94       8        None       175.0    10000450\n",
            "5 2176-11-05 12:05:00.000 2176-11-05 12:06:42.790         94       8        None        75.0    10000400\n",
            "6 2176-11-05 12:06:41.310 2176-11-05 12:06:43.586         94       4                   100.0        4000\n",
            "7 2176-11-05 12:07:32.130 2176-11-05 12:07:34.853         94       4                   100.0         200\n",
            "8 2176-11-05 12:07:33.600 2176-11-05 12:08:14.183         94      16                   100.0        4000\n",
            "9 2176-11-05 12:08:24.610 2176-11-05 12:08:26.040         94       4                   124.0         110\n"
          ]
        }
      ]
    },
    {
      "cell_type": "code",
      "source": [
        "df_part.info()\n",
        "df_part.isnull().sum()\n"
      ],
      "metadata": {
        "id": "4Y7fYXoA0bmA",
        "outputId": "4737de63-c1c0-438a-dc9b-1fce042e440a",
        "colab": {
          "base_uri": "https://localhost:8080/",
          "height": 595
        }
      },
      "execution_count": 18,
      "outputs": [
        {
          "output_type": "stream",
          "name": "stdout",
          "text": [
            "<class 'pandas.core.frame.DataFrame'>\n",
            "RangeIndex: 2191218 entries, 0 to 2191217\n",
            "Data columns (total 8 columns):\n",
            " #   Column       Dtype         \n",
            "---  ------       -----         \n",
            " 0   datetime     datetime64[ns]\n",
            " 1   entertime    datetime64[ns]\n",
            " 2   patientid    int32         \n",
            " 3   status       int16         \n",
            " 4   stringvalue  object        \n",
            " 5   type         object        \n",
            " 6   value        float32       \n",
            " 7   variableid   int32         \n",
            "dtypes: datetime64[ns](2), float32(1), int16(1), int32(2), object(2)\n",
            "memory usage: 96.1+ MB\n"
          ]
        },
        {
          "output_type": "execute_result",
          "data": {
            "text/plain": [
              "datetime           0\n",
              "entertime          0\n",
              "patientid          0\n",
              "status             0\n",
              "stringvalue    37454\n",
              "type               0\n",
              "value            130\n",
              "variableid         0\n",
              "dtype: int64"
            ],
            "text/html": [
              "<div>\n",
              "<style scoped>\n",
              "    .dataframe tbody tr th:only-of-type {\n",
              "        vertical-align: middle;\n",
              "    }\n",
              "\n",
              "    .dataframe tbody tr th {\n",
              "        vertical-align: top;\n",
              "    }\n",
              "\n",
              "    .dataframe thead th {\n",
              "        text-align: right;\n",
              "    }\n",
              "</style>\n",
              "<table border=\"1\" class=\"dataframe\">\n",
              "  <thead>\n",
              "    <tr style=\"text-align: right;\">\n",
              "      <th></th>\n",
              "      <th>0</th>\n",
              "    </tr>\n",
              "  </thead>\n",
              "  <tbody>\n",
              "    <tr>\n",
              "      <th>datetime</th>\n",
              "      <td>0</td>\n",
              "    </tr>\n",
              "    <tr>\n",
              "      <th>entertime</th>\n",
              "      <td>0</td>\n",
              "    </tr>\n",
              "    <tr>\n",
              "      <th>patientid</th>\n",
              "      <td>0</td>\n",
              "    </tr>\n",
              "    <tr>\n",
              "      <th>status</th>\n",
              "      <td>0</td>\n",
              "    </tr>\n",
              "    <tr>\n",
              "      <th>stringvalue</th>\n",
              "      <td>37454</td>\n",
              "    </tr>\n",
              "    <tr>\n",
              "      <th>type</th>\n",
              "      <td>0</td>\n",
              "    </tr>\n",
              "    <tr>\n",
              "      <th>value</th>\n",
              "      <td>130</td>\n",
              "    </tr>\n",
              "    <tr>\n",
              "      <th>variableid</th>\n",
              "      <td>0</td>\n",
              "    </tr>\n",
              "  </tbody>\n",
              "</table>\n",
              "</div><br><label><b>dtype:</b> int64</label>"
            ]
          },
          "metadata": {},
          "execution_count": 18
        }
      ]
    },
    {
      "cell_type": "code",
      "source": [
        "df_part.describe()\n"
      ],
      "metadata": {
        "id": "9n6yvDgC1LpG",
        "outputId": "ad7c48e8-f60d-481b-ba84-cad4cdacc1fe",
        "colab": {
          "base_uri": "https://localhost:8080/",
          "height": 300
        }
      },
      "execution_count": 19,
      "outputs": [
        {
          "output_type": "execute_result",
          "data": {
            "text/plain": [
              "                            datetime                      entertime     patientid        status         value    variableid\n",
              "count                        2191218                        2191218  2.191218e+06  2.191218e+06  2.191088e+06  2.191218e+06\n",
              "mean   2149-09-03 20:32:48.524234752  2149-09-03 20:41:38.350764032  1.640962e+04  1.322869e+01  1.537623e+02  3.604501e+06\n",
              "min              2103-02-21 18:40:00     2103-02-21 18:44:18.906000  9.400000e+01 -1.200000e+02 -3.153600e+02  1.000000e+02\n",
              "25%    2135-01-06 06:59:58.599999488  2135-01-06 07:02:50.490000384  9.731000e+03  8.000000e+00  9.500000e+00  2.000000e+02\n",
              "50%    2151-08-02 03:54:03.950000128  2151-08-02 03:55:19.253000192  1.675000e+04  1.600000e+01  5.020000e+01  5.100000e+02\n",
              "75%              2161-08-03 06:00:00  2161-08-03 06:06:55.116000256  2.367800e+04  1.600000e+01  9.700000e+01  4.000000e+03\n",
              "max       2194-04-17 12:00:16.920000     2194-04-17 12:00:16.920000  3.348800e+04  7.200000e+01  4.560600e+04  3.001001e+07\n",
              "std                              NaN                            NaN  8.959669e+03  3.835985e+00  5.221786e+02  9.554818e+06"
            ],
            "text/html": [
              "\n",
              "  <div id=\"df-77cec1eb-8920-41c3-bcd0-f300660d2518\" class=\"colab-df-container\">\n",
              "    <div>\n",
              "<style scoped>\n",
              "    .dataframe tbody tr th:only-of-type {\n",
              "        vertical-align: middle;\n",
              "    }\n",
              "\n",
              "    .dataframe tbody tr th {\n",
              "        vertical-align: top;\n",
              "    }\n",
              "\n",
              "    .dataframe thead th {\n",
              "        text-align: right;\n",
              "    }\n",
              "</style>\n",
              "<table border=\"1\" class=\"dataframe\">\n",
              "  <thead>\n",
              "    <tr style=\"text-align: right;\">\n",
              "      <th></th>\n",
              "      <th>datetime</th>\n",
              "      <th>entertime</th>\n",
              "      <th>patientid</th>\n",
              "      <th>status</th>\n",
              "      <th>value</th>\n",
              "      <th>variableid</th>\n",
              "    </tr>\n",
              "  </thead>\n",
              "  <tbody>\n",
              "    <tr>\n",
              "      <th>count</th>\n",
              "      <td>2191218</td>\n",
              "      <td>2191218</td>\n",
              "      <td>2.191218e+06</td>\n",
              "      <td>2.191218e+06</td>\n",
              "      <td>2.191088e+06</td>\n",
              "      <td>2.191218e+06</td>\n",
              "    </tr>\n",
              "    <tr>\n",
              "      <th>mean</th>\n",
              "      <td>2149-09-03 20:32:48.524234752</td>\n",
              "      <td>2149-09-03 20:41:38.350764032</td>\n",
              "      <td>1.640962e+04</td>\n",
              "      <td>1.322869e+01</td>\n",
              "      <td>1.537623e+02</td>\n",
              "      <td>3.604501e+06</td>\n",
              "    </tr>\n",
              "    <tr>\n",
              "      <th>min</th>\n",
              "      <td>2103-02-21 18:40:00</td>\n",
              "      <td>2103-02-21 18:44:18.906000</td>\n",
              "      <td>9.400000e+01</td>\n",
              "      <td>-1.200000e+02</td>\n",
              "      <td>-3.153600e+02</td>\n",
              "      <td>1.000000e+02</td>\n",
              "    </tr>\n",
              "    <tr>\n",
              "      <th>25%</th>\n",
              "      <td>2135-01-06 06:59:58.599999488</td>\n",
              "      <td>2135-01-06 07:02:50.490000384</td>\n",
              "      <td>9.731000e+03</td>\n",
              "      <td>8.000000e+00</td>\n",
              "      <td>9.500000e+00</td>\n",
              "      <td>2.000000e+02</td>\n",
              "    </tr>\n",
              "    <tr>\n",
              "      <th>50%</th>\n",
              "      <td>2151-08-02 03:54:03.950000128</td>\n",
              "      <td>2151-08-02 03:55:19.253000192</td>\n",
              "      <td>1.675000e+04</td>\n",
              "      <td>1.600000e+01</td>\n",
              "      <td>5.020000e+01</td>\n",
              "      <td>5.100000e+02</td>\n",
              "    </tr>\n",
              "    <tr>\n",
              "      <th>75%</th>\n",
              "      <td>2161-08-03 06:00:00</td>\n",
              "      <td>2161-08-03 06:06:55.116000256</td>\n",
              "      <td>2.367800e+04</td>\n",
              "      <td>1.600000e+01</td>\n",
              "      <td>9.700000e+01</td>\n",
              "      <td>4.000000e+03</td>\n",
              "    </tr>\n",
              "    <tr>\n",
              "      <th>max</th>\n",
              "      <td>2194-04-17 12:00:16.920000</td>\n",
              "      <td>2194-04-17 12:00:16.920000</td>\n",
              "      <td>3.348800e+04</td>\n",
              "      <td>7.200000e+01</td>\n",
              "      <td>4.560600e+04</td>\n",
              "      <td>3.001001e+07</td>\n",
              "    </tr>\n",
              "    <tr>\n",
              "      <th>std</th>\n",
              "      <td>NaN</td>\n",
              "      <td>NaN</td>\n",
              "      <td>8.959669e+03</td>\n",
              "      <td>3.835985e+00</td>\n",
              "      <td>5.221786e+02</td>\n",
              "      <td>9.554818e+06</td>\n",
              "    </tr>\n",
              "  </tbody>\n",
              "</table>\n",
              "</div>\n",
              "    <div class=\"colab-df-buttons\">\n",
              "\n",
              "  <div class=\"colab-df-container\">\n",
              "    <button class=\"colab-df-convert\" onclick=\"convertToInteractive('df-77cec1eb-8920-41c3-bcd0-f300660d2518')\"\n",
              "            title=\"Convert this dataframe to an interactive table.\"\n",
              "            style=\"display:none;\">\n",
              "\n",
              "  <svg xmlns=\"http://www.w3.org/2000/svg\" height=\"24px\" viewBox=\"0 -960 960 960\">\n",
              "    <path d=\"M120-120v-720h720v720H120Zm60-500h600v-160H180v160Zm220 220h160v-160H400v160Zm0 220h160v-160H400v160ZM180-400h160v-160H180v160Zm440 0h160v-160H620v160ZM180-180h160v-160H180v160Zm440 0h160v-160H620v160Z\"/>\n",
              "  </svg>\n",
              "    </button>\n",
              "\n",
              "  <style>\n",
              "    .colab-df-container {\n",
              "      display:flex;\n",
              "      gap: 12px;\n",
              "    }\n",
              "\n",
              "    .colab-df-convert {\n",
              "      background-color: #E8F0FE;\n",
              "      border: none;\n",
              "      border-radius: 50%;\n",
              "      cursor: pointer;\n",
              "      display: none;\n",
              "      fill: #1967D2;\n",
              "      height: 32px;\n",
              "      padding: 0 0 0 0;\n",
              "      width: 32px;\n",
              "    }\n",
              "\n",
              "    .colab-df-convert:hover {\n",
              "      background-color: #E2EBFA;\n",
              "      box-shadow: 0px 1px 2px rgba(60, 64, 67, 0.3), 0px 1px 3px 1px rgba(60, 64, 67, 0.15);\n",
              "      fill: #174EA6;\n",
              "    }\n",
              "\n",
              "    .colab-df-buttons div {\n",
              "      margin-bottom: 4px;\n",
              "    }\n",
              "\n",
              "    [theme=dark] .colab-df-convert {\n",
              "      background-color: #3B4455;\n",
              "      fill: #D2E3FC;\n",
              "    }\n",
              "\n",
              "    [theme=dark] .colab-df-convert:hover {\n",
              "      background-color: #434B5C;\n",
              "      box-shadow: 0px 1px 3px 1px rgba(0, 0, 0, 0.15);\n",
              "      filter: drop-shadow(0px 1px 2px rgba(0, 0, 0, 0.3));\n",
              "      fill: #FFFFFF;\n",
              "    }\n",
              "  </style>\n",
              "\n",
              "    <script>\n",
              "      const buttonEl =\n",
              "        document.querySelector('#df-77cec1eb-8920-41c3-bcd0-f300660d2518 button.colab-df-convert');\n",
              "      buttonEl.style.display =\n",
              "        google.colab.kernel.accessAllowed ? 'block' : 'none';\n",
              "\n",
              "      async function convertToInteractive(key) {\n",
              "        const element = document.querySelector('#df-77cec1eb-8920-41c3-bcd0-f300660d2518');\n",
              "        const dataTable =\n",
              "          await google.colab.kernel.invokeFunction('convertToInteractive',\n",
              "                                                    [key], {});\n",
              "        if (!dataTable) return;\n",
              "\n",
              "        const docLinkHtml = 'Like what you see? Visit the ' +\n",
              "          '<a target=\"_blank\" href=https://colab.research.google.com/notebooks/data_table.ipynb>data table notebook</a>'\n",
              "          + ' to learn more about interactive tables.';\n",
              "        element.innerHTML = '';\n",
              "        dataTable['output_type'] = 'display_data';\n",
              "        await google.colab.output.renderOutput(dataTable, element);\n",
              "        const docLink = document.createElement('div');\n",
              "        docLink.innerHTML = docLinkHtml;\n",
              "        element.appendChild(docLink);\n",
              "      }\n",
              "    </script>\n",
              "  </div>\n",
              "\n",
              "\n",
              "    <div id=\"df-3762bb05-c441-497b-9ab1-da319509d8db\">\n",
              "      <button class=\"colab-df-quickchart\" onclick=\"quickchart('df-3762bb05-c441-497b-9ab1-da319509d8db')\"\n",
              "                title=\"Suggest charts\"\n",
              "                style=\"display:none;\">\n",
              "\n",
              "<svg xmlns=\"http://www.w3.org/2000/svg\" height=\"24px\"viewBox=\"0 0 24 24\"\n",
              "     width=\"24px\">\n",
              "    <g>\n",
              "        <path d=\"M19 3H5c-1.1 0-2 .9-2 2v14c0 1.1.9 2 2 2h14c1.1 0 2-.9 2-2V5c0-1.1-.9-2-2-2zM9 17H7v-7h2v7zm4 0h-2V7h2v10zm4 0h-2v-4h2v4z\"/>\n",
              "    </g>\n",
              "</svg>\n",
              "      </button>\n",
              "\n",
              "<style>\n",
              "  .colab-df-quickchart {\n",
              "      --bg-color: #E8F0FE;\n",
              "      --fill-color: #1967D2;\n",
              "      --hover-bg-color: #E2EBFA;\n",
              "      --hover-fill-color: #174EA6;\n",
              "      --disabled-fill-color: #AAA;\n",
              "      --disabled-bg-color: #DDD;\n",
              "  }\n",
              "\n",
              "  [theme=dark] .colab-df-quickchart {\n",
              "      --bg-color: #3B4455;\n",
              "      --fill-color: #D2E3FC;\n",
              "      --hover-bg-color: #434B5C;\n",
              "      --hover-fill-color: #FFFFFF;\n",
              "      --disabled-bg-color: #3B4455;\n",
              "      --disabled-fill-color: #666;\n",
              "  }\n",
              "\n",
              "  .colab-df-quickchart {\n",
              "    background-color: var(--bg-color);\n",
              "    border: none;\n",
              "    border-radius: 50%;\n",
              "    cursor: pointer;\n",
              "    display: none;\n",
              "    fill: var(--fill-color);\n",
              "    height: 32px;\n",
              "    padding: 0;\n",
              "    width: 32px;\n",
              "  }\n",
              "\n",
              "  .colab-df-quickchart:hover {\n",
              "    background-color: var(--hover-bg-color);\n",
              "    box-shadow: 0 1px 2px rgba(60, 64, 67, 0.3), 0 1px 3px 1px rgba(60, 64, 67, 0.15);\n",
              "    fill: var(--button-hover-fill-color);\n",
              "  }\n",
              "\n",
              "  .colab-df-quickchart-complete:disabled,\n",
              "  .colab-df-quickchart-complete:disabled:hover {\n",
              "    background-color: var(--disabled-bg-color);\n",
              "    fill: var(--disabled-fill-color);\n",
              "    box-shadow: none;\n",
              "  }\n",
              "\n",
              "  .colab-df-spinner {\n",
              "    border: 2px solid var(--fill-color);\n",
              "    border-color: transparent;\n",
              "    border-bottom-color: var(--fill-color);\n",
              "    animation:\n",
              "      spin 1s steps(1) infinite;\n",
              "  }\n",
              "\n",
              "  @keyframes spin {\n",
              "    0% {\n",
              "      border-color: transparent;\n",
              "      border-bottom-color: var(--fill-color);\n",
              "      border-left-color: var(--fill-color);\n",
              "    }\n",
              "    20% {\n",
              "      border-color: transparent;\n",
              "      border-left-color: var(--fill-color);\n",
              "      border-top-color: var(--fill-color);\n",
              "    }\n",
              "    30% {\n",
              "      border-color: transparent;\n",
              "      border-left-color: var(--fill-color);\n",
              "      border-top-color: var(--fill-color);\n",
              "      border-right-color: var(--fill-color);\n",
              "    }\n",
              "    40% {\n",
              "      border-color: transparent;\n",
              "      border-right-color: var(--fill-color);\n",
              "      border-top-color: var(--fill-color);\n",
              "    }\n",
              "    60% {\n",
              "      border-color: transparent;\n",
              "      border-right-color: var(--fill-color);\n",
              "    }\n",
              "    80% {\n",
              "      border-color: transparent;\n",
              "      border-right-color: var(--fill-color);\n",
              "      border-bottom-color: var(--fill-color);\n",
              "    }\n",
              "    90% {\n",
              "      border-color: transparent;\n",
              "      border-bottom-color: var(--fill-color);\n",
              "    }\n",
              "  }\n",
              "</style>\n",
              "\n",
              "      <script>\n",
              "        async function quickchart(key) {\n",
              "          const quickchartButtonEl =\n",
              "            document.querySelector('#' + key + ' button');\n",
              "          quickchartButtonEl.disabled = true;  // To prevent multiple clicks.\n",
              "          quickchartButtonEl.classList.add('colab-df-spinner');\n",
              "          try {\n",
              "            const charts = await google.colab.kernel.invokeFunction(\n",
              "                'suggestCharts', [key], {});\n",
              "          } catch (error) {\n",
              "            console.error('Error during call to suggestCharts:', error);\n",
              "          }\n",
              "          quickchartButtonEl.classList.remove('colab-df-spinner');\n",
              "          quickchartButtonEl.classList.add('colab-df-quickchart-complete');\n",
              "        }\n",
              "        (() => {\n",
              "          let quickchartButtonEl =\n",
              "            document.querySelector('#df-3762bb05-c441-497b-9ab1-da319509d8db button');\n",
              "          quickchartButtonEl.style.display =\n",
              "            google.colab.kernel.accessAllowed ? 'block' : 'none';\n",
              "        })();\n",
              "      </script>\n",
              "    </div>\n",
              "\n",
              "    </div>\n",
              "  </div>\n"
            ],
            "application/vnd.google.colaboratory.intrinsic+json": {
              "type": "dataframe",
              "summary": "{\n  \"name\": \"df_part\",\n  \"rows\": 8,\n  \"fields\": [\n    {\n      \"column\": \"datetime\",\n      \"properties\": {\n        \"dtype\": \"date\",\n        \"min\": \"1970-01-01 00:00:00.002191218\",\n        \"max\": \"2194-04-17 12:00:16.920000\",\n        \"num_unique_values\": 7,\n        \"samples\": [\n          \"2191218\",\n          \"2149-09-03 20:32:48.524234752\",\n          \"2161-08-03 06:00:00\"\n        ],\n        \"semantic_type\": \"\",\n        \"description\": \"\"\n      }\n    },\n    {\n      \"column\": \"entertime\",\n      \"properties\": {\n        \"dtype\": \"date\",\n        \"min\": \"1970-01-01 00:00:00.002191218\",\n        \"max\": \"2194-04-17 12:00:16.920000\",\n        \"num_unique_values\": 7,\n        \"samples\": [\n          \"2191218\",\n          \"2149-09-03 20:41:38.350764032\",\n          \"2161-08-03 06:06:55.116000256\"\n        ],\n        \"semantic_type\": \"\",\n        \"description\": \"\"\n      }\n    },\n    {\n      \"column\": \"patientid\",\n      \"properties\": {\n        \"dtype\": \"number\",\n        \"std\": 769267.2256920106,\n        \"min\": 94.0,\n        \"max\": 2191218.0,\n        \"num_unique_values\": 8,\n        \"samples\": [\n          16409.621965500464,\n          23678.0,\n          2191218.0\n        ],\n        \"semantic_type\": \"\",\n        \"description\": \"\"\n      }\n    },\n    {\n      \"column\": \"status\",\n      \"properties\": {\n        \"dtype\": \"number\",\n        \"std\": 774712.0974691248,\n        \"min\": -120.0,\n        \"max\": 2191218.0,\n        \"num_unique_values\": 7,\n        \"samples\": [\n          2191218.0,\n          13.22868651133753,\n          72.0\n        ],\n        \"semantic_type\": \"\",\n        \"description\": \"\"\n      }\n    },\n    {\n      \"column\": \"value\",\n      \"properties\": {\n        \"dtype\": \"number\",\n        \"std\": 772501.2851882603,\n        \"min\": -315.3599853515625,\n        \"max\": 2191088.0,\n        \"num_unique_values\": 8,\n        \"samples\": [\n          153.7623291015625,\n          97.0,\n          2191088.0\n        ],\n        \"semantic_type\": \"\",\n        \"description\": \"\"\n      }\n    },\n    {\n      \"column\": \"variableid\",\n      \"properties\": {\n        \"dtype\": \"number\",\n        \"std\": 10367787.535999767,\n        \"min\": 100.0,\n        \"max\": 30010009.0,\n        \"num_unique_values\": 8,\n        \"samples\": [\n          3604501.339289838,\n          4000.0,\n          2191218.0\n        ],\n        \"semantic_type\": \"\",\n        \"description\": \"\"\n      }\n    }\n  ]\n}"
            }
          },
          "metadata": {},
          "execution_count": 19
        }
      ]
    },
    {
      "cell_type": "markdown",
      "source": [
        "# Betrachtete Value\n"
      ],
      "metadata": {
        "id": "bDFAHEHO1OYI"
      }
    },
    {
      "cell_type": "code",
      "source": [
        "# Die gewünschte variableid setzen\n",
        "variableid = 300\n"
      ],
      "metadata": {
        "id": "CfFJEbUj1TE2"
      },
      "execution_count": null,
      "outputs": []
    },
    {
      "cell_type": "markdown",
      "source": [
        "# Wie viele Einträge hat eine bestimmte Variable?"
      ],
      "metadata": {
        "id": "MG_OSW9R_Gro"
      }
    },
    {
      "cell_type": "code",
      "source": [
        "total_count = 0\n",
        "variableid = 3845"
      ],
      "metadata": {
        "id": "sKJCvm2F4KPB"
      },
      "execution_count": 20,
      "outputs": []
    },
    {
      "cell_type": "code",
      "source": [
        "# zählen wie viel data wir zu einer spezifischen value haben, in diesem parquet file\n",
        "\n",
        "gefilterte_values = df_part[df_part['variableid'] == variableid]['value']\n",
        "total_count = gefilterte_values.notna().sum()\n",
        "\n",
        "print(f\"\\nGesamtanzahl nicht-NaN-Werte für VariableID {variableid}: {total_count}\")\n",
        "print(gefilterte_values)"
      ],
      "metadata": {
        "colab": {
          "base_uri": "https://localhost:8080/"
        },
        "id": "KN6ynLo7_ra2",
        "outputId": "01397803-c0ec-4330-eac2-67bc2aade32a"
      },
      "execution_count": 21,
      "outputs": [
        {
          "output_type": "stream",
          "name": "stdout",
          "text": [
            "\n",
            "Gesamtanzahl nicht-NaN-Werte für VariableID 3845: 15089\n",
            "69155      1.0\n",
            "69160      1.0\n",
            "69175      3.0\n",
            "69225      3.0\n",
            "69451      3.0\n",
            "          ... \n",
            "2191127    1.0\n",
            "2191129    1.0\n",
            "2191135    1.0\n",
            "2191139    1.0\n",
            "2191140    1.0\n",
            "Name: value, Length: 15089, dtype: float32\n"
          ]
        }
      ]
    },
    {
      "cell_type": "code",
      "source": [
        "# Zähler initialisieren\n",
        "gesamt_count = 0\n",
        "\n",
        "# Durchlaufen aller Parquet-Dateien\n",
        "for file_path in all_parquet_files:\n",
        "    print(f\"Lade Datei: {file_path}\")\n",
        "    df = pd.read_parquet(file_path)\n",
        "\n",
        "    print(df.describe())\n",
        "\n",
        "print(f\"\\fertighihi\")"
      ],
      "metadata": {
        "id": "JMltC_ty1b1F",
        "outputId": "698d10ee-9702-489f-fcc7-4ed9c9f72663",
        "colab": {
          "base_uri": "https://localhost:8080/",
          "height": 1000
        }
      },
      "execution_count": null,
      "outputs": [
        {
          "output_type": "stream",
          "name": "stdout",
          "text": [
            "Lade Datei: /content/observation_tables/observation_tables/parquet/part-1.parquet\n",
            "                            datetime                      entertime     patientid        status         value    variableid\n",
            "count                        3682933                        3682933  3.682933e+06  3.682933e+06  3.682667e+06  3.682933e+06\n",
            "mean   2144-09-03 23:44:27.078426624  2144-09-03 23:53:55.801220096  1.356207e+04  1.296983e+01  1.514988e+02  3.990931e+06\n",
            "min              2108-05-09 19:35:00            2108-05-09 19:36:05  2.430000e+02 -1.200000e+02 -3.193600e+02  1.000000e+02\n",
            "25%              2121-07-11 00:02:00  2121-07-11 00:09:00.250000384  3.908000e+03  8.000000e+00  8.000000e+00  2.000000e+02\n",
            "50%    2139-01-28 11:52:46.709999616  2139-01-28 12:39:54.872999936  1.236300e+04  1.600000e+01  4.010000e+01  4.100000e+02\n",
            "75%              2166-02-19 21:49:00  2166-02-19 21:51:39.836000256  2.299000e+04  1.600000e+01  9.400000e+01  4.000000e+03\n",
            "max              2196-05-17 14:19:00     2196-05-17 14:23:25.356000  3.336500e+04  1.680000e+02  7.132100e+04  3.001001e+07\n",
            "std                              NaN                            NaN  9.094855e+03  3.934789e+00  5.785905e+02  1.001581e+07\n",
            "Lade Datei: /content/observation_tables/observation_tables/parquet/part-222.parquet\n",
            "                            datetime                      entertime     patientid        status         value    variableid\n",
            "count                        2149096                        2149096  2.149096e+06  2.149096e+06  2.148957e+06  2.149096e+06\n",
            "mean   2155-04-07 23:45:38.158128128  2155-04-07 23:52:45.583105024  1.724952e+04  1.346221e+01  1.849991e+02  3.710299e+06\n",
            "min              2103-04-11 16:30:00     2103-04-11 16:37:40.833000  3.610000e+02 -1.200000e+02 -3.173600e+02  1.000000e+02\n",
            "25%    2134-02-06 15:11:00.752499712  2134-02-06 15:13:50.872999936  7.772000e+03  8.000000e+00  1.100000e+01  2.000000e+02\n",
            "50%    2160-04-04 20:43:09.269999616  2160-04-04 20:44:15.726000128  1.724500e+04  1.600000e+01  5.100000e+01  7.000000e+02\n",
            "75%    2169-11-28 13:42:23.130000384  2169-11-28 13:43:45.343249408  2.867300e+04  1.600000e+01  9.700000e+01  4.000000e+03\n",
            "max              2193-08-16 11:14:00     2193-08-16 11:14:02.010000  3.352800e+04  7.200000e+01  7.748000e+04  3.001001e+07\n",
            "std                              NaN                            NaN  1.068826e+04  3.748961e+00  6.497207e+02  9.681228e+06\n",
            "Lade Datei: /content/observation_tables/observation_tables/parquet/part-144.parquet\n",
            "                            datetime                      entertime     patientid        status         value    variableid\n",
            "count                        2468012                        2468012  2.468012e+06  2.468012e+06  2.467900e+06  2.468012e+06\n",
            "mean   2141-12-22 01:06:58.947197952  2141-12-22 01:15:06.796150784  1.374978e+04  1.328613e+01  1.901123e+02  3.858274e+06\n",
            "min              2105-05-27 08:04:00     2105-05-27 08:15:21.640000  3.230000e+02 -1.200000e+02 -4.271187e+02  1.000000e+02\n",
            "25%    2113-11-13 04:06:59.594999808  2113-11-13 04:14:17.872500224  3.060000e+03  8.000000e+00  8.700000e+00  2.000000e+02\n",
            "50%    2136-06-09 15:43:46.119999488  2136-06-09 15:46:10.845000704  1.040700e+04  1.600000e+01  4.800000e+01  7.000000e+02\n",
            "75%              2166-08-25 02:21:00  2166-08-25 02:22:37.747250176  2.125000e+04  1.600000e+01  9.750000e+01  4.000000e+03\n",
            "max              2197-02-24 11:34:00     2197-02-24 11:40:48.763000  3.383900e+04  7.200000e+01  1.909500e+04  3.001001e+07\n",
            "std                              NaN                            NaN  1.082719e+04  3.809465e+00  5.952319e+02  9.872390e+06\n",
            "Lade Datei: /content/observation_tables/observation_tables/parquet/part-236.parquet\n",
            "                            datetime                      entertime     patientid        status         value    variableid\n",
            "count                        2937029                        2937029  2.937029e+06  2.937029e+06  2.936903e+06  2.937029e+06\n",
            "mean   2148-09-25 16:17:13.056224256  2148-09-25 16:28:57.456368640  1.549830e+04  1.376883e+01  1.617344e+02  3.839490e+06\n",
            "min              2104-05-22 19:00:00     2104-05-22 19:04:01.470000  8.800000e+01  0.000000e+00 -3.183600e+02  1.000000e+02\n",
            "25%    2125-11-14 22:57:33.740000256  2125-11-14 23:26:30.515999744  6.546000e+03  8.000000e+00  9.600000e+00  2.000000e+02\n",
            "50%    2140-07-18 19:54:41.770000384  2140-07-18 19:59:43.852999680  1.305300e+04  1.600000e+01  4.100000e+01  7.000000e+02\n",
            "75%    2166-04-18 06:31:30.270000128  2166-04-18 06:35:58.042999808  2.327300e+04  1.600000e+01  9.600000e+01  4.000000e+03\n",
            "max              2196-06-26 10:52:00     2196-06-26 10:56:21.876000  3.319900e+04  7.200000e+01  5.599000e+04  3.001001e+07\n",
            "std                              NaN                            NaN  9.369206e+03  3.609274e+00  5.812145e+02  9.830436e+06\n",
            "Lade Datei: /content/observation_tables/observation_tables/parquet/part-84.parquet\n",
            "                            datetime                      entertime     patientid        status         value    variableid\n",
            "count                        2484716                        2484716  2.484716e+06  2.484716e+06  2.484600e+06  2.484716e+06\n",
            "mean   2146-02-20 04:09:23.313624064  2146-02-20 04:17:58.343456768  1.882449e+04  1.293248e+01  2.735059e+02  3.057988e+06\n",
            "min              2104-11-21 13:20:00     2104-11-21 13:24:57.356000  3.700000e+01 -1.200000e+02 -3.193600e+02  1.000000e+02\n",
            "25%    2129-01-11 07:40:58.819999744  2129-01-11 08:03:45.873000448  1.012500e+04  8.000000e+00  1.070000e+01  2.000000e+02\n",
            "50%    2144-02-24 14:46:30.924999680  2144-02-24 14:53:54.364499968  1.963300e+04  1.600000e+01  5.600000e+01  7.000000e+02\n",
            "75%    2162-06-03 06:59:16.515000320  2162-06-03 07:03:57.089999872  2.870800e+04  1.600000e+01  1.000000e+02  4.000000e+03\n",
            "max              2197-11-17 10:42:00     2197-11-17 11:06:29.856000  3.388900e+04  1.680000e+02  3.494604e+04  3.001001e+07\n",
            "std                              NaN                            NaN  1.019050e+04  3.933254e+00  8.321000e+02  8.891420e+06\n",
            "Lade Datei: /content/observation_tables/observation_tables/parquet/part-201.parquet\n",
            "                            datetime                      entertime     patientid        status         value    variableid\n",
            "count                        3522287                        3522287  3.522287e+06  3.522287e+06  3.522133e+06  3.522287e+06\n",
            "mean   2154-06-03 04:09:39.385311232  2154-06-03 04:17:51.132523520  1.874636e+04  1.356306e+01  1.560712e+02  3.342266e+06\n",
            "min              2108-08-03 12:00:00     2108-08-03 12:13:03.240000  1.730000e+02 -1.200000e+02 -3.173600e+02  1.000000e+02\n",
            "25%    2134-03-27 08:10:52.689999872  2134-03-27 08:23:47.815999488  8.425000e+03  8.000000e+00  9.000000e+00  2.000000e+02\n",
            "50%              2147-07-02 23:08:00  2147-07-02 23:11:21.070000128  2.037200e+04  1.600000e+01  5.100000e+01  4.100000e+02\n",
            "75%    2175-11-23 05:32:30.869999616  2175-11-23 05:34:20.672999424  2.904100e+04  1.600000e+01  9.600000e+01  4.000000e+03\n",
            "max              2197-06-21 13:36:00     2197-06-21 13:36:25.813000  3.388200e+04  1.680000e+02  1.787353e+04  3.001001e+07\n",
            "std                              NaN                            NaN  1.094713e+04  3.741100e+00  5.185359e+02  9.242915e+06\n",
            "Lade Datei: /content/observation_tables/observation_tables/parquet/part-219.parquet\n",
            "                            datetime                      entertime     patientid        status         value    variableid\n",
            "count                        2664302                        2664302  2.664302e+06  2.664302e+06  2.664212e+06  2.664302e+06\n",
            "mean   2151-04-07 15:29:17.376569344  2151-04-07 15:39:18.404744192  1.360930e+04  1.386017e+01  1.974816e+02  3.897086e+06\n",
            "min              2106-12-24 19:25:00     2106-12-24 19:29:34.543000  6.300000e+01 -1.200000e+02 -3.193600e+02  1.000000e+02\n",
            "25%    2126-09-22 15:34:48.522499072  2126-09-22 16:00:21.063000064  5.913000e+03  8.000000e+00  8.000000e+00  2.000000e+02\n",
            "50%    2144-12-02 10:15:56.350000128  2144-12-02 10:23:12.857999360  1.200200e+04  1.600000e+01  3.870000e+01  4.100000e+02\n",
            "75%    2182-05-07 23:36:47.355000832  2182-05-07 23:38:34.079750144  1.926200e+04  1.600000e+01  9.500000e+01  3.200000e+03\n",
            "max              2198-02-07 16:53:00     2198-02-07 16:56:01.886000  3.343500e+04  1.680000e+02  2.944270e+05  3.001001e+07\n",
            "std                              NaN                            NaN  9.222227e+03  3.566458e+00  3.816425e+03  9.920446e+06\n",
            "Lade Datei: /content/observation_tables/observation_tables/parquet/part-123.parquet\n",
            "                            datetime                      entertime     patientid        status         value    variableid\n",
            "count                        3162191                        3162191  3.162191e+06  3.162191e+06  3.162020e+06  3.162191e+06\n",
            "mean   2150-02-03 22:02:45.652574208  2150-02-03 22:11:12.064476160  1.764249e+04  1.301822e+01  2.158050e+02  3.827380e+06\n",
            "min              2103-02-11 05:15:00     2103-02-11 05:18:34.740000  2.360000e+02 -1.200000e+02 -3.193600e+02  1.000000e+02\n",
            "25%    2127-03-11 05:50:36.999999488  2127-03-11 05:51:36.942999552  1.003900e+04  8.000000e+00  1.000000e+01  2.000000e+02\n",
            "50%              2149-09-07 00:51:00  2149-09-07 00:55:07.649999872  1.859100e+04  1.600000e+01  4.300000e+01  7.000000e+02\n",
            "75%    2174-03-21 12:07:14.179999744  2174-03-21 12:25:04.110000128  2.693300e+04  1.600000e+01  9.600000e+01  4.000000e+03\n",
            "max       2191-08-07 10:33:41.370000     2191-08-07 10:51:03.850000  3.257100e+04  7.200000e+01  1.800347e+07  3.001001e+07\n",
            "std                              NaN                            NaN  8.922331e+03  3.898001e+00  3.374996e+04  9.843357e+06\n",
            "Lade Datei: /content/observation_tables/observation_tables/parquet/part-80.parquet\n"
          ]
        },
        {
          "output_type": "error",
          "ename": "KeyboardInterrupt",
          "evalue": "",
          "traceback": [
            "\u001b[0;31m---------------------------------------------------------------------------\u001b[0m",
            "\u001b[0;31mKeyboardInterrupt\u001b[0m                         Traceback (most recent call last)",
            "\u001b[0;32m<ipython-input-23-60908828c438>\u001b[0m in \u001b[0;36m<cell line: 0>\u001b[0;34m()\u001b[0m\n\u001b[1;32m      5\u001b[0m \u001b[0;32mfor\u001b[0m \u001b[0mfile_path\u001b[0m \u001b[0;32min\u001b[0m \u001b[0mall_parquet_files\u001b[0m\u001b[0;34m:\u001b[0m\u001b[0;34m\u001b[0m\u001b[0;34m\u001b[0m\u001b[0m\n\u001b[1;32m      6\u001b[0m     \u001b[0mprint\u001b[0m\u001b[0;34m(\u001b[0m\u001b[0;34mf\"Lade Datei: {file_path}\"\u001b[0m\u001b[0;34m)\u001b[0m\u001b[0;34m\u001b[0m\u001b[0;34m\u001b[0m\u001b[0m\n\u001b[0;32m----> 7\u001b[0;31m     \u001b[0mdf\u001b[0m \u001b[0;34m=\u001b[0m \u001b[0mpd\u001b[0m\u001b[0;34m.\u001b[0m\u001b[0mread_parquet\u001b[0m\u001b[0;34m(\u001b[0m\u001b[0mfile_path\u001b[0m\u001b[0;34m)\u001b[0m\u001b[0;34m\u001b[0m\u001b[0;34m\u001b[0m\u001b[0m\n\u001b[0m\u001b[1;32m      8\u001b[0m \u001b[0;34m\u001b[0m\u001b[0m\n\u001b[1;32m      9\u001b[0m     \u001b[0mprint\u001b[0m\u001b[0;34m(\u001b[0m\u001b[0mdf\u001b[0m\u001b[0;34m.\u001b[0m\u001b[0mdescribe\u001b[0m\u001b[0;34m(\u001b[0m\u001b[0;34m)\u001b[0m\u001b[0;34m)\u001b[0m\u001b[0;34m\u001b[0m\u001b[0;34m\u001b[0m\u001b[0m\n",
            "\u001b[0;32m/usr/local/lib/python3.11/dist-packages/pandas/io/parquet.py\u001b[0m in \u001b[0;36mread_parquet\u001b[0;34m(path, engine, columns, storage_options, use_nullable_dtypes, dtype_backend, filesystem, filters, **kwargs)\u001b[0m\n\u001b[1;32m    665\u001b[0m     \u001b[0mcheck_dtype_backend\u001b[0m\u001b[0;34m(\u001b[0m\u001b[0mdtype_backend\u001b[0m\u001b[0;34m)\u001b[0m\u001b[0;34m\u001b[0m\u001b[0;34m\u001b[0m\u001b[0m\n\u001b[1;32m    666\u001b[0m \u001b[0;34m\u001b[0m\u001b[0m\n\u001b[0;32m--> 667\u001b[0;31m     return impl.read(\n\u001b[0m\u001b[1;32m    668\u001b[0m         \u001b[0mpath\u001b[0m\u001b[0;34m,\u001b[0m\u001b[0;34m\u001b[0m\u001b[0;34m\u001b[0m\u001b[0m\n\u001b[1;32m    669\u001b[0m         \u001b[0mcolumns\u001b[0m\u001b[0;34m=\u001b[0m\u001b[0mcolumns\u001b[0m\u001b[0;34m,\u001b[0m\u001b[0;34m\u001b[0m\u001b[0;34m\u001b[0m\u001b[0m\n",
            "\u001b[0;32m/usr/local/lib/python3.11/dist-packages/pandas/io/parquet.py\u001b[0m in \u001b[0;36mread\u001b[0;34m(self, path, columns, filters, use_nullable_dtypes, dtype_backend, storage_options, filesystem, **kwargs)\u001b[0m\n\u001b[1;32m    272\u001b[0m         )\n\u001b[1;32m    273\u001b[0m         \u001b[0;32mtry\u001b[0m\u001b[0;34m:\u001b[0m\u001b[0;34m\u001b[0m\u001b[0;34m\u001b[0m\u001b[0m\n\u001b[0;32m--> 274\u001b[0;31m             pa_table = self.api.parquet.read_table(\n\u001b[0m\u001b[1;32m    275\u001b[0m                 \u001b[0mpath_or_handle\u001b[0m\u001b[0;34m,\u001b[0m\u001b[0;34m\u001b[0m\u001b[0;34m\u001b[0m\u001b[0m\n\u001b[1;32m    276\u001b[0m                 \u001b[0mcolumns\u001b[0m\u001b[0;34m=\u001b[0m\u001b[0mcolumns\u001b[0m\u001b[0;34m,\u001b[0m\u001b[0;34m\u001b[0m\u001b[0;34m\u001b[0m\u001b[0m\n",
            "\u001b[0;32m/usr/local/lib/python3.11/dist-packages/pyarrow/parquet/core.py\u001b[0m in \u001b[0;36mread_table\u001b[0;34m(source, columns, use_threads, schema, use_pandas_metadata, read_dictionary, memory_map, buffer_size, partitioning, filesystem, filters, use_legacy_dataset, ignore_prefixes, pre_buffer, coerce_int96_timestamp_unit, decryption_properties, thrift_string_size_limit, thrift_container_size_limit, page_checksum_verification)\u001b[0m\n\u001b[1;32m   1841\u001b[0m         )\n\u001b[1;32m   1842\u001b[0m \u001b[0;34m\u001b[0m\u001b[0m\n\u001b[0;32m-> 1843\u001b[0;31m     return dataset.read(columns=columns, use_threads=use_threads,\n\u001b[0m\u001b[1;32m   1844\u001b[0m                         use_pandas_metadata=use_pandas_metadata)\n\u001b[1;32m   1845\u001b[0m \u001b[0;34m\u001b[0m\u001b[0m\n",
            "\u001b[0;32m/usr/local/lib/python3.11/dist-packages/pyarrow/parquet/core.py\u001b[0m in \u001b[0;36mread\u001b[0;34m(self, columns, use_threads, use_pandas_metadata)\u001b[0m\n\u001b[1;32m   1483\u001b[0m                 )\n\u001b[1;32m   1484\u001b[0m \u001b[0;34m\u001b[0m\u001b[0m\n\u001b[0;32m-> 1485\u001b[0;31m         table = self._dataset.to_table(\n\u001b[0m\u001b[1;32m   1486\u001b[0m             \u001b[0mcolumns\u001b[0m\u001b[0;34m=\u001b[0m\u001b[0mcolumns\u001b[0m\u001b[0;34m,\u001b[0m \u001b[0mfilter\u001b[0m\u001b[0;34m=\u001b[0m\u001b[0mself\u001b[0m\u001b[0;34m.\u001b[0m\u001b[0m_filter_expression\u001b[0m\u001b[0;34m,\u001b[0m\u001b[0;34m\u001b[0m\u001b[0;34m\u001b[0m\u001b[0m\n\u001b[1;32m   1487\u001b[0m             \u001b[0muse_threads\u001b[0m\u001b[0;34m=\u001b[0m\u001b[0muse_threads\u001b[0m\u001b[0;34m\u001b[0m\u001b[0;34m\u001b[0m\u001b[0m\n",
            "\u001b[0;31mKeyboardInterrupt\u001b[0m: "
          ]
        }
      ]
    },
    {
      "cell_type": "code",
      "source": [
        "# durch alle Parquet Files gehen und zählen:\n",
        "\n",
        "# Zähler initialisieren\n",
        "gesamt_count = 0\n",
        "\n",
        "# Durchlaufen aller Parquet-Dateien\n",
        "for file_path in all_parquet_files:\n",
        "    print(f\"Lade Datei: {file_path}\")\n",
        "    df = pd.read_parquet(file_path)\n",
        "\n",
        "    # Filtern nach der gewünschten variableid\n",
        "    gefilterte_values = df[df['variableid'] == variableid]['value']\n",
        "\n",
        "    # Zählen nicht-NaN-Werte in der Spalte \"value\"\n",
        "    count = gefilterte_values.notna().sum()\n",
        "    gesamt_count += count\n",
        "\n",
        "    print(f\"{count} Werte in Datei gefunden.\")\n",
        "\n",
        "print(f\"\\n Gesamtanzahl nicht-NaN-Werte für VariableID {variableid}: {gesamt_count}\")"
      ],
      "metadata": {
        "colab": {
          "base_uri": "https://localhost:8080/"
        },
        "id": "feftOOMV_TOo",
        "outputId": "0c0ffd30-c182-4e87-d6bb-2e120bcd9cef",
        "collapsed": true
      },
      "execution_count": null,
      "outputs": [
        {
          "output_type": "stream",
          "name": "stdout",
          "text": [
            "Lade Datei: /content/observation_tables/observation_tables/parquet/part-1.parquet\n",
            "24313 Werte in Datei gefunden.\n",
            "Lade Datei: /content/observation_tables/observation_tables/parquet/part-222.parquet\n",
            "15504 Werte in Datei gefunden.\n",
            "Lade Datei: /content/observation_tables/observation_tables/parquet/part-144.parquet\n",
            "25512 Werte in Datei gefunden.\n",
            "Lade Datei: /content/observation_tables/observation_tables/parquet/part-236.parquet\n",
            "24017 Werte in Datei gefunden.\n",
            "Lade Datei: /content/observation_tables/observation_tables/parquet/part-84.parquet\n",
            "16467 Werte in Datei gefunden.\n",
            "Lade Datei: /content/observation_tables/observation_tables/parquet/part-201.parquet\n",
            "27031 Werte in Datei gefunden.\n",
            "Lade Datei: /content/observation_tables/observation_tables/parquet/part-219.parquet\n",
            "29674 Werte in Datei gefunden.\n",
            "Lade Datei: /content/observation_tables/observation_tables/parquet/part-123.parquet\n",
            "23439 Werte in Datei gefunden.\n",
            "Lade Datei: /content/observation_tables/observation_tables/parquet/part-80.parquet\n",
            "21809 Werte in Datei gefunden.\n",
            "Lade Datei: /content/observation_tables/observation_tables/parquet/part-129.parquet\n",
            "24389 Werte in Datei gefunden.\n",
            "Lade Datei: /content/observation_tables/observation_tables/parquet/part-197.parquet\n",
            "36913 Werte in Datei gefunden.\n",
            "Lade Datei: /content/observation_tables/observation_tables/parquet/part-34.parquet\n",
            "38710 Werte in Datei gefunden.\n",
            "Lade Datei: /content/observation_tables/observation_tables/parquet/part-183.parquet\n",
            "17088 Werte in Datei gefunden.\n",
            "Lade Datei: /content/observation_tables/observation_tables/parquet/part-10.parquet\n",
            "29557 Werte in Datei gefunden.\n",
            "Lade Datei: /content/observation_tables/observation_tables/parquet/part-65.parquet\n",
            "25005 Werte in Datei gefunden.\n",
            "Lade Datei: /content/observation_tables/observation_tables/parquet/part-76.parquet\n",
            "18378 Werte in Datei gefunden.\n",
            "Lade Datei: /content/observation_tables/observation_tables/parquet/part-56.parquet\n",
            "24074 Werte in Datei gefunden.\n",
            "Lade Datei: /content/observation_tables/observation_tables/parquet/part-23.parquet\n",
            "28551 Werte in Datei gefunden.\n",
            "Lade Datei: /content/observation_tables/observation_tables/parquet/part-173.parquet\n",
            "15000 Werte in Datei gefunden.\n",
            "Lade Datei: /content/observation_tables/observation_tables/parquet/part-59.parquet\n",
            "30510 Werte in Datei gefunden.\n",
            "Lade Datei: /content/observation_tables/observation_tables/parquet/part-99.parquet\n",
            "24967 Werte in Datei gefunden.\n",
            "Lade Datei: /content/observation_tables/observation_tables/parquet/part-42.parquet\n",
            "27513 Werte in Datei gefunden.\n",
            "Lade Datei: /content/observation_tables/observation_tables/parquet/part-185.parquet\n",
            "17794 Werte in Datei gefunden.\n",
            "Lade Datei: /content/observation_tables/observation_tables/parquet/part-155.parquet\n",
            "24749 Werte in Datei gefunden.\n",
            "Lade Datei: /content/observation_tables/observation_tables/parquet/part-174.parquet\n",
            "33811 Werte in Datei gefunden.\n",
            "Lade Datei: /content/observation_tables/observation_tables/parquet/part-152.parquet\n",
            "44684 Werte in Datei gefunden.\n",
            "Lade Datei: /content/observation_tables/observation_tables/parquet/part-103.parquet\n",
            "26882 Werte in Datei gefunden.\n",
            "Lade Datei: /content/observation_tables/observation_tables/parquet/part-45.parquet\n",
            "29724 Werte in Datei gefunden.\n",
            "Lade Datei: /content/observation_tables/observation_tables/parquet/part-3.parquet\n",
            "19665 Werte in Datei gefunden.\n",
            "Lade Datei: /content/observation_tables/observation_tables/parquet/part-147.parquet\n",
            "38673 Werte in Datei gefunden.\n",
            "Lade Datei: /content/observation_tables/observation_tables/parquet/part-98.parquet\n",
            "25737 Werte in Datei gefunden.\n",
            "Lade Datei: /content/observation_tables/observation_tables/parquet/part-170.parquet\n",
            "21609 Werte in Datei gefunden.\n",
            "Lade Datei: /content/observation_tables/observation_tables/parquet/part-239.parquet\n",
            "31433 Werte in Datei gefunden.\n",
            "Lade Datei: /content/observation_tables/observation_tables/parquet/part-194.parquet\n",
            "32334 Werte in Datei gefunden.\n",
            "Lade Datei: /content/observation_tables/observation_tables/parquet/part-214.parquet\n",
            "23638 Werte in Datei gefunden.\n",
            "Lade Datei: /content/observation_tables/observation_tables/parquet/part-206.parquet\n",
            "30225 Werte in Datei gefunden.\n",
            "Lade Datei: /content/observation_tables/observation_tables/parquet/part-83.parquet\n",
            "27978 Werte in Datei gefunden.\n",
            "Lade Datei: /content/observation_tables/observation_tables/parquet/part-208.parquet\n",
            "46279 Werte in Datei gefunden.\n",
            "Lade Datei: /content/observation_tables/observation_tables/parquet/part-209.parquet\n",
            "29826 Werte in Datei gefunden.\n",
            "Lade Datei: /content/observation_tables/observation_tables/parquet/part-213.parquet\n",
            "20346 Werte in Datei gefunden.\n",
            "Lade Datei: /content/observation_tables/observation_tables/parquet/part-167.parquet\n",
            "22738 Werte in Datei gefunden.\n",
            "Lade Datei: /content/observation_tables/observation_tables/parquet/part-150.parquet\n",
            "23471 Werte in Datei gefunden.\n",
            "Lade Datei: /content/observation_tables/observation_tables/parquet/part-124.parquet\n",
            "21064 Werte in Datei gefunden.\n",
            "Lade Datei: /content/observation_tables/observation_tables/parquet/part-102.parquet\n",
            "26752 Werte in Datei gefunden.\n",
            "Lade Datei: /content/observation_tables/observation_tables/parquet/part-25.parquet\n",
            "20327 Werte in Datei gefunden.\n",
            "Lade Datei: /content/observation_tables/observation_tables/parquet/part-26.parquet\n",
            "41305 Werte in Datei gefunden.\n",
            "Lade Datei: /content/observation_tables/observation_tables/parquet/part-113.parquet\n",
            "27216 Werte in Datei gefunden.\n",
            "Lade Datei: /content/observation_tables/observation_tables/parquet/part-216.parquet\n",
            "32800 Werte in Datei gefunden.\n",
            "Lade Datei: /content/observation_tables/observation_tables/parquet/part-126.parquet\n",
            "23559 Werte in Datei gefunden.\n",
            "Lade Datei: /content/observation_tables/observation_tables/parquet/part-11.parquet\n",
            "20436 Werte in Datei gefunden.\n",
            "Lade Datei: /content/observation_tables/observation_tables/parquet/part-149.parquet\n",
            "25206 Werte in Datei gefunden.\n",
            "Lade Datei: /content/observation_tables/observation_tables/parquet/part-232.parquet\n",
            "20554 Werte in Datei gefunden.\n",
            "Lade Datei: /content/observation_tables/observation_tables/parquet/part-187.parquet\n",
            "35893 Werte in Datei gefunden.\n",
            "Lade Datei: /content/observation_tables/observation_tables/parquet/part-145.parquet\n",
            "31847 Werte in Datei gefunden.\n",
            "Lade Datei: /content/observation_tables/observation_tables/parquet/part-49.parquet\n",
            "22403 Werte in Datei gefunden.\n",
            "Lade Datei: /content/observation_tables/observation_tables/parquet/part-233.parquet\n",
            "37113 Werte in Datei gefunden.\n",
            "Lade Datei: /content/observation_tables/observation_tables/parquet/part-241.parquet\n",
            "20272 Werte in Datei gefunden.\n",
            "Lade Datei: /content/observation_tables/observation_tables/parquet/part-249.parquet\n",
            "22229 Werte in Datei gefunden.\n",
            "Lade Datei: /content/observation_tables/observation_tables/parquet/part-95.parquet\n",
            "21056 Werte in Datei gefunden.\n",
            "Lade Datei: /content/observation_tables/observation_tables/parquet/part-160.parquet\n",
            "36618 Werte in Datei gefunden.\n",
            "Lade Datei: /content/observation_tables/observation_tables/parquet/part-200.parquet\n",
            "34410 Werte in Datei gefunden.\n",
            "Lade Datei: /content/observation_tables/observation_tables/parquet/part-140.parquet\n",
            "25485 Werte in Datei gefunden.\n",
            "Lade Datei: /content/observation_tables/observation_tables/parquet/part-138.parquet\n",
            "22761 Werte in Datei gefunden.\n",
            "Lade Datei: /content/observation_tables/observation_tables/parquet/part-46.parquet\n",
            "23556 Werte in Datei gefunden.\n",
            "Lade Datei: /content/observation_tables/observation_tables/parquet/part-119.parquet\n",
            "43247 Werte in Datei gefunden.\n",
            "Lade Datei: /content/observation_tables/observation_tables/parquet/part-90.parquet\n",
            "32827 Werte in Datei gefunden.\n",
            "Lade Datei: /content/observation_tables/observation_tables/parquet/part-50.parquet\n",
            "29581 Werte in Datei gefunden.\n",
            "Lade Datei: /content/observation_tables/observation_tables/parquet/part-86.parquet\n",
            "16025 Werte in Datei gefunden.\n",
            "Lade Datei: /content/observation_tables/observation_tables/parquet/part-182.parquet\n",
            "32925 Werte in Datei gefunden.\n",
            "Lade Datei: /content/observation_tables/observation_tables/parquet/part-205.parquet\n",
            "20723 Werte in Datei gefunden.\n",
            "Lade Datei: /content/observation_tables/observation_tables/parquet/part-40.parquet\n",
            "33032 Werte in Datei gefunden.\n",
            "Lade Datei: /content/observation_tables/observation_tables/parquet/part-172.parquet\n",
            "19633 Werte in Datei gefunden.\n",
            "Lade Datei: /content/observation_tables/observation_tables/parquet/part-133.parquet\n",
            "18253 Werte in Datei gefunden.\n",
            "Lade Datei: /content/observation_tables/observation_tables/parquet/part-154.parquet\n",
            "23543 Werte in Datei gefunden.\n",
            "Lade Datei: /content/observation_tables/observation_tables/parquet/part-70.parquet\n",
            "18535 Werte in Datei gefunden.\n",
            "Lade Datei: /content/observation_tables/observation_tables/parquet/part-97.parquet\n",
            "22904 Werte in Datei gefunden.\n",
            "Lade Datei: /content/observation_tables/observation_tables/parquet/part-64.parquet\n",
            "20247 Werte in Datei gefunden.\n",
            "Lade Datei: /content/observation_tables/observation_tables/parquet/part-89.parquet\n",
            "15816 Werte in Datei gefunden.\n",
            "Lade Datei: /content/observation_tables/observation_tables/parquet/part-78.parquet\n",
            "31363 Werte in Datei gefunden.\n",
            "Lade Datei: /content/observation_tables/observation_tables/parquet/part-55.parquet\n",
            "17143 Werte in Datei gefunden.\n",
            "Lade Datei: /content/observation_tables/observation_tables/parquet/part-165.parquet\n",
            "27580 Werte in Datei gefunden.\n",
            "Lade Datei: /content/observation_tables/observation_tables/parquet/part-4.parquet\n",
            "16068 Werte in Datei gefunden.\n",
            "Lade Datei: /content/observation_tables/observation_tables/parquet/part-210.parquet\n",
            "18187 Werte in Datei gefunden.\n",
            "Lade Datei: /content/observation_tables/observation_tables/parquet/part-19.parquet\n",
            "38121 Werte in Datei gefunden.\n",
            "Lade Datei: /content/observation_tables/observation_tables/parquet/part-237.parquet\n",
            "19603 Werte in Datei gefunden.\n",
            "Lade Datei: /content/observation_tables/observation_tables/parquet/part-227.parquet\n",
            "19429 Werte in Datei gefunden.\n",
            "Lade Datei: /content/observation_tables/observation_tables/parquet/part-88.parquet\n",
            "32769 Werte in Datei gefunden.\n",
            "Lade Datei: /content/observation_tables/observation_tables/parquet/part-85.parquet\n",
            "28274 Werte in Datei gefunden.\n",
            "Lade Datei: /content/observation_tables/observation_tables/parquet/part-166.parquet\n",
            "30790 Werte in Datei gefunden.\n",
            "Lade Datei: /content/observation_tables/observation_tables/parquet/part-58.parquet\n",
            "31006 Werte in Datei gefunden.\n",
            "Lade Datei: /content/observation_tables/observation_tables/parquet/part-196.parquet\n",
            "31503 Werte in Datei gefunden.\n",
            "Lade Datei: /content/observation_tables/observation_tables/parquet/part-225.parquet\n",
            "21968 Werte in Datei gefunden.\n",
            "Lade Datei: /content/observation_tables/observation_tables/parquet/part-77.parquet\n",
            "25732 Werte in Datei gefunden.\n",
            "Lade Datei: /content/observation_tables/observation_tables/parquet/part-71.parquet\n",
            "26325 Werte in Datei gefunden.\n",
            "Lade Datei: /content/observation_tables/observation_tables/parquet/part-61.parquet\n",
            "25847 Werte in Datei gefunden.\n",
            "Lade Datei: /content/observation_tables/observation_tables/parquet/part-8.parquet\n",
            "35173 Werte in Datei gefunden.\n",
            "Lade Datei: /content/observation_tables/observation_tables/parquet/part-73.parquet\n",
            "23460 Werte in Datei gefunden.\n",
            "Lade Datei: /content/observation_tables/observation_tables/parquet/part-240.parquet\n",
            "35650 Werte in Datei gefunden.\n",
            "Lade Datei: /content/observation_tables/observation_tables/parquet/part-132.parquet\n",
            "22359 Werte in Datei gefunden.\n",
            "Lade Datei: /content/observation_tables/observation_tables/parquet/part-135.parquet\n",
            "29398 Werte in Datei gefunden.\n",
            "Lade Datei: /content/observation_tables/observation_tables/parquet/part-198.parquet\n",
            "30868 Werte in Datei gefunden.\n",
            "Lade Datei: /content/observation_tables/observation_tables/parquet/part-92.parquet\n",
            "32069 Werte in Datei gefunden.\n",
            "Lade Datei: /content/observation_tables/observation_tables/parquet/part-115.parquet\n",
            "20562 Werte in Datei gefunden.\n",
            "Lade Datei: /content/observation_tables/observation_tables/parquet/part-158.parquet\n",
            "21828 Werte in Datei gefunden.\n",
            "Lade Datei: /content/observation_tables/observation_tables/parquet/part-17.parquet\n",
            "31631 Werte in Datei gefunden.\n",
            "Lade Datei: /content/observation_tables/observation_tables/parquet/part-215.parquet\n",
            "21048 Werte in Datei gefunden.\n",
            "Lade Datei: /content/observation_tables/observation_tables/parquet/part-75.parquet\n",
            "22556 Werte in Datei gefunden.\n",
            "Lade Datei: /content/observation_tables/observation_tables/parquet/part-91.parquet\n",
            "24709 Werte in Datei gefunden.\n",
            "Lade Datei: /content/observation_tables/observation_tables/parquet/part-32.parquet\n",
            "40998 Werte in Datei gefunden.\n",
            "Lade Datei: /content/observation_tables/observation_tables/parquet/part-195.parquet\n",
            "29394 Werte in Datei gefunden.\n",
            "Lade Datei: /content/observation_tables/observation_tables/parquet/part-82.parquet\n",
            "25794 Werte in Datei gefunden.\n",
            "Lade Datei: /content/observation_tables/observation_tables/parquet/part-51.parquet\n",
            "20162 Werte in Datei gefunden.\n",
            "Lade Datei: /content/observation_tables/observation_tables/parquet/part-244.parquet\n",
            "34536 Werte in Datei gefunden.\n",
            "Lade Datei: /content/observation_tables/observation_tables/parquet/part-57.parquet\n",
            "27333 Werte in Datei gefunden.\n",
            "Lade Datei: /content/observation_tables/observation_tables/parquet/part-120.parquet\n",
            "17647 Werte in Datei gefunden.\n",
            "Lade Datei: /content/observation_tables/observation_tables/parquet/part-117.parquet\n",
            "19389 Werte in Datei gefunden.\n",
            "Lade Datei: /content/observation_tables/observation_tables/parquet/part-116.parquet\n",
            "41707 Werte in Datei gefunden.\n",
            "Lade Datei: /content/observation_tables/observation_tables/parquet/part-96.parquet\n",
            "28097 Werte in Datei gefunden.\n",
            "Lade Datei: /content/observation_tables/observation_tables/parquet/part-72.parquet\n",
            "44899 Werte in Datei gefunden.\n",
            "Lade Datei: /content/observation_tables/observation_tables/parquet/part-191.parquet\n",
            "40252 Werte in Datei gefunden.\n",
            "Lade Datei: /content/observation_tables/observation_tables/parquet/part-193.parquet\n",
            "12239 Werte in Datei gefunden.\n",
            "Lade Datei: /content/observation_tables/observation_tables/parquet/part-230.parquet\n",
            "18466 Werte in Datei gefunden.\n",
            "Lade Datei: /content/observation_tables/observation_tables/parquet/part-104.parquet\n",
            "27871 Werte in Datei gefunden.\n",
            "Lade Datei: /content/observation_tables/observation_tables/parquet/part-79.parquet\n",
            "28650 Werte in Datei gefunden.\n",
            "Lade Datei: /content/observation_tables/observation_tables/parquet/part-248.parquet\n",
            "40017 Werte in Datei gefunden.\n",
            "Lade Datei: /content/observation_tables/observation_tables/parquet/part-223.parquet\n",
            "11457 Werte in Datei gefunden.\n",
            "Lade Datei: /content/observation_tables/observation_tables/parquet/part-106.parquet\n",
            "27705 Werte in Datei gefunden.\n",
            "Lade Datei: /content/observation_tables/observation_tables/parquet/part-131.parquet\n",
            "30742 Werte in Datei gefunden.\n",
            "Lade Datei: /content/observation_tables/observation_tables/parquet/part-127.parquet\n",
            "23918 Werte in Datei gefunden.\n",
            "Lade Datei: /content/observation_tables/observation_tables/parquet/part-217.parquet\n",
            "30118 Werte in Datei gefunden.\n",
            "Lade Datei: /content/observation_tables/observation_tables/parquet/part-41.parquet\n",
            "31156 Werte in Datei gefunden.\n",
            "Lade Datei: /content/observation_tables/observation_tables/parquet/part-112.parquet\n",
            "33973 Werte in Datei gefunden.\n",
            "Lade Datei: /content/observation_tables/observation_tables/parquet/part-180.parquet\n",
            "23103 Werte in Datei gefunden.\n",
            "Lade Datei: /content/observation_tables/observation_tables/parquet/part-161.parquet\n",
            "20415 Werte in Datei gefunden.\n",
            "Lade Datei: /content/observation_tables/observation_tables/parquet/part-238.parquet\n",
            "26953 Werte in Datei gefunden.\n",
            "Lade Datei: /content/observation_tables/observation_tables/parquet/part-21.parquet\n",
            "25944 Werte in Datei gefunden.\n",
            "Lade Datei: /content/observation_tables/observation_tables/parquet/part-111.parquet\n",
            "27022 Werte in Datei gefunden.\n",
            "Lade Datei: /content/observation_tables/observation_tables/parquet/part-168.parquet\n",
            "20243 Werte in Datei gefunden.\n",
            "Lade Datei: /content/observation_tables/observation_tables/parquet/part-204.parquet\n",
            "19941 Werte in Datei gefunden.\n",
            "Lade Datei: /content/observation_tables/observation_tables/parquet/part-44.parquet\n",
            "37973 Werte in Datei gefunden.\n",
            "Lade Datei: /content/observation_tables/observation_tables/parquet/part-118.parquet\n",
            "52276 Werte in Datei gefunden.\n",
            "Lade Datei: /content/observation_tables/observation_tables/parquet/part-30.parquet\n",
            "15982 Werte in Datei gefunden.\n",
            "Lade Datei: /content/observation_tables/observation_tables/parquet/part-163.parquet\n",
            "19260 Werte in Datei gefunden.\n",
            "Lade Datei: /content/observation_tables/observation_tables/parquet/part-39.parquet\n",
            "25931 Werte in Datei gefunden.\n",
            "Lade Datei: /content/observation_tables/observation_tables/parquet/part-175.parquet\n",
            "26957 Werte in Datei gefunden.\n",
            "Lade Datei: /content/observation_tables/observation_tables/parquet/part-247.parquet\n",
            "22255 Werte in Datei gefunden.\n",
            "Lade Datei: /content/observation_tables/observation_tables/parquet/part-12.parquet\n",
            "29305 Werte in Datei gefunden.\n",
            "Lade Datei: /content/observation_tables/observation_tables/parquet/part-224.parquet\n",
            "17610 Werte in Datei gefunden.\n",
            "Lade Datei: /content/observation_tables/observation_tables/parquet/part-130.parquet\n",
            "16061 Werte in Datei gefunden.\n",
            "Lade Datei: /content/observation_tables/observation_tables/parquet/part-229.parquet\n",
            "24799 Werte in Datei gefunden.\n",
            "Lade Datei: /content/observation_tables/observation_tables/parquet/part-199.parquet\n",
            "28104 Werte in Datei gefunden.\n",
            "Lade Datei: /content/observation_tables/observation_tables/parquet/part-202.parquet\n",
            "25580 Werte in Datei gefunden.\n",
            "Lade Datei: /content/observation_tables/observation_tables/parquet/part-31.parquet\n",
            "30095 Werte in Datei gefunden.\n",
            "Lade Datei: /content/observation_tables/observation_tables/parquet/part-235.parquet\n",
            "19401 Werte in Datei gefunden.\n",
            "Lade Datei: /content/observation_tables/observation_tables/parquet/part-6.parquet\n",
            "52162 Werte in Datei gefunden.\n",
            "Lade Datei: /content/observation_tables/observation_tables/parquet/part-153.parquet\n",
            "31749 Werte in Datei gefunden.\n",
            "Lade Datei: /content/observation_tables/observation_tables/parquet/part-164.parquet\n",
            "19469 Werte in Datei gefunden.\n",
            "Lade Datei: /content/observation_tables/observation_tables/parquet/part-38.parquet\n",
            "27353 Werte in Datei gefunden.\n",
            "Lade Datei: /content/observation_tables/observation_tables/parquet/part-109.parquet\n",
            "20495 Werte in Datei gefunden.\n",
            "Lade Datei: /content/observation_tables/observation_tables/parquet/part-18.parquet\n",
            "28792 Werte in Datei gefunden.\n",
            "Lade Datei: /content/observation_tables/observation_tables/parquet/part-28.parquet\n",
            "11689 Werte in Datei gefunden.\n",
            "Lade Datei: /content/observation_tables/observation_tables/parquet/part-5.parquet\n",
            "24847 Werte in Datei gefunden.\n",
            "Lade Datei: /content/observation_tables/observation_tables/parquet/part-169.parquet\n",
            "21512 Werte in Datei gefunden.\n",
            "Lade Datei: /content/observation_tables/observation_tables/parquet/part-33.parquet\n",
            "31101 Werte in Datei gefunden.\n",
            "Lade Datei: /content/observation_tables/observation_tables/parquet/part-107.parquet\n",
            "33711 Werte in Datei gefunden.\n",
            "Lade Datei: /content/observation_tables/observation_tables/parquet/part-22.parquet\n",
            "22068 Werte in Datei gefunden.\n",
            "Lade Datei: /content/observation_tables/observation_tables/parquet/part-52.parquet\n",
            "22627 Werte in Datei gefunden.\n",
            "Lade Datei: /content/observation_tables/observation_tables/parquet/part-186.parquet\n",
            "28351 Werte in Datei gefunden.\n",
            "Lade Datei: /content/observation_tables/observation_tables/parquet/part-179.parquet\n",
            "29680 Werte in Datei gefunden.\n",
            "Lade Datei: /content/observation_tables/observation_tables/parquet/part-0.parquet\n",
            "26608 Werte in Datei gefunden.\n",
            "Lade Datei: /content/observation_tables/observation_tables/parquet/part-16.parquet\n",
            "13863 Werte in Datei gefunden.\n",
            "Lade Datei: /content/observation_tables/observation_tables/parquet/part-60.parquet\n",
            "24357 Werte in Datei gefunden.\n",
            "Lade Datei: /content/observation_tables/observation_tables/parquet/part-162.parquet\n",
            "28346 Werte in Datei gefunden.\n",
            "Lade Datei: /content/observation_tables/observation_tables/parquet/part-212.parquet\n",
            "22253 Werte in Datei gefunden.\n",
            "Lade Datei: /content/observation_tables/observation_tables/parquet/part-108.parquet\n",
            "27649 Werte in Datei gefunden.\n",
            "Lade Datei: /content/observation_tables/observation_tables/parquet/part-203.parquet\n",
            "28545 Werte in Datei gefunden.\n",
            "Lade Datei: /content/observation_tables/observation_tables/parquet/part-110.parquet\n",
            "26733 Werte in Datei gefunden.\n",
            "Lade Datei: /content/observation_tables/observation_tables/parquet/part-48.parquet\n",
            "28454 Werte in Datei gefunden.\n",
            "Lade Datei: /content/observation_tables/observation_tables/parquet/part-68.parquet\n",
            "16265 Werte in Datei gefunden.\n",
            "Lade Datei: /content/observation_tables/observation_tables/parquet/part-37.parquet\n",
            "20468 Werte in Datei gefunden.\n",
            "Lade Datei: /content/observation_tables/observation_tables/parquet/part-27.parquet\n",
            "25076 Werte in Datei gefunden.\n",
            "Lade Datei: /content/observation_tables/observation_tables/parquet/part-36.parquet\n",
            "27901 Werte in Datei gefunden.\n",
            "Lade Datei: /content/observation_tables/observation_tables/parquet/part-221.parquet\n",
            "28102 Werte in Datei gefunden.\n",
            "Lade Datei: /content/observation_tables/observation_tables/parquet/part-211.parquet\n",
            "26459 Werte in Datei gefunden.\n",
            "Lade Datei: /content/observation_tables/observation_tables/parquet/part-207.parquet\n",
            "23587 Werte in Datei gefunden.\n",
            "Lade Datei: /content/observation_tables/observation_tables/parquet/part-94.parquet\n",
            "16090 Werte in Datei gefunden.\n",
            "Lade Datei: /content/observation_tables/observation_tables/parquet/part-190.parquet\n",
            "35691 Werte in Datei gefunden.\n",
            "Lade Datei: /content/observation_tables/observation_tables/parquet/part-171.parquet\n",
            "22050 Werte in Datei gefunden.\n",
            "Lade Datei: /content/observation_tables/observation_tables/parquet/part-176.parquet\n",
            "24060 Werte in Datei gefunden.\n",
            "Lade Datei: /content/observation_tables/observation_tables/parquet/part-189.parquet\n",
            "30346 Werte in Datei gefunden.\n",
            "Lade Datei: /content/observation_tables/observation_tables/parquet/part-29.parquet\n",
            "23846 Werte in Datei gefunden.\n",
            "Lade Datei: /content/observation_tables/observation_tables/parquet/part-67.parquet\n",
            "22184 Werte in Datei gefunden.\n",
            "Lade Datei: /content/observation_tables/observation_tables/parquet/part-134.parquet\n",
            "28642 Werte in Datei gefunden.\n",
            "Lade Datei: /content/observation_tables/observation_tables/parquet/part-74.parquet\n",
            "30107 Werte in Datei gefunden.\n",
            "Lade Datei: /content/observation_tables/observation_tables/parquet/part-35.parquet\n",
            "29121 Werte in Datei gefunden.\n",
            "Lade Datei: /content/observation_tables/observation_tables/parquet/part-63.parquet\n",
            "27288 Werte in Datei gefunden.\n",
            "Lade Datei: /content/observation_tables/observation_tables/parquet/part-43.parquet\n",
            "33254 Werte in Datei gefunden.\n",
            "Lade Datei: /content/observation_tables/observation_tables/parquet/part-114.parquet\n",
            "40895 Werte in Datei gefunden.\n",
            "Lade Datei: /content/observation_tables/observation_tables/parquet/part-220.parquet\n",
            "44050 Werte in Datei gefunden.\n",
            "Lade Datei: /content/observation_tables/observation_tables/parquet/part-139.parquet\n",
            "28762 Werte in Datei gefunden.\n",
            "Lade Datei: /content/observation_tables/observation_tables/parquet/part-121.parquet\n",
            "30555 Werte in Datei gefunden.\n",
            "Lade Datei: /content/observation_tables/observation_tables/parquet/part-226.parquet\n",
            "22449 Werte in Datei gefunden.\n",
            "Lade Datei: /content/observation_tables/observation_tables/parquet/part-125.parquet\n",
            "24112 Werte in Datei gefunden.\n",
            "Lade Datei: /content/observation_tables/observation_tables/parquet/part-9.parquet\n",
            "25606 Werte in Datei gefunden.\n",
            "Lade Datei: /content/observation_tables/observation_tables/parquet/part-146.parquet\n",
            "30975 Werte in Datei gefunden.\n",
            "Lade Datei: /content/observation_tables/observation_tables/parquet/part-81.parquet\n",
            "36302 Werte in Datei gefunden.\n",
            "Lade Datei: /content/observation_tables/observation_tables/parquet/part-93.parquet\n",
            "39281 Werte in Datei gefunden.\n",
            "Lade Datei: /content/observation_tables/observation_tables/parquet/part-231.parquet\n",
            "38408 Werte in Datei gefunden.\n",
            "Lade Datei: /content/observation_tables/observation_tables/parquet/part-181.parquet\n",
            "36371 Werte in Datei gefunden.\n",
            "Lade Datei: /content/observation_tables/observation_tables/parquet/part-151.parquet\n",
            "19903 Werte in Datei gefunden.\n",
            "Lade Datei: /content/observation_tables/observation_tables/parquet/part-122.parquet\n",
            "28647 Werte in Datei gefunden.\n",
            "Lade Datei: /content/observation_tables/observation_tables/parquet/part-242.parquet\n",
            "20188 Werte in Datei gefunden.\n",
            "Lade Datei: /content/observation_tables/observation_tables/parquet/part-246.parquet\n",
            "35010 Werte in Datei gefunden.\n",
            "Lade Datei: /content/observation_tables/observation_tables/parquet/part-15.parquet\n",
            "29614 Werte in Datei gefunden.\n",
            "Lade Datei: /content/observation_tables/observation_tables/parquet/part-243.parquet\n",
            "30061 Werte in Datei gefunden.\n",
            "Lade Datei: /content/observation_tables/observation_tables/parquet/part-188.parquet\n",
            "43763 Werte in Datei gefunden.\n",
            "Lade Datei: /content/observation_tables/observation_tables/parquet/part-100.parquet\n",
            "25462 Werte in Datei gefunden.\n",
            "Lade Datei: /content/observation_tables/observation_tables/parquet/part-159.parquet\n",
            "24033 Werte in Datei gefunden.\n",
            "Lade Datei: /content/observation_tables/observation_tables/parquet/part-142.parquet\n",
            "23396 Werte in Datei gefunden.\n",
            "Lade Datei: /content/observation_tables/observation_tables/parquet/part-14.parquet\n",
            "17623 Werte in Datei gefunden.\n",
            "Lade Datei: /content/observation_tables/observation_tables/parquet/part-192.parquet\n",
            "30745 Werte in Datei gefunden.\n",
            "Lade Datei: /content/observation_tables/observation_tables/parquet/part-137.parquet\n",
            "24856 Werte in Datei gefunden.\n",
            "Lade Datei: /content/observation_tables/observation_tables/parquet/part-177.parquet\n",
            "15324 Werte in Datei gefunden.\n",
            "Lade Datei: /content/observation_tables/observation_tables/parquet/part-24.parquet\n",
            "36895 Werte in Datei gefunden.\n",
            "Lade Datei: /content/observation_tables/observation_tables/parquet/part-228.parquet\n",
            "42340 Werte in Datei gefunden.\n",
            "Lade Datei: /content/observation_tables/observation_tables/parquet/part-87.parquet\n",
            "24584 Werte in Datei gefunden.\n",
            "Lade Datei: /content/observation_tables/observation_tables/parquet/part-184.parquet\n",
            "21190 Werte in Datei gefunden.\n",
            "Lade Datei: /content/observation_tables/observation_tables/parquet/part-141.parquet\n",
            "30172 Werte in Datei gefunden.\n",
            "Lade Datei: /content/observation_tables/observation_tables/parquet/part-47.parquet\n",
            "29897 Werte in Datei gefunden.\n",
            "Lade Datei: /content/observation_tables/observation_tables/parquet/part-143.parquet\n",
            "17993 Werte in Datei gefunden.\n",
            "Lade Datei: /content/observation_tables/observation_tables/parquet/part-156.parquet\n",
            "29498 Werte in Datei gefunden.\n",
            "Lade Datei: /content/observation_tables/observation_tables/parquet/part-7.parquet\n",
            "15089 Werte in Datei gefunden.\n",
            "Lade Datei: /content/observation_tables/observation_tables/parquet/part-54.parquet\n",
            "25609 Werte in Datei gefunden.\n",
            "Lade Datei: /content/observation_tables/observation_tables/parquet/part-218.parquet\n",
            "29119 Werte in Datei gefunden.\n",
            "Lade Datei: /content/observation_tables/observation_tables/parquet/part-53.parquet\n",
            "22516 Werte in Datei gefunden.\n",
            "Lade Datei: /content/observation_tables/observation_tables/parquet/part-62.parquet\n",
            "24969 Werte in Datei gefunden.\n",
            "Lade Datei: /content/observation_tables/observation_tables/parquet/part-157.parquet\n",
            "24182 Werte in Datei gefunden.\n",
            "Lade Datei: /content/observation_tables/observation_tables/parquet/part-20.parquet\n",
            "16981 Werte in Datei gefunden.\n",
            "Lade Datei: /content/observation_tables/observation_tables/parquet/part-178.parquet\n",
            "35136 Werte in Datei gefunden.\n",
            "Lade Datei: /content/observation_tables/observation_tables/parquet/part-245.parquet\n",
            "34938 Werte in Datei gefunden.\n",
            "Lade Datei: /content/observation_tables/observation_tables/parquet/part-128.parquet\n",
            "31163 Werte in Datei gefunden.\n",
            "Lade Datei: /content/observation_tables/observation_tables/parquet/part-13.parquet\n",
            "35320 Werte in Datei gefunden.\n",
            "Lade Datei: /content/observation_tables/observation_tables/parquet/part-136.parquet\n",
            "19802 Werte in Datei gefunden.\n",
            "Lade Datei: /content/observation_tables/observation_tables/parquet/part-234.parquet\n",
            "44726 Werte in Datei gefunden.\n",
            "Lade Datei: /content/observation_tables/observation_tables/parquet/part-105.parquet\n",
            "25961 Werte in Datei gefunden.\n",
            "Lade Datei: /content/observation_tables/observation_tables/parquet/part-148.parquet\n",
            "28529 Werte in Datei gefunden.\n",
            "Lade Datei: /content/observation_tables/observation_tables/parquet/part-2.parquet\n",
            "28437 Werte in Datei gefunden.\n",
            "Lade Datei: /content/observation_tables/observation_tables/parquet/part-69.parquet\n",
            "23388 Werte in Datei gefunden.\n",
            "Lade Datei: /content/observation_tables/observation_tables/parquet/part-101.parquet\n",
            "25359 Werte in Datei gefunden.\n",
            "Lade Datei: /content/observation_tables/observation_tables/parquet/part-66.parquet\n",
            "26216 Werte in Datei gefunden.\n",
            "\n",
            " Gesamtanzahl nicht-NaN-Werte für VariableID 3845: 6734270\n"
          ]
        }
      ]
    },
    {
      "cell_type": "code",
      "source": [],
      "metadata": {
        "id": "-Tj1mPl0yRko"
      },
      "execution_count": null,
      "outputs": []
    },
    {
      "cell_type": "markdown",
      "source": [
        "# Tabelle nur mit einer variableid"
      ],
      "metadata": {
        "id": "IQzihsUsyVwL"
      }
    },
    {
      "cell_type": "code",
      "source": [
        "variableid = 200"
      ],
      "metadata": {
        "id": "g3eOBLXT1ysv"
      },
      "execution_count": 22,
      "outputs": []
    },
    {
      "cell_type": "code",
      "source": [
        "# Filter anwenden\n",
        "filtered_df = df_part[df_part[\"variableid\"] == variableid]\n",
        "\n",
        "# Nach Zeit sortieren, falls vorhanden\n",
        "if \"timestamp\" in filtered_df.columns:\n",
        "    filtered_df = filtered_df.sort_values(\"timestamp\")\n",
        "\n",
        "# Ausgabe\n",
        "print(filtered_df.head(20))"
      ],
      "metadata": {
        "id": "-29Gky_mycxA",
        "outputId": "ab3cdb83-3fd6-43fa-a1cc-6f56be996c5a",
        "colab": {
          "base_uri": "https://localhost:8080/"
        }
      },
      "execution_count": 23,
      "outputs": [
        {
          "output_type": "stream",
          "name": "stdout",
          "text": [
            "                   datetime               entertime  patientid  status stringvalue type  value  variableid\n",
            "7   2176-11-05 12:07:32.130 2176-11-05 12:07:34.853         94       4                   100.0         200\n",
            "12  2176-11-05 12:09:15.070 2176-11-05 12:10:13.746         94      16                   108.0         200\n",
            "17  2176-11-05 12:10:58.810 2176-11-05 12:12:13.466         94      16                   121.0         200\n",
            "32  2176-11-05 12:13:36.900 2176-11-05 12:14:13.310         94      16                   104.0         200\n",
            "34  2176-11-05 12:14:29.280 2176-11-05 12:16:13.030         94      16                   109.0         200\n",
            "43  2176-11-05 12:17:55.620 2176-11-05 12:18:12.796         94      16                   100.0         200\n",
            "44  2176-11-05 12:19:40.250 2176-11-05 12:20:12.576         94      16                   100.0         200\n",
            "50  2176-11-05 12:21:24.020 2176-11-05 12:22:12.203         94      16                   108.0         200\n",
            "54  2176-11-05 12:22:15.350 2176-11-05 12:24:12.016         94      16                   105.0         200\n",
            "59  2176-11-05 12:24:50.340 2176-11-05 12:26:11.846         94      16                   100.0         200\n",
            "64  2176-11-05 12:26:34.970 2176-11-05 12:28:11.590         94      16                   108.0         200\n",
            "69  2176-11-05 12:29:10.030 2176-11-05 12:30:11.510         94      16                   101.0         200\n",
            "74  2176-11-05 12:30:53.670 2176-11-05 12:32:11.310         94      16                   102.0         200\n",
            "79  2176-11-05 12:32:37.440 2176-11-05 12:34:10.953         94      16                   115.0         200\n",
            "85  2176-11-05 12:35:12.520 2176-11-05 12:36:09.763         94      16                   103.0         200\n",
            "89  2176-11-05 12:36:56.190 2176-11-05 12:38:09.340         94      16                   116.0         200\n",
            "94  2176-11-05 12:38:40.100 2176-11-05 12:40:09.070         94      16                   104.0         200\n",
            "99  2176-11-05 12:40:23.760 2176-11-05 12:42:08.640         94      16                   104.0         200\n",
            "108 2176-11-05 12:43:50.460 2176-11-05 12:44:08.176         94      16                   115.0         200\n",
            "109 2176-11-05 12:44:41.790 2176-11-05 12:46:07.603         94      16                   110.0         200\n"
          ]
        }
      ]
    },
    {
      "cell_type": "code",
      "source": [],
      "metadata": {
        "id": "YSv46rAQyqkB"
      },
      "execution_count": null,
      "outputs": []
    },
    {
      "cell_type": "markdown",
      "source": [
        "# Statistical Analysis"
      ],
      "metadata": {
        "id": "TbrE-5Vd6ess"
      }
    },
    {
      "cell_type": "code",
      "source": [
        "variableid = 2400"
      ],
      "metadata": {
        "id": "0vdeNsC093HR"
      },
      "execution_count": 24,
      "outputs": []
    },
    {
      "cell_type": "code",
      "source": [
        "def plot_variable_distribution(df, variableid=\"2400\", weight_variableid=\"10000480\"):\n",
        "    \"\"\"\n",
        "    Plots the distribution of a specific variable (e.g. tidal volume) with optional normalization by weight.\n",
        "\n",
        "    Args:\n",
        "        df (pd.DataFrame): DataFrame containing HiRID data\n",
        "        variableid (str): Variable ID to analyze (default = '3845')\n",
        "        weight_variableid (str): Variable ID for weight (used for normalization), default = 'vm131'\n",
        "    \"\"\"\n",
        "    # Filter data for the target variable\n",
        "    var_df = df[df[\"variableid\"] == variableid].copy()\n",
        "    print(f\"Found {len(var_df)} entries for variableid {variableid}\")\n",
        "\n",
        "    if var_df.empty:\n",
        "        print(\"No data available for this variable.\")\n",
        "        return\n",
        "\n",
        "    # Try to normalize by weight if available\n",
        "    weight_df = df[df[\"variableid\"] == weight_variableid][[\"patientid\", \"value\"]].rename(columns={\"value\": \"weight\"})\n",
        "    weight_df = weight_df.dropna().drop_duplicates(\"patientid\")\n",
        "\n",
        "    # Merge weight per patient\n",
        "    var_df = var_df.merge(weight_df, on=\"patientid\", how=\"left\")\n",
        "\n",
        "    # Normalize if weight is available\n",
        "    var_df[\"normalized_value\"] = var_df[\"value\"] / var_df[\"weight\"]\n",
        "    use_normalized = var_df[\"normalized_value\"].notna().sum() > 0\n",
        "\n",
        "    # Plotting\n",
        "    plt.figure(figsize=(10, 6))\n",
        "    if use_normalized:\n",
        "        sns.histplot(var_df[\"normalized_value\"].dropna(), bins=30, kde=False)\n",
        "        plt.xlabel(\"Value (normalized by weight in ml/kg)\")\n",
        "    else:\n",
        "        sns.histplot(var_df[\"value\"].dropna(), bins=30, kde=False)\n",
        "        plt.xlabel(\"Raw Value\")\n",
        "\n",
        "    plt.title(f\"Distribution of Variable ID {variableid}\")\n",
        "    plt.ylabel(\"Number of Occurrences\")\n",
        "    plt.grid(True)\n",
        "    plt.tight_layout()\n",
        "    plt.show()\n"
      ],
      "metadata": {
        "id": "TMepuU6F-AjV"
      },
      "execution_count": 25,
      "outputs": []
    },
    {
      "cell_type": "code",
      "source": [
        "plot_variable_distribution(df_part, variableid=\"2400\")\n"
      ],
      "metadata": {
        "id": "jbJJPL_K-Cos",
        "outputId": "3e619443-218d-4c56-8a32-bd9d5bd83e18",
        "colab": {
          "base_uri": "https://localhost:8080/"
        }
      },
      "execution_count": 26,
      "outputs": [
        {
          "output_type": "stream",
          "name": "stdout",
          "text": [
            "Found 0 entries for variableid 2400\n",
            "No data available for this variable.\n"
          ]
        }
      ]
    },
    {
      "cell_type": "code",
      "source": [
        "df_all = pd.concat([pd.read_parquet(file) for file in all_parquet_files])\n",
        "plot_variable_distribution(df_all, variableid=\"2400\")\n"
      ],
      "metadata": {
        "id": "k-1wo3p--F0E"
      },
      "execution_count": null,
      "outputs": []
    },
    {
      "cell_type": "code",
      "source": [
        "#error versuch, da mit vm(...) statt variableid = (Zahl)\n",
        "\n",
        "\n",
        "\n",
        "import pandas as pd\n",
        "import numpy as np\n",
        "import matplotlib.pyplot as plt\n",
        "import seaborn as sns\n",
        "\n",
        "# Function 1: Plot distribution of Tidal Volume\n",
        "def plot_tidal_volume_distribution(df, variable_ids=[\"vm61\"], weight_variable_id=\"vm131\"):\n",
        "    tidal_volume_df = df[df[\"variableid\"].isin(variable_ids)].copy()\n",
        "\n",
        "    # Optional: Normalize by weight if available\n",
        "    if weight_variable_id in df[\"variableid\"].unique():\n",
        "        weight_df = df[df[\"variableid\"] == weight_variable_id][[\"patientid\", \"value\"]].rename(columns={\"value\": \"weight\"})\n",
        "        tidal_volume_df = pd.merge(tidal_volume_df, weight_df, on=\"patientid\", how=\"left\")\n",
        "        tidal_volume_df[\"normalized_tv\"] = tidal_volume_df[\"value\"] / (tidal_volume_df[\"weight\"] + 1e-5)\n",
        "        plot_col = \"normalized_tv\"\n",
        "        xlabel = \"Tidal Volume [ml/kg]\"\n",
        "    else:\n",
        "        plot_col = \"value\"\n",
        "        xlabel = \"Tidal Volume [ml]\"\n",
        "\n",
        "    plt.figure(figsize=(10, 6))\n",
        "    sns.histplot(tidal_volume_df[plot_col], bins=50, kde=False, color=\"skyblue\")\n",
        "    plt.title(\"Distribution of Tidal Volume\")\n",
        "    plt.xlabel(xlabel)\n",
        "    plt.ylabel(\"Number of Occurrences\")\n",
        "    plt.grid(True)\n",
        "    plt.show()\n",
        "\n",
        "# Function 2: Plot number of tidal volume setting changes per patient\n",
        "def plot_num_tidal_volume_changes(df, variable_ids=[\"vm61\"]):\n",
        "    tv_df = df[df[\"variableid\"].isin(variable_ids)].copy()\n",
        "    tv_df.sort_values([\"patientid\", \"observationtime\"], inplace=True)\n",
        "\n",
        "    def count_changes(group):\n",
        "        return (group[\"value\"].diff().fillna(0) != 0).sum()\n",
        "\n",
        "    change_counts = tv_df.groupby(\"patientid\").apply(count_changes)\n",
        "\n",
        "    plt.figure(figsize=(10, 6))\n",
        "    sns.histplot(change_counts, bins=30, kde=False, color=\"salmon\")\n",
        "    plt.title(\"Number of Tidal Volume Changes per Patient\")\n",
        "    plt.xlabel(\"Number of Changes\")\n",
        "    plt.ylabel(\"Number of Patients\")\n",
        "    plt.grid(True)\n",
        "    plt.show()\n",
        "\n",
        "# Function 3: Plot variability (standard deviation) of tidal volume per patient\n",
        "def plot_tidal_volume_variability(df, variable_ids=[\"vm61\"]):\n",
        "    tv_df = df[df[\"variableid\"].isin(variable_ids)].copy()\n",
        "    variability = tv_df.groupby(\"patientid\")[\"value\"].std()\n",
        "\n",
        "    plt.figure(figsize=(10, 6))\n",
        "    sns.histplot(variability.dropna(), bins=30, kde=False, color=\"mediumseagreen\")\n",
        "    plt.title(\"Tidal Volume Variability per Patient\")\n",
        "    plt.xlabel(\"Standard Deviation of Tidal Volume\")\n",
        "    plt.ylabel(\"Number of Patients\")\n",
        "    plt.grid(True)\n",
        "    plt.show()\n"
      ],
      "metadata": {
        "id": "9uWK7lZm6jNt"
      },
      "execution_count": 25,
      "outputs": []
    },
    {
      "cell_type": "code",
      "source": [
        "plot_tidal_volume_distribution(df_part)\n",
        "#plot_num_tidal_volume_changes(df_part)\n",
        "#plot_tidal_volume_variability(df_part)\n"
      ],
      "metadata": {
        "id": "2Y0Ore769Wai",
        "outputId": "7d22dd14-8186-4a2c-823f-b061ec8c01c6",
        "colab": {
          "base_uri": "https://localhost:8080/",
          "height": 564
        }
      },
      "execution_count": 27,
      "outputs": [
        {
          "output_type": "display_data",
          "data": {
            "text/plain": [
              "<Figure size 1000x600 with 1 Axes>"
            ],
            "image/png": "[encoded data removed]"
          },
          "metadata": {}
        }
      ]
    },
    {
      "cell_type": "markdown",
      "source": [
        "# Preprocessing"
      ],
      "metadata": {
        "id": "EX77DvoersyL"
      }
    },
    {
      "cell_type": "code",
      "source": [],
      "metadata": {
        "id": "VIjh5QHQrwgh"
      },
      "execution_count": null,
      "outputs": []
    },
    {
      "cell_type": "markdown",
      "source": [
        "# Label und Features"
      ],
      "metadata": {
        "id": "oiG-F0VyrR6A"
      }
    },
    {
      "cell_type": "code",
      "source": [],
      "metadata": {
        "id": "ut7xAfNptUJM"
      },
      "execution_count": null,
      "outputs": []
    }
  ],
  "metadata": {
    "hide_input": false,
    "kernelspec": {
      "display_name": "Python 3",
      "language": "python",
      "name": "python3"
    },
    "language_info": {
      "codemirror_mode": {
        "name": "ipython",
        "version": 3
      },
      "file_extension": ".py",
      "mimetype": "text/x-python",
      "name": "python",
      "nbconvert_exporter": "python",
      "pygments_lexer": "ipython3",
      "version": "3.7.5"
    },
    "toc": {
      "base_numbering": 1,
      "nav_menu": {},
      "number_sections": true,
      "sideBar": true,
      "skip_h1_title": false,
      "title_cell": "Table of Contents",
      "title_sidebar": "Contents",
      "toc_cell": false,
      "toc_position": {},
      "toc_section_display": true,
      "toc_window_display": false
    },
    "varInspector": {
      "cols": {
        "lenName": 16,
        "lenType": 16,
        "lenVar": 40
      },
      "kernels_config": {
        "python": {
          "delete_cmd_postfix": "",
          "delete_cmd_prefix": "del ",
          "library": "var_list.py",
          "varRefreshCmd": "print(var_dic_list())"
        },
        "r": {
          "delete_cmd_postfix": ") ",
          "delete_cmd_prefix": "rm(",
          "library": "var_list.r",
          "varRefreshCmd": "cat(var_dic_list()) "
        }
      },
      "types_to_exclude": [
        "module",
        "function",
        "builtin_function_or_method",
        "instance",
        "_Feature"
      ],
      "window_display": false
    },
    "colab": {
      "provenance": [],
      "include_colab_link": true
    }
  },
  "nbformat": 4,
  "nbformat_minor": 0
}