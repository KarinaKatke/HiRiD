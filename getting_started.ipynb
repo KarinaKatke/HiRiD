{
  "cells": [
    {
      "cell_type": "markdown",
      "metadata": {
        "id": "view-in-github",
        "colab_type": "text"
      },
      "source": [
        "<a href=\"https://colab.research.google.com/github/KarinaKatke/HiRiD/blob/main/getting_started.ipynb\" target=\"_parent\"><img src=\"https://colab.research.google.com/assets/colab-badge.svg\" alt=\"Open In Colab\"/></a>"
      ]
    },
    {
      "cell_type": "code",
      "execution_count": 1,
      "metadata": {
        "id": "krmx5PmjiROE"
      },
      "outputs": [],
      "source": [
        "import glob\n",
        "import math\n",
        "import numpy as np\n",
        "import os\n",
        "import pandas as pd\n",
        "import re\n",
        "import shutil\n",
        "import sys"
      ]
    },
    {
      "cell_type": "code",
      "source": [
        "from google.colab import drive\n",
        "drive.mount('/content/drive')"
      ],
      "metadata": {
        "id": "PB-2cpLMj_kQ",
        "outputId": "0683599e-2280-4555-a63d-d9b1059f2c60",
        "colab": {
          "base_uri": "https://localhost:8080/"
        }
      },
      "execution_count": 2,
      "outputs": [
        {
          "output_type": "stream",
          "name": "stdout",
          "text": [
            "Mounted at /content/drive\n"
          ]
        }
      ]
    },
    {
      "cell_type": "code",
      "execution_count": 3,
      "metadata": {
        "id": "fkZ3bEWuiROF"
      },
      "outputs": [],
      "source": [
        "data_path = '/content/drive/My Drive/HiRID/raw_stage'"
      ]
    },
    {
      "cell_type": "code",
      "source": [
        "# Extract Raw Data\n",
        "import tarfile\n",
        "\n",
        "file_path = '/content/drive/My Drive/HiRID/raw_stage/observation_tables_parquet.tar.gz'\n",
        "extract_path = '/content/observation_tables'\n",
        "\n",
        "with tarfile.open(file_path, 'r:gz') as tar:\n",
        "    tar.extractall(path=extract_path)"
      ],
      "metadata": {
        "id": "ioQc6WUNqag2"
      },
      "execution_count": 4,
      "outputs": []
    },
    {
      "cell_type": "code",
      "source": [
        "import os\n",
        "\n",
        "extracted_files = os.listdir(extract_path)\n",
        "print(extracted_files)"
      ],
      "metadata": {
        "id": "_9SkXN9aLldY",
        "outputId": "cf7953d6-cba1-481f-93ac-196cd571cb36",
        "colab": {
          "base_uri": "https://localhost:8080/"
        }
      },
      "execution_count": 5,
      "outputs": [
        {
          "output_type": "stream",
          "name": "stdout",
          "text": [
            "['observation_tables']\n"
          ]
        }
      ]
    },
    {
      "cell_type": "code",
      "source": [
        "observation_table_path = os.path.join(extract_path, 'observation_tables')"
      ],
      "metadata": {
        "id": "JhfryoTKq0tD"
      },
      "execution_count": 6,
      "outputs": []
    },
    {
      "cell_type": "code",
      "source": [
        "# Listing of all parquet files\n",
        "all_parquet_files = []\n",
        "for root, dirs, files in os.walk(observation_table_path):\n",
        "    for file in files:\n",
        "        if file.endswith('.parquet'):\n",
        "            all_parquet_files.append(os.path.join(root, file))\n",
        "\n",
        "print(all_parquet_files)"
      ],
      "metadata": {
        "id": "Z3Nu7UVzL5Bo",
        "outputId": "c4b57dbf-1187-4699-b0e3-b22ed5ee9919",
        "colab": {
          "base_uri": "https://localhost:8080/"
        }
      },
      "execution_count": 7,
      "outputs": [
        {
          "output_type": "stream",
          "name": "stdout",
          "text": [
            "['/content/observation_tables/observation_tables/parquet/part-78.parquet', '/content/observation_tables/observation_tables/parquet/part-12.parquet', '/content/observation_tables/observation_tables/parquet/part-64.parquet', '/content/observation_tables/observation_tables/parquet/part-113.parquet', '/content/observation_tables/observation_tables/parquet/part-122.parquet', '/content/observation_tables/observation_tables/parquet/part-140.parquet', '/content/observation_tables/observation_tables/parquet/part-84.parquet', '/content/observation_tables/observation_tables/parquet/part-138.parquet', '/content/observation_tables/observation_tables/parquet/part-218.parquet', '/content/observation_tables/observation_tables/parquet/part-161.parquet', '/content/observation_tables/observation_tables/parquet/part-119.parquet', '/content/observation_tables/observation_tables/parquet/part-123.parquet', '/content/observation_tables/observation_tables/parquet/part-90.parquet', '/content/observation_tables/observation_tables/parquet/part-160.parquet', '/content/observation_tables/observation_tables/parquet/part-209.parquet', '/content/observation_tables/observation_tables/parquet/part-164.parquet', '/content/observation_tables/observation_tables/parquet/part-245.parquet', '/content/observation_tables/observation_tables/parquet/part-5.parquet', '/content/observation_tables/observation_tables/parquet/part-104.parquet', '/content/observation_tables/observation_tables/parquet/part-133.parquet', '/content/observation_tables/observation_tables/parquet/part-4.parquet', '/content/observation_tables/observation_tables/parquet/part-174.parquet', '/content/observation_tables/observation_tables/parquet/part-39.parquet', '/content/observation_tables/observation_tables/parquet/part-228.parquet', '/content/observation_tables/observation_tables/parquet/part-48.parquet', '/content/observation_tables/observation_tables/parquet/part-177.parquet', '/content/observation_tables/observation_tables/parquet/part-6.parquet', '/content/observation_tables/observation_tables/parquet/part-58.parquet', '/content/observation_tables/observation_tables/parquet/part-68.parquet', '/content/observation_tables/observation_tables/parquet/part-167.parquet', '/content/observation_tables/observation_tables/parquet/part-3.parquet', '/content/observation_tables/observation_tables/parquet/part-171.parquet', '/content/observation_tables/observation_tables/parquet/part-204.parquet', '/content/observation_tables/observation_tables/parquet/part-231.parquet', '/content/observation_tables/observation_tables/parquet/part-15.parquet', '/content/observation_tables/observation_tables/parquet/part-179.parquet', '/content/observation_tables/observation_tables/parquet/part-108.parquet', '/content/observation_tables/observation_tables/parquet/part-242.parquet', '/content/observation_tables/observation_tables/parquet/part-189.parquet', '/content/observation_tables/observation_tables/parquet/part-50.parquet', '/content/observation_tables/observation_tables/parquet/part-224.parquet', '/content/observation_tables/observation_tables/parquet/part-197.parquet', '/content/observation_tables/observation_tables/parquet/part-80.parquet', '/content/observation_tables/observation_tables/parquet/part-212.parquet', '/content/observation_tables/observation_tables/parquet/part-181.parquet', '/content/observation_tables/observation_tables/parquet/part-187.parquet', '/content/observation_tables/observation_tables/parquet/part-243.parquet', '/content/observation_tables/observation_tables/parquet/part-102.parquet', '/content/observation_tables/observation_tables/parquet/part-196.parquet', '/content/observation_tables/observation_tables/parquet/part-94.parquet', '/content/observation_tables/observation_tables/parquet/part-157.parquet', '/content/observation_tables/observation_tables/parquet/part-131.parquet', '/content/observation_tables/observation_tables/parquet/part-115.parquet', '/content/observation_tables/observation_tables/parquet/part-225.parquet', '/content/observation_tables/observation_tables/parquet/part-57.parquet', '/content/observation_tables/observation_tables/parquet/part-116.parquet', '/content/observation_tables/observation_tables/parquet/part-235.parquet', '/content/observation_tables/observation_tables/parquet/part-195.parquet', '/content/observation_tables/observation_tables/parquet/part-201.parquet', '/content/observation_tables/observation_tables/parquet/part-67.parquet', '/content/observation_tables/observation_tables/parquet/part-22.parquet', '/content/observation_tables/observation_tables/parquet/part-121.parquet', '/content/observation_tables/observation_tables/parquet/part-186.parquet', '/content/observation_tables/observation_tables/parquet/part-236.parquet', '/content/observation_tables/observation_tables/parquet/part-128.parquet', '/content/observation_tables/observation_tables/parquet/part-207.parquet', '/content/observation_tables/observation_tables/parquet/part-47.parquet', '/content/observation_tables/observation_tables/parquet/part-182.parquet', '/content/observation_tables/observation_tables/parquet/part-199.parquet', '/content/observation_tables/observation_tables/parquet/part-87.parquet', '/content/observation_tables/observation_tables/parquet/part-148.parquet', '/content/observation_tables/observation_tables/parquet/part-229.parquet', '/content/observation_tables/observation_tables/parquet/part-185.parquet', '/content/observation_tables/observation_tables/parquet/part-66.parquet', '/content/observation_tables/observation_tables/parquet/part-150.parquet', '/content/observation_tables/observation_tables/parquet/part-73.parquet', '/content/observation_tables/observation_tables/parquet/part-93.parquet', '/content/observation_tables/observation_tables/parquet/part-54.parquet', '/content/observation_tables/observation_tables/parquet/part-45.parquet', '/content/observation_tables/observation_tables/parquet/part-159.parquet', '/content/observation_tables/observation_tables/parquet/part-24.parquet', '/content/observation_tables/observation_tables/parquet/part-32.parquet', '/content/observation_tables/observation_tables/parquet/part-194.parquet', '/content/observation_tables/observation_tables/parquet/part-0.parquet', '/content/observation_tables/observation_tables/parquet/part-69.parquet', '/content/observation_tables/observation_tables/parquet/part-190.parquet', '/content/observation_tables/observation_tables/parquet/part-8.parquet', '/content/observation_tables/observation_tables/parquet/part-234.parquet', '/content/observation_tables/observation_tables/parquet/part-143.parquet', '/content/observation_tables/observation_tables/parquet/part-19.parquet', '/content/observation_tables/observation_tables/parquet/part-81.parquet', '/content/observation_tables/observation_tables/parquet/part-91.parquet', '/content/observation_tables/observation_tables/parquet/part-246.parquet', '/content/observation_tables/observation_tables/parquet/part-65.parquet', '/content/observation_tables/observation_tables/parquet/part-74.parquet', '/content/observation_tables/observation_tables/parquet/part-203.parquet', '/content/observation_tables/observation_tables/parquet/part-149.parquet', '/content/observation_tables/observation_tables/parquet/part-62.parquet', '/content/observation_tables/observation_tables/parquet/part-52.parquet', '/content/observation_tables/observation_tables/parquet/part-10.parquet', '/content/observation_tables/observation_tables/parquet/part-216.parquet', '/content/observation_tables/observation_tables/parquet/part-244.parquet', '/content/observation_tables/observation_tables/parquet/part-193.parquet', '/content/observation_tables/observation_tables/parquet/part-9.parquet', '/content/observation_tables/observation_tables/parquet/part-49.parquet', '/content/observation_tables/observation_tables/parquet/part-165.parquet', '/content/observation_tables/observation_tables/parquet/part-217.parquet', '/content/observation_tables/observation_tables/parquet/part-38.parquet', '/content/observation_tables/observation_tables/parquet/part-100.parquet', '/content/observation_tables/observation_tables/parquet/part-135.parquet', '/content/observation_tables/observation_tables/parquet/part-44.parquet', '/content/observation_tables/observation_tables/parquet/part-59.parquet', '/content/observation_tables/observation_tables/parquet/part-85.parquet', '/content/observation_tables/observation_tables/parquet/part-13.parquet', '/content/observation_tables/observation_tables/parquet/part-152.parquet', '/content/observation_tables/observation_tables/parquet/part-41.parquet', '/content/observation_tables/observation_tables/parquet/part-125.parquet', '/content/observation_tables/observation_tables/parquet/part-14.parquet', '/content/observation_tables/observation_tables/parquet/part-51.parquet', '/content/observation_tables/observation_tables/parquet/part-56.parquet', '/content/observation_tables/observation_tables/parquet/part-211.parquet', '/content/observation_tables/observation_tables/parquet/part-145.parquet', '/content/observation_tables/observation_tables/parquet/part-208.parquet', '/content/observation_tables/observation_tables/parquet/part-132.parquet', '/content/observation_tables/observation_tables/parquet/part-198.parquet', '/content/observation_tables/observation_tables/parquet/part-117.parquet', '/content/observation_tables/observation_tables/parquet/part-136.parquet', '/content/observation_tables/observation_tables/parquet/part-107.parquet', '/content/observation_tables/observation_tables/parquet/part-144.parquet', '/content/observation_tables/observation_tables/parquet/part-233.parquet', '/content/observation_tables/observation_tables/parquet/part-89.parquet', '/content/observation_tables/observation_tables/parquet/part-82.parquet', '/content/observation_tables/observation_tables/parquet/part-105.parquet', '/content/observation_tables/observation_tables/parquet/part-17.parquet', '/content/observation_tables/observation_tables/parquet/part-176.parquet', '/content/observation_tables/observation_tables/parquet/part-215.parquet', '/content/observation_tables/observation_tables/parquet/part-7.parquet', '/content/observation_tables/observation_tables/parquet/part-219.parquet', '/content/observation_tables/observation_tables/parquet/part-192.parquet', '/content/observation_tables/observation_tables/parquet/part-248.parquet', '/content/observation_tables/observation_tables/parquet/part-96.parquet', '/content/observation_tables/observation_tables/parquet/part-20.parquet', '/content/observation_tables/observation_tables/parquet/part-95.parquet', '/content/observation_tables/observation_tables/parquet/part-109.parquet', '/content/observation_tables/observation_tables/parquet/part-205.parquet', '/content/observation_tables/observation_tables/parquet/part-183.parquet', '/content/observation_tables/observation_tables/parquet/part-210.parquet', '/content/observation_tables/observation_tables/parquet/part-99.parquet', '/content/observation_tables/observation_tables/parquet/part-27.parquet', '/content/observation_tables/observation_tables/parquet/part-142.parquet', '/content/observation_tables/observation_tables/parquet/part-77.parquet', '/content/observation_tables/observation_tables/parquet/part-86.parquet', '/content/observation_tables/observation_tables/parquet/part-137.parquet', '/content/observation_tables/observation_tables/parquet/part-72.parquet', '/content/observation_tables/observation_tables/parquet/part-184.parquet', '/content/observation_tables/observation_tables/parquet/part-206.parquet', '/content/observation_tables/observation_tables/parquet/part-166.parquet', '/content/observation_tables/observation_tables/parquet/part-118.parquet', '/content/observation_tables/observation_tables/parquet/part-238.parquet', '/content/observation_tables/observation_tables/parquet/part-188.parquet', '/content/observation_tables/observation_tables/parquet/part-202.parquet', '/content/observation_tables/observation_tables/parquet/part-36.parquet', '/content/observation_tables/observation_tables/parquet/part-61.parquet', '/content/observation_tables/observation_tables/parquet/part-126.parquet', '/content/observation_tables/observation_tables/parquet/part-71.parquet', '/content/observation_tables/observation_tables/parquet/part-169.parquet', '/content/observation_tables/observation_tables/parquet/part-34.parquet', '/content/observation_tables/observation_tables/parquet/part-214.parquet', '/content/observation_tables/observation_tables/parquet/part-134.parquet', '/content/observation_tables/observation_tables/parquet/part-162.parquet', '/content/observation_tables/observation_tables/parquet/part-53.parquet', '/content/observation_tables/observation_tables/parquet/part-168.parquet', '/content/observation_tables/observation_tables/parquet/part-222.parquet', '/content/observation_tables/observation_tables/parquet/part-147.parquet', '/content/observation_tables/observation_tables/parquet/part-79.parquet', '/content/observation_tables/observation_tables/parquet/part-172.parquet', '/content/observation_tables/observation_tables/parquet/part-200.parquet', '/content/observation_tables/observation_tables/parquet/part-213.parquet', '/content/observation_tables/observation_tables/parquet/part-154.parquet', '/content/observation_tables/observation_tables/parquet/part-156.parquet', '/content/observation_tables/observation_tables/parquet/part-75.parquet', '/content/observation_tables/observation_tables/parquet/part-227.parquet', '/content/observation_tables/observation_tables/parquet/part-247.parquet', '/content/observation_tables/observation_tables/parquet/part-240.parquet', '/content/observation_tables/observation_tables/parquet/part-223.parquet', '/content/observation_tables/observation_tables/parquet/part-112.parquet', '/content/observation_tables/observation_tables/parquet/part-30.parquet', '/content/observation_tables/observation_tables/parquet/part-220.parquet', '/content/observation_tables/observation_tables/parquet/part-70.parquet', '/content/observation_tables/observation_tables/parquet/part-16.parquet', '/content/observation_tables/observation_tables/parquet/part-180.parquet', '/content/observation_tables/observation_tables/parquet/part-153.parquet', '/content/observation_tables/observation_tables/parquet/part-191.parquet', '/content/observation_tables/observation_tables/parquet/part-97.parquet', '/content/observation_tables/observation_tables/parquet/part-25.parquet', '/content/observation_tables/observation_tables/parquet/part-21.parquet', '/content/observation_tables/observation_tables/parquet/part-31.parquet', '/content/observation_tables/observation_tables/parquet/part-42.parquet', '/content/observation_tables/observation_tables/parquet/part-46.parquet', '/content/observation_tables/observation_tables/parquet/part-241.parquet', '/content/observation_tables/observation_tables/parquet/part-221.parquet', '/content/observation_tables/observation_tables/parquet/part-63.parquet', '/content/observation_tables/observation_tables/parquet/part-55.parquet', '/content/observation_tables/observation_tables/parquet/part-110.parquet', '/content/observation_tables/observation_tables/parquet/part-29.parquet', '/content/observation_tables/observation_tables/parquet/part-2.parquet', '/content/observation_tables/observation_tables/parquet/part-173.parquet', '/content/observation_tables/observation_tables/parquet/part-98.parquet', '/content/observation_tables/observation_tables/parquet/part-151.parquet', '/content/observation_tables/observation_tables/parquet/part-120.parquet', '/content/observation_tables/observation_tables/parquet/part-146.parquet', '/content/observation_tables/observation_tables/parquet/part-103.parquet', '/content/observation_tables/observation_tables/parquet/part-158.parquet', '/content/observation_tables/observation_tables/parquet/part-43.parquet', '/content/observation_tables/observation_tables/parquet/part-226.parquet', '/content/observation_tables/observation_tables/parquet/part-239.parquet', '/content/observation_tables/observation_tables/parquet/part-76.parquet', '/content/observation_tables/observation_tables/parquet/part-129.parquet', '/content/observation_tables/observation_tables/parquet/part-249.parquet', '/content/observation_tables/observation_tables/parquet/part-26.parquet', '/content/observation_tables/observation_tables/parquet/part-18.parquet', '/content/observation_tables/observation_tables/parquet/part-230.parquet', '/content/observation_tables/observation_tables/parquet/part-1.parquet', '/content/observation_tables/observation_tables/parquet/part-111.parquet', '/content/observation_tables/observation_tables/parquet/part-83.parquet', '/content/observation_tables/observation_tables/parquet/part-35.parquet', '/content/observation_tables/observation_tables/parquet/part-163.parquet', '/content/observation_tables/observation_tables/parquet/part-127.parquet', '/content/observation_tables/observation_tables/parquet/part-23.parquet', '/content/observation_tables/observation_tables/parquet/part-28.parquet', '/content/observation_tables/observation_tables/parquet/part-88.parquet', '/content/observation_tables/observation_tables/parquet/part-232.parquet', '/content/observation_tables/observation_tables/parquet/part-237.parquet', '/content/observation_tables/observation_tables/parquet/part-175.parquet', '/content/observation_tables/observation_tables/parquet/part-11.parquet', '/content/observation_tables/observation_tables/parquet/part-124.parquet', '/content/observation_tables/observation_tables/parquet/part-33.parquet', '/content/observation_tables/observation_tables/parquet/part-130.parquet', '/content/observation_tables/observation_tables/parquet/part-141.parquet', '/content/observation_tables/observation_tables/parquet/part-40.parquet', '/content/observation_tables/observation_tables/parquet/part-114.parquet', '/content/observation_tables/observation_tables/parquet/part-101.parquet', '/content/observation_tables/observation_tables/parquet/part-60.parquet', '/content/observation_tables/observation_tables/parquet/part-155.parquet', '/content/observation_tables/observation_tables/parquet/part-170.parquet', '/content/observation_tables/observation_tables/parquet/part-37.parquet', '/content/observation_tables/observation_tables/parquet/part-92.parquet', '/content/observation_tables/observation_tables/parquet/part-139.parquet', '/content/observation_tables/observation_tables/parquet/part-178.parquet', '/content/observation_tables/observation_tables/parquet/part-106.parquet']\n"
          ]
        }
      ]
    },
    {
      "cell_type": "code",
      "source": [
        "#for parquet_file in all_parquet_files:\n",
        " #   df = pd.read_parquet(parquet_file)\n",
        "  #  print(f\"Reading file: {parquet_file}\")\n",
        "   # print(df.columns)"
      ],
      "metadata": {
        "id": "e1OPjHGjMrzM"
      },
      "execution_count": null,
      "outputs": []
    },
    {
      "cell_type": "markdown",
      "metadata": {
        "id": "10BZpe9CiROG"
      },
      "source": [
        "## Reading using Pandas\n",
        "Required python packages are `pandas` and `pyarrow`"
      ]
    },
    {
      "cell_type": "markdown",
      "metadata": {
        "id": "ry1g0o20iROG"
      },
      "source": [
        "### Reading a part"
      ]
    },
    {
      "cell_type": "code",
      "execution_count": 8,
      "metadata": {
        "id": "kernE_tbiROH"
      },
      "outputs": [],
      "source": [
        "part = 4"
      ]
    },
    {
      "cell_type": "code",
      "source": [
        "file_path = os.path.join(\n",
        "    'observation_tables', 'observation_tables', 'parquet', f'part-{part}.parquet'\n",
        ")"
      ],
      "metadata": {
        "id": "eskzuLqHnoPn"
      },
      "execution_count": 9,
      "outputs": []
    },
    {
      "cell_type": "code",
      "execution_count": 10,
      "metadata": {
        "id": "vKZu7E3viROH",
        "outputId": "182fd4c6-aecb-4c2e-e508-58c09f831308",
        "colab": {
          "base_uri": "https://localhost:8080/"
        }
      },
      "outputs": [
        {
          "output_type": "stream",
          "name": "stdout",
          "text": [
            "Datei geladen: observation_tables/observation_tables/parquet/part-4.parquet\n",
            "Index(['datetime', 'entertime', 'patientid', 'status', 'stringvalue', 'type',\n",
            "       'value', 'variableid'],\n",
            "      dtype='object')\n"
          ]
        }
      ],
      "source": [
        "# Anzeigen der Spaltennmane des parquet-files\n",
        "\n",
        "df_part = pd.read_parquet(file_path)\n",
        "print(f\"Datei geladen: {file_path}\")\n",
        "print(df_part.columns)\n"
      ]
    },
    {
      "cell_type": "code",
      "source": [
        "df_part['value'].count() #zählt wie viele Werte in der Spalte 'value' nicht leer sind, also wie viele Werte existieren"
      ],
      "metadata": {
        "id": "wWL2FAs6rA9t",
        "outputId": "48faa991-84c9-46d4-91e7-ae793befba9d",
        "colab": {
          "base_uri": "https://localhost:8080/"
        }
      },
      "execution_count": 11,
      "outputs": [
        {
          "output_type": "execute_result",
          "data": {
            "text/plain": [
              "np.int64(2412421)"
            ]
          },
          "metadata": {},
          "execution_count": 11
        }
      ]
    },
    {
      "cell_type": "code",
      "source": [
        "# die ersten 10 Zeilen anzeigen lassen des parquet files\n",
        "\n",
        "print(df_part.head(10))"
      ],
      "metadata": {
        "colab": {
          "base_uri": "https://localhost:8080/"
        },
        "id": "aNv1apsu_E_x",
        "outputId": "8ced3262-4dbf-4571-c947-1069d66fb56a"
      },
      "execution_count": 23,
      "outputs": [
        {
          "output_type": "stream",
          "name": "stdout",
          "text": [
            "                 datetime               entertime  patientid  status  \\\n",
            "0 2111-04-07 17:50:00.000 2111-04-07 18:02:16.320         65       8   \n",
            "1 2111-04-07 17:50:00.000 2111-04-07 18:02:16.333         65       8   \n",
            "2 2111-04-07 18:00:00.000 2111-04-07 19:46:35.530         65       8   \n",
            "3 2111-04-07 18:00:00.000 2111-04-07 19:46:36.140         65       8   \n",
            "4 2111-04-07 18:02:54.220 2111-04-07 18:02:58.723         65       4   \n",
            "5 2111-04-07 18:02:55.070 2111-04-07 18:02:58.803         65       4   \n",
            "6 2111-04-07 18:03:28.100 2111-04-07 18:03:40.316         65      16   \n",
            "7 2111-04-07 18:03:28.550 2111-04-07 18:03:40.363         65      16   \n",
            "8 2111-04-07 18:04:34.850 2111-04-07 18:05:38.986         65      16   \n",
            "9 2111-04-07 18:04:35.320 2111-04-07 18:05:39.033         65      16   \n",
            "\n",
            "  stringvalue type  value  variableid  \n",
            "0        None        90.0    10000400  \n",
            "1        None       175.0    10000450  \n",
            "2                     0.0    30005010  \n",
            "3                     0.0    30005075  \n",
            "4                   126.0         200  \n",
            "5                    88.0        4000  \n",
            "6                    88.0        4000  \n",
            "7                   127.0         200  \n",
            "8                    88.0        4000  \n",
            "9                   126.0         200  \n"
          ]
        }
      ]
    },
    {
      "cell_type": "markdown",
      "source": [
        "# Wie viele Einträge hat eine bestimmte Variable?"
      ],
      "metadata": {
        "id": "MG_OSW9R_Gro"
      }
    },
    {
      "cell_type": "code",
      "source": [
        "# spezifizieren welche value ausgezählt werden soll\n",
        "variableid = 110\n",
        "total_count = 0\n"
      ],
      "metadata": {
        "id": "sKJCvm2F4KPB"
      },
      "execution_count": 15,
      "outputs": []
    },
    {
      "cell_type": "code",
      "source": [
        "# zählen wie viel data wir zu einer spezifischen value haben, in diesem parquet file\n",
        "\n",
        "gefilterte_values = df_part[df_part['variableid'] == variableid]['value']\n",
        "total_count = gefilterte_values.notna().sum()\n",
        "\n",
        "print(f\"\\nGesamtanzahl nicht-NaN-Werte für VariableID {variableid}: {total_count}\")\n",
        "print(gefilterte_values)"
      ],
      "metadata": {
        "colab": {
          "base_uri": "https://localhost:8080/"
        },
        "id": "KN6ynLo7_ra2",
        "outputId": "a4405d9b-1604-44dc-e052-fa7960e75aad"
      },
      "execution_count": 16,
      "outputs": [
        {
          "output_type": "stream",
          "name": "stdout",
          "text": [
            "\n",
            "Gesamtanzahl nicht-NaN-Werte für VariableID 110: 181348\n",
            "35          0.0\n",
            "38          0.0\n",
            "45          0.0\n",
            "49          0.0\n",
            "53          0.0\n",
            "           ... \n",
            "2412511    84.0\n",
            "2412515    81.0\n",
            "2412525    81.0\n",
            "2412529    79.0\n",
            "2412534    85.0\n",
            "Name: value, Length: 181348, dtype: float32\n"
          ]
        }
      ]
    },
    {
      "cell_type": "code",
      "source": [
        "# durch alle Parquet Files gehen und zählen:\n",
        "\n",
        "# Zähler initialisieren\n",
        "gesamt_count = 0\n",
        "\n",
        "# Durchlaufen aller Parquet-Dateien\n",
        "for file_path in all_parquet_files:\n",
        "    print(f\"Lade Datei: {file_path}\")\n",
        "    df = pd.read_parquet(file_path)\n",
        "\n",
        "    # Filtern nach der gewünschten variableid\n",
        "    gefilterte_values = df[df['variableid'] == variableid]['value']\n",
        "\n",
        "    # Zählen nicht-NaN-Werte in der Spalte \"value\"\n",
        "    count = gefilterte_values.notna().sum()\n",
        "    gesamt_count += count\n",
        "\n",
        "    print(f\"{count} Werte in Datei gefunden.\")\n",
        "\n",
        "print(f\"\\n Gesamtanzahl nicht-NaN-Werte für VariableID {variableid}: {gesamt_count}\")"
      ],
      "metadata": {
        "colab": {
          "base_uri": "https://localhost:8080/"
        },
        "id": "feftOOMV_TOo",
        "outputId": "e8a8abed-2879-450b-8abf-ba32956b4ca9"
      },
      "execution_count": 24,
      "outputs": [
        {
          "output_type": "stream",
          "name": "stdout",
          "text": [
            "Lade Datei: /content/observation_tables/observation_tables/parquet/part-78.parquet\n",
            "214670 Werte in Datei gefunden.\n",
            "Lade Datei: /content/observation_tables/observation_tables/parquet/part-12.parquet\n",
            "257442 Werte in Datei gefunden.\n",
            "Lade Datei: /content/observation_tables/observation_tables/parquet/part-64.parquet\n",
            "196549 Werte in Datei gefunden.\n",
            "Lade Datei: /content/observation_tables/observation_tables/parquet/part-113.parquet\n",
            "277988 Werte in Datei gefunden.\n",
            "Lade Datei: /content/observation_tables/observation_tables/parquet/part-122.parquet\n",
            "263639 Werte in Datei gefunden.\n",
            "Lade Datei: /content/observation_tables/observation_tables/parquet/part-140.parquet\n",
            "192614 Werte in Datei gefunden.\n",
            "Lade Datei: /content/observation_tables/observation_tables/parquet/part-84.parquet\n",
            "194009 Werte in Datei gefunden.\n",
            "Lade Datei: /content/observation_tables/observation_tables/parquet/part-138.parquet\n",
            "232272 Werte in Datei gefunden.\n",
            "Lade Datei: /content/observation_tables/observation_tables/parquet/part-218.parquet\n",
            "230824 Werte in Datei gefunden.\n",
            "Lade Datei: /content/observation_tables/observation_tables/parquet/part-161.parquet\n",
            "179257 Werte in Datei gefunden.\n",
            "Lade Datei: /content/observation_tables/observation_tables/parquet/part-119.parquet\n",
            "311881 Werte in Datei gefunden.\n",
            "Lade Datei: /content/observation_tables/observation_tables/parquet/part-123.parquet\n",
            "229621 Werte in Datei gefunden.\n",
            "Lade Datei: /content/observation_tables/observation_tables/parquet/part-90.parquet\n",
            "269761 Werte in Datei gefunden.\n",
            "Lade Datei: /content/observation_tables/observation_tables/parquet/part-160.parquet\n",
            "310555 Werte in Datei gefunden.\n",
            "Lade Datei: /content/observation_tables/observation_tables/parquet/part-209.parquet\n",
            "244770 Werte in Datei gefunden.\n",
            "Lade Datei: /content/observation_tables/observation_tables/parquet/part-164.parquet\n",
            "200899 Werte in Datei gefunden.\n",
            "Lade Datei: /content/observation_tables/observation_tables/parquet/part-245.parquet\n",
            "225741 Werte in Datei gefunden.\n",
            "Lade Datei: /content/observation_tables/observation_tables/parquet/part-5.parquet\n",
            "195970 Werte in Datei gefunden.\n",
            "Lade Datei: /content/observation_tables/observation_tables/parquet/part-104.parquet\n",
            "275224 Werte in Datei gefunden.\n",
            "Lade Datei: /content/observation_tables/observation_tables/parquet/part-133.parquet\n",
            "183276 Werte in Datei gefunden.\n",
            "Lade Datei: /content/observation_tables/observation_tables/parquet/part-4.parquet\n",
            "192518 Werte in Datei gefunden.\n",
            "Lade Datei: /content/observation_tables/observation_tables/parquet/part-174.parquet\n",
            "247871 Werte in Datei gefunden.\n",
            "Lade Datei: /content/observation_tables/observation_tables/parquet/part-39.parquet\n",
            "257950 Werte in Datei gefunden.\n",
            "Lade Datei: /content/observation_tables/observation_tables/parquet/part-228.parquet\n",
            "312037 Werte in Datei gefunden.\n",
            "Lade Datei: /content/observation_tables/observation_tables/parquet/part-48.parquet\n",
            "249910 Werte in Datei gefunden.\n",
            "Lade Datei: /content/observation_tables/observation_tables/parquet/part-177.parquet\n",
            "138340 Werte in Datei gefunden.\n",
            "Lade Datei: /content/observation_tables/observation_tables/parquet/part-6.parquet\n",
            "334141 Werte in Datei gefunden.\n",
            "Lade Datei: /content/observation_tables/observation_tables/parquet/part-58.parquet\n",
            "179323 Werte in Datei gefunden.\n",
            "Lade Datei: /content/observation_tables/observation_tables/parquet/part-68.parquet\n",
            "207145 Werte in Datei gefunden.\n",
            "Lade Datei: /content/observation_tables/observation_tables/parquet/part-167.parquet\n",
            "220063 Werte in Datei gefunden.\n",
            "Lade Datei: /content/observation_tables/observation_tables/parquet/part-3.parquet\n",
            "206619 Werte in Datei gefunden.\n",
            "Lade Datei: /content/observation_tables/observation_tables/parquet/part-171.parquet\n",
            "270139 Werte in Datei gefunden.\n",
            "Lade Datei: /content/observation_tables/observation_tables/parquet/part-204.parquet\n",
            "210752 Werte in Datei gefunden.\n",
            "Lade Datei: /content/observation_tables/observation_tables/parquet/part-231.parquet\n",
            "265259 Werte in Datei gefunden.\n",
            "Lade Datei: /content/observation_tables/observation_tables/parquet/part-15.parquet\n",
            "217585 Werte in Datei gefunden.\n",
            "Lade Datei: /content/observation_tables/observation_tables/parquet/part-179.parquet\n",
            "236557 Werte in Datei gefunden.\n",
            "Lade Datei: /content/observation_tables/observation_tables/parquet/part-108.parquet\n",
            "289040 Werte in Datei gefunden.\n",
            "Lade Datei: /content/observation_tables/observation_tables/parquet/part-242.parquet\n",
            "224351 Werte in Datei gefunden.\n",
            "Lade Datei: /content/observation_tables/observation_tables/parquet/part-189.parquet\n",
            "232326 Werte in Datei gefunden.\n",
            "Lade Datei: /content/observation_tables/observation_tables/parquet/part-50.parquet\n",
            "277447 Werte in Datei gefunden.\n",
            "Lade Datei: /content/observation_tables/observation_tables/parquet/part-224.parquet\n",
            "177231 Werte in Datei gefunden.\n",
            "Lade Datei: /content/observation_tables/observation_tables/parquet/part-197.parquet\n",
            "275269 Werte in Datei gefunden.\n",
            "Lade Datei: /content/observation_tables/observation_tables/parquet/part-80.parquet\n",
            "239926 Werte in Datei gefunden.\n",
            "Lade Datei: /content/observation_tables/observation_tables/parquet/part-212.parquet\n",
            "187552 Werte in Datei gefunden.\n",
            "Lade Datei: /content/observation_tables/observation_tables/parquet/part-181.parquet\n",
            "262085 Werte in Datei gefunden.\n",
            "Lade Datei: /content/observation_tables/observation_tables/parquet/part-187.parquet\n",
            "342496 Werte in Datei gefunden.\n",
            "Lade Datei: /content/observation_tables/observation_tables/parquet/part-243.parquet\n",
            "253915 Werte in Datei gefunden.\n",
            "Lade Datei: /content/observation_tables/observation_tables/parquet/part-102.parquet\n",
            "244278 Werte in Datei gefunden.\n",
            "Lade Datei: /content/observation_tables/observation_tables/parquet/part-196.parquet\n",
            "210725 Werte in Datei gefunden.\n",
            "Lade Datei: /content/observation_tables/observation_tables/parquet/part-94.parquet\n",
            "246450 Werte in Datei gefunden.\n",
            "Lade Datei: /content/observation_tables/observation_tables/parquet/part-157.parquet\n",
            "222250 Werte in Datei gefunden.\n",
            "Lade Datei: /content/observation_tables/observation_tables/parquet/part-131.parquet\n",
            "291776 Werte in Datei gefunden.\n",
            "Lade Datei: /content/observation_tables/observation_tables/parquet/part-115.parquet\n",
            "183920 Werte in Datei gefunden.\n",
            "Lade Datei: /content/observation_tables/observation_tables/parquet/part-225.parquet\n",
            "216355 Werte in Datei gefunden.\n",
            "Lade Datei: /content/observation_tables/observation_tables/parquet/part-57.parquet\n",
            "292123 Werte in Datei gefunden.\n",
            "Lade Datei: /content/observation_tables/observation_tables/parquet/part-116.parquet\n",
            "339203 Werte in Datei gefunden.\n",
            "Lade Datei: /content/observation_tables/observation_tables/parquet/part-235.parquet\n",
            "219183 Werte in Datei gefunden.\n",
            "Lade Datei: /content/observation_tables/observation_tables/parquet/part-195.parquet\n",
            "351631 Werte in Datei gefunden.\n",
            "Lade Datei: /content/observation_tables/observation_tables/parquet/part-201.parquet\n",
            "288243 Werte in Datei gefunden.\n",
            "Lade Datei: /content/observation_tables/observation_tables/parquet/part-67.parquet\n",
            "235034 Werte in Datei gefunden.\n",
            "Lade Datei: /content/observation_tables/observation_tables/parquet/part-22.parquet\n",
            "225993 Werte in Datei gefunden.\n",
            "Lade Datei: /content/observation_tables/observation_tables/parquet/part-121.parquet\n",
            "256958 Werte in Datei gefunden.\n",
            "Lade Datei: /content/observation_tables/observation_tables/parquet/part-186.parquet\n",
            "240320 Werte in Datei gefunden.\n",
            "Lade Datei: /content/observation_tables/observation_tables/parquet/part-236.parquet\n",
            "224267 Werte in Datei gefunden.\n",
            "Lade Datei: /content/observation_tables/observation_tables/parquet/part-128.parquet\n",
            "289986 Werte in Datei gefunden.\n",
            "Lade Datei: /content/observation_tables/observation_tables/parquet/part-207.parquet\n",
            "200743 Werte in Datei gefunden.\n",
            "Lade Datei: /content/observation_tables/observation_tables/parquet/part-47.parquet\n",
            "265842 Werte in Datei gefunden.\n",
            "Lade Datei: /content/observation_tables/observation_tables/parquet/part-182.parquet\n",
            "242945 Werte in Datei gefunden.\n",
            "Lade Datei: /content/observation_tables/observation_tables/parquet/part-199.parquet\n",
            "281863 Werte in Datei gefunden.\n",
            "Lade Datei: /content/observation_tables/observation_tables/parquet/part-87.parquet\n",
            "230577 Werte in Datei gefunden.\n",
            "Lade Datei: /content/observation_tables/observation_tables/parquet/part-148.parquet\n",
            "250873 Werte in Datei gefunden.\n",
            "Lade Datei: /content/observation_tables/observation_tables/parquet/part-229.parquet\n",
            "198569 Werte in Datei gefunden.\n",
            "Lade Datei: /content/observation_tables/observation_tables/parquet/part-185.parquet\n",
            "183359 Werte in Datei gefunden.\n",
            "Lade Datei: /content/observation_tables/observation_tables/parquet/part-66.parquet\n",
            "269438 Werte in Datei gefunden.\n",
            "Lade Datei: /content/observation_tables/observation_tables/parquet/part-150.parquet\n",
            "219564 Werte in Datei gefunden.\n",
            "Lade Datei: /content/observation_tables/observation_tables/parquet/part-73.parquet\n",
            "238604 Werte in Datei gefunden.\n",
            "Lade Datei: /content/observation_tables/observation_tables/parquet/part-93.parquet\n",
            "257803 Werte in Datei gefunden.\n",
            "Lade Datei: /content/observation_tables/observation_tables/parquet/part-54.parquet\n",
            "246425 Werte in Datei gefunden.\n",
            "Lade Datei: /content/observation_tables/observation_tables/parquet/part-45.parquet\n",
            "305558 Werte in Datei gefunden.\n",
            "Lade Datei: /content/observation_tables/observation_tables/parquet/part-159.parquet\n",
            "187621 Werte in Datei gefunden.\n",
            "Lade Datei: /content/observation_tables/observation_tables/parquet/part-24.parquet\n",
            "257128 Werte in Datei gefunden.\n",
            "Lade Datei: /content/observation_tables/observation_tables/parquet/part-32.parquet\n",
            "337217 Werte in Datei gefunden.\n",
            "Lade Datei: /content/observation_tables/observation_tables/parquet/part-194.parquet\n",
            "285577 Werte in Datei gefunden.\n",
            "Lade Datei: /content/observation_tables/observation_tables/parquet/part-0.parquet\n",
            "246922 Werte in Datei gefunden.\n",
            "Lade Datei: /content/observation_tables/observation_tables/parquet/part-69.parquet\n",
            "224579 Werte in Datei gefunden.\n",
            "Lade Datei: /content/observation_tables/observation_tables/parquet/part-190.parquet\n",
            "280733 Werte in Datei gefunden.\n",
            "Lade Datei: /content/observation_tables/observation_tables/parquet/part-8.parquet\n",
            "286709 Werte in Datei gefunden.\n",
            "Lade Datei: /content/observation_tables/observation_tables/parquet/part-234.parquet\n",
            "295789 Werte in Datei gefunden.\n",
            "Lade Datei: /content/observation_tables/observation_tables/parquet/part-143.parquet\n",
            "161744 Werte in Datei gefunden.\n",
            "Lade Datei: /content/observation_tables/observation_tables/parquet/part-19.parquet\n",
            "229290 Werte in Datei gefunden.\n",
            "Lade Datei: /content/observation_tables/observation_tables/parquet/part-81.parquet\n",
            "286925 Werte in Datei gefunden.\n",
            "Lade Datei: /content/observation_tables/observation_tables/parquet/part-91.parquet\n",
            "239823 Werte in Datei gefunden.\n",
            "Lade Datei: /content/observation_tables/observation_tables/parquet/part-246.parquet\n",
            "245236 Werte in Datei gefunden.\n",
            "Lade Datei: /content/observation_tables/observation_tables/parquet/part-65.parquet\n",
            "276700 Werte in Datei gefunden.\n",
            "Lade Datei: /content/observation_tables/observation_tables/parquet/part-74.parquet\n",
            "224750 Werte in Datei gefunden.\n",
            "Lade Datei: /content/observation_tables/observation_tables/parquet/part-203.parquet\n",
            "317677 Werte in Datei gefunden.\n",
            "Lade Datei: /content/observation_tables/observation_tables/parquet/part-149.parquet\n",
            "266998 Werte in Datei gefunden.\n",
            "Lade Datei: /content/observation_tables/observation_tables/parquet/part-62.parquet\n",
            "307592 Werte in Datei gefunden.\n",
            "Lade Datei: /content/observation_tables/observation_tables/parquet/part-52.parquet\n",
            "302539 Werte in Datei gefunden.\n",
            "Lade Datei: /content/observation_tables/observation_tables/parquet/part-10.parquet\n",
            "301163 Werte in Datei gefunden.\n",
            "Lade Datei: /content/observation_tables/observation_tables/parquet/part-216.parquet\n",
            "251335 Werte in Datei gefunden.\n",
            "Lade Datei: /content/observation_tables/observation_tables/parquet/part-244.parquet\n",
            "271041 Werte in Datei gefunden.\n",
            "Lade Datei: /content/observation_tables/observation_tables/parquet/part-193.parquet\n",
            "167235 Werte in Datei gefunden.\n",
            "Lade Datei: /content/observation_tables/observation_tables/parquet/part-9.parquet\n",
            "233724 Werte in Datei gefunden.\n",
            "Lade Datei: /content/observation_tables/observation_tables/parquet/part-49.parquet\n",
            "225963 Werte in Datei gefunden.\n",
            "Lade Datei: /content/observation_tables/observation_tables/parquet/part-165.parquet\n",
            "257802 Werte in Datei gefunden.\n",
            "Lade Datei: /content/observation_tables/observation_tables/parquet/part-217.parquet\n",
            "260733 Werte in Datei gefunden.\n",
            "Lade Datei: /content/observation_tables/observation_tables/parquet/part-38.parquet\n",
            "290633 Werte in Datei gefunden.\n",
            "Lade Datei: /content/observation_tables/observation_tables/parquet/part-100.parquet\n",
            "183503 Werte in Datei gefunden.\n",
            "Lade Datei: /content/observation_tables/observation_tables/parquet/part-135.parquet\n",
            "291894 Werte in Datei gefunden.\n",
            "Lade Datei: /content/observation_tables/observation_tables/parquet/part-44.parquet\n",
            "341209 Werte in Datei gefunden.\n",
            "Lade Datei: /content/observation_tables/observation_tables/parquet/part-59.parquet\n",
            "241356 Werte in Datei gefunden.\n",
            "Lade Datei: /content/observation_tables/observation_tables/parquet/part-85.parquet\n",
            "297111 Werte in Datei gefunden.\n",
            "Lade Datei: /content/observation_tables/observation_tables/parquet/part-13.parquet\n",
            "276434 Werte in Datei gefunden.\n",
            "Lade Datei: /content/observation_tables/observation_tables/parquet/part-152.parquet\n",
            "310916 Werte in Datei gefunden.\n",
            "Lade Datei: /content/observation_tables/observation_tables/parquet/part-41.parquet\n",
            "298879 Werte in Datei gefunden.\n",
            "Lade Datei: /content/observation_tables/observation_tables/parquet/part-125.parquet\n",
            "204137 Werte in Datei gefunden.\n",
            "Lade Datei: /content/observation_tables/observation_tables/parquet/part-14.parquet\n",
            "245700 Werte in Datei gefunden.\n",
            "Lade Datei: /content/observation_tables/observation_tables/parquet/part-51.parquet\n",
            "256891 Werte in Datei gefunden.\n",
            "Lade Datei: /content/observation_tables/observation_tables/parquet/part-56.parquet\n",
            "237789 Werte in Datei gefunden.\n",
            "Lade Datei: /content/observation_tables/observation_tables/parquet/part-211.parquet\n",
            "218628 Werte in Datei gefunden.\n",
            "Lade Datei: /content/observation_tables/observation_tables/parquet/part-145.parquet\n",
            "228996 Werte in Datei gefunden.\n",
            "Lade Datei: /content/observation_tables/observation_tables/parquet/part-208.parquet\n",
            "343506 Werte in Datei gefunden.\n",
            "Lade Datei: /content/observation_tables/observation_tables/parquet/part-132.parquet\n",
            "239419 Werte in Datei gefunden.\n",
            "Lade Datei: /content/observation_tables/observation_tables/parquet/part-198.parquet\n",
            "256682 Werte in Datei gefunden.\n",
            "Lade Datei: /content/observation_tables/observation_tables/parquet/part-117.parquet\n",
            "219135 Werte in Datei gefunden.\n",
            "Lade Datei: /content/observation_tables/observation_tables/parquet/part-136.parquet\n",
            "181359 Werte in Datei gefunden.\n",
            "Lade Datei: /content/observation_tables/observation_tables/parquet/part-107.parquet\n",
            "287242 Werte in Datei gefunden.\n",
            "Lade Datei: /content/observation_tables/observation_tables/parquet/part-144.parquet\n",
            "189537 Werte in Datei gefunden.\n",
            "Lade Datei: /content/observation_tables/observation_tables/parquet/part-233.parquet\n",
            "305236 Werte in Datei gefunden.\n",
            "Lade Datei: /content/observation_tables/observation_tables/parquet/part-89.parquet\n",
            "198215 Werte in Datei gefunden.\n",
            "Lade Datei: /content/observation_tables/observation_tables/parquet/part-82.parquet\n",
            "248397 Werte in Datei gefunden.\n",
            "Lade Datei: /content/observation_tables/observation_tables/parquet/part-105.parquet\n",
            "230237 Werte in Datei gefunden.\n",
            "Lade Datei: /content/observation_tables/observation_tables/parquet/part-17.parquet\n",
            "233119 Werte in Datei gefunden.\n",
            "Lade Datei: /content/observation_tables/observation_tables/parquet/part-176.parquet\n",
            "221470 Werte in Datei gefunden.\n",
            "Lade Datei: /content/observation_tables/observation_tables/parquet/part-215.parquet\n",
            "257548 Werte in Datei gefunden.\n",
            "Lade Datei: /content/observation_tables/observation_tables/parquet/part-7.parquet\n",
            "185147 Werte in Datei gefunden.\n",
            "Lade Datei: /content/observation_tables/observation_tables/parquet/part-219.parquet\n",
            "196957 Werte in Datei gefunden.\n",
            "Lade Datei: /content/observation_tables/observation_tables/parquet/part-192.parquet\n",
            "203152 Werte in Datei gefunden.\n",
            "Lade Datei: /content/observation_tables/observation_tables/parquet/part-248.parquet\n",
            "303606 Werte in Datei gefunden.\n",
            "Lade Datei: /content/observation_tables/observation_tables/parquet/part-96.parquet\n",
            "210385 Werte in Datei gefunden.\n",
            "Lade Datei: /content/observation_tables/observation_tables/parquet/part-20.parquet\n",
            "156514 Werte in Datei gefunden.\n",
            "Lade Datei: /content/observation_tables/observation_tables/parquet/part-95.parquet\n",
            "206951 Werte in Datei gefunden.\n",
            "Lade Datei: /content/observation_tables/observation_tables/parquet/part-109.parquet\n",
            "230981 Werte in Datei gefunden.\n",
            "Lade Datei: /content/observation_tables/observation_tables/parquet/part-205.parquet\n",
            "269730 Werte in Datei gefunden.\n",
            "Lade Datei: /content/observation_tables/observation_tables/parquet/part-183.parquet\n",
            "183878 Werte in Datei gefunden.\n",
            "Lade Datei: /content/observation_tables/observation_tables/parquet/part-210.parquet\n",
            "197971 Werte in Datei gefunden.\n",
            "Lade Datei: /content/observation_tables/observation_tables/parquet/part-99.parquet\n",
            "259323 Werte in Datei gefunden.\n",
            "Lade Datei: /content/observation_tables/observation_tables/parquet/part-27.parquet\n",
            "243020 Werte in Datei gefunden.\n",
            "Lade Datei: /content/observation_tables/observation_tables/parquet/part-142.parquet\n",
            "231796 Werte in Datei gefunden.\n",
            "Lade Datei: /content/observation_tables/observation_tables/parquet/part-77.parquet\n",
            "204585 Werte in Datei gefunden.\n",
            "Lade Datei: /content/observation_tables/observation_tables/parquet/part-86.parquet\n",
            "207449 Werte in Datei gefunden.\n",
            "Lade Datei: /content/observation_tables/observation_tables/parquet/part-137.parquet\n",
            "220176 Werte in Datei gefunden.\n",
            "Lade Datei: /content/observation_tables/observation_tables/parquet/part-72.parquet\n",
            "274181 Werte in Datei gefunden.\n",
            "Lade Datei: /content/observation_tables/observation_tables/parquet/part-184.parquet\n",
            "185596 Werte in Datei gefunden.\n",
            "Lade Datei: /content/observation_tables/observation_tables/parquet/part-206.parquet\n",
            "234448 Werte in Datei gefunden.\n",
            "Lade Datei: /content/observation_tables/observation_tables/parquet/part-166.parquet\n",
            "270354 Werte in Datei gefunden.\n",
            "Lade Datei: /content/observation_tables/observation_tables/parquet/part-118.parquet\n",
            "320525 Werte in Datei gefunden.\n",
            "Lade Datei: /content/observation_tables/observation_tables/parquet/part-238.parquet\n",
            "322779 Werte in Datei gefunden.\n",
            "Lade Datei: /content/observation_tables/observation_tables/parquet/part-188.parquet\n",
            "325046 Werte in Datei gefunden.\n",
            "Lade Datei: /content/observation_tables/observation_tables/parquet/part-202.parquet\n",
            "239245 Werte in Datei gefunden.\n",
            "Lade Datei: /content/observation_tables/observation_tables/parquet/part-36.parquet\n",
            "267139 Werte in Datei gefunden.\n",
            "Lade Datei: /content/observation_tables/observation_tables/parquet/part-61.parquet\n",
            "235837 Werte in Datei gefunden.\n",
            "Lade Datei: /content/observation_tables/observation_tables/parquet/part-126.parquet\n",
            "194394 Werte in Datei gefunden.\n",
            "Lade Datei: /content/observation_tables/observation_tables/parquet/part-71.parquet\n",
            "215890 Werte in Datei gefunden.\n",
            "Lade Datei: /content/observation_tables/observation_tables/parquet/part-169.parquet\n",
            "218197 Werte in Datei gefunden.\n",
            "Lade Datei: /content/observation_tables/observation_tables/parquet/part-34.parquet\n",
            "218718 Werte in Datei gefunden.\n",
            "Lade Datei: /content/observation_tables/observation_tables/parquet/part-214.parquet\n",
            "248420 Werte in Datei gefunden.\n",
            "Lade Datei: /content/observation_tables/observation_tables/parquet/part-134.parquet\n",
            "192592 Werte in Datei gefunden.\n",
            "Lade Datei: /content/observation_tables/observation_tables/parquet/part-162.parquet\n",
            "208067 Werte in Datei gefunden.\n",
            "Lade Datei: /content/observation_tables/observation_tables/parquet/part-53.parquet\n",
            "253011 Werte in Datei gefunden.\n",
            "Lade Datei: /content/observation_tables/observation_tables/parquet/part-168.parquet\n",
            "196628 Werte in Datei gefunden.\n",
            "Lade Datei: /content/observation_tables/observation_tables/parquet/part-222.parquet\n",
            "161447 Werte in Datei gefunden.\n",
            "Lade Datei: /content/observation_tables/observation_tables/parquet/part-147.parquet\n",
            "270405 Werte in Datei gefunden.\n",
            "Lade Datei: /content/observation_tables/observation_tables/parquet/part-79.parquet\n",
            "216075 Werte in Datei gefunden.\n",
            "Lade Datei: /content/observation_tables/observation_tables/parquet/part-172.parquet\n",
            "236824 Werte in Datei gefunden.\n",
            "Lade Datei: /content/observation_tables/observation_tables/parquet/part-200.parquet\n",
            "299963 Werte in Datei gefunden.\n",
            "Lade Datei: /content/observation_tables/observation_tables/parquet/part-213.parquet\n",
            "193550 Werte in Datei gefunden.\n",
            "Lade Datei: /content/observation_tables/observation_tables/parquet/part-154.parquet\n",
            "299092 Werte in Datei gefunden.\n",
            "Lade Datei: /content/observation_tables/observation_tables/parquet/part-156.parquet\n",
            "256305 Werte in Datei gefunden.\n",
            "Lade Datei: /content/observation_tables/observation_tables/parquet/part-75.parquet\n",
            "229743 Werte in Datei gefunden.\n",
            "Lade Datei: /content/observation_tables/observation_tables/parquet/part-227.parquet\n",
            "193907 Werte in Datei gefunden.\n",
            "Lade Datei: /content/observation_tables/observation_tables/parquet/part-247.parquet\n",
            "219399 Werte in Datei gefunden.\n",
            "Lade Datei: /content/observation_tables/observation_tables/parquet/part-240.parquet\n",
            "305562 Werte in Datei gefunden.\n",
            "Lade Datei: /content/observation_tables/observation_tables/parquet/part-223.parquet\n",
            "186288 Werte in Datei gefunden.\n",
            "Lade Datei: /content/observation_tables/observation_tables/parquet/part-112.parquet\n",
            "262554 Werte in Datei gefunden.\n",
            "Lade Datei: /content/observation_tables/observation_tables/parquet/part-30.parquet\n",
            "246481 Werte in Datei gefunden.\n",
            "Lade Datei: /content/observation_tables/observation_tables/parquet/part-220.parquet\n",
            "321378 Werte in Datei gefunden.\n",
            "Lade Datei: /content/observation_tables/observation_tables/parquet/part-70.parquet\n",
            "240998 Werte in Datei gefunden.\n",
            "Lade Datei: /content/observation_tables/observation_tables/parquet/part-16.parquet\n",
            "198801 Werte in Datei gefunden.\n",
            "Lade Datei: /content/observation_tables/observation_tables/parquet/part-180.parquet\n",
            "221158 Werte in Datei gefunden.\n",
            "Lade Datei: /content/observation_tables/observation_tables/parquet/part-153.parquet\n",
            "213785 Werte in Datei gefunden.\n",
            "Lade Datei: /content/observation_tables/observation_tables/parquet/part-191.parquet\n",
            "304431 Werte in Datei gefunden.\n",
            "Lade Datei: /content/observation_tables/observation_tables/parquet/part-97.parquet\n",
            "263467 Werte in Datei gefunden.\n",
            "Lade Datei: /content/observation_tables/observation_tables/parquet/part-25.parquet\n",
            "178181 Werte in Datei gefunden.\n",
            "Lade Datei: /content/observation_tables/observation_tables/parquet/part-21.parquet\n",
            "246728 Werte in Datei gefunden.\n",
            "Lade Datei: /content/observation_tables/observation_tables/parquet/part-31.parquet\n",
            "218029 Werte in Datei gefunden.\n",
            "Lade Datei: /content/observation_tables/observation_tables/parquet/part-42.parquet\n",
            "250526 Werte in Datei gefunden.\n",
            "Lade Datei: /content/observation_tables/observation_tables/parquet/part-46.parquet\n",
            "208125 Werte in Datei gefunden.\n",
            "Lade Datei: /content/observation_tables/observation_tables/parquet/part-241.parquet\n",
            "209307 Werte in Datei gefunden.\n",
            "Lade Datei: /content/observation_tables/observation_tables/parquet/part-221.parquet\n",
            "212843 Werte in Datei gefunden.\n",
            "Lade Datei: /content/observation_tables/observation_tables/parquet/part-63.parquet\n",
            "293948 Werte in Datei gefunden.\n",
            "Lade Datei: /content/observation_tables/observation_tables/parquet/part-55.parquet\n",
            "221570 Werte in Datei gefunden.\n",
            "Lade Datei: /content/observation_tables/observation_tables/parquet/part-110.parquet\n",
            "212993 Werte in Datei gefunden.\n",
            "Lade Datei: /content/observation_tables/observation_tables/parquet/part-29.parquet\n",
            "217782 Werte in Datei gefunden.\n",
            "Lade Datei: /content/observation_tables/observation_tables/parquet/part-2.parquet\n",
            "209314 Werte in Datei gefunden.\n",
            "Lade Datei: /content/observation_tables/observation_tables/parquet/part-173.parquet\n",
            "240334 Werte in Datei gefunden.\n",
            "Lade Datei: /content/observation_tables/observation_tables/parquet/part-98.parquet\n",
            "220952 Werte in Datei gefunden.\n",
            "Lade Datei: /content/observation_tables/observation_tables/parquet/part-151.parquet\n",
            "281031 Werte in Datei gefunden.\n",
            "Lade Datei: /content/observation_tables/observation_tables/parquet/part-120.parquet\n",
            "185644 Werte in Datei gefunden.\n",
            "Lade Datei: /content/observation_tables/observation_tables/parquet/part-146.parquet\n",
            "227873 Werte in Datei gefunden.\n",
            "Lade Datei: /content/observation_tables/observation_tables/parquet/part-103.parquet\n",
            "279084 Werte in Datei gefunden.\n",
            "Lade Datei: /content/observation_tables/observation_tables/parquet/part-158.parquet\n",
            "268544 Werte in Datei gefunden.\n",
            "Lade Datei: /content/observation_tables/observation_tables/parquet/part-43.parquet\n",
            "288806 Werte in Datei gefunden.\n",
            "Lade Datei: /content/observation_tables/observation_tables/parquet/part-226.parquet\n",
            "198918 Werte in Datei gefunden.\n",
            "Lade Datei: /content/observation_tables/observation_tables/parquet/part-239.parquet\n",
            "265888 Werte in Datei gefunden.\n",
            "Lade Datei: /content/observation_tables/observation_tables/parquet/part-76.parquet\n",
            "213360 Werte in Datei gefunden.\n",
            "Lade Datei: /content/observation_tables/observation_tables/parquet/part-129.parquet\n",
            "214072 Werte in Datei gefunden.\n",
            "Lade Datei: /content/observation_tables/observation_tables/parquet/part-249.parquet\n",
            "199511 Werte in Datei gefunden.\n",
            "Lade Datei: /content/observation_tables/observation_tables/parquet/part-26.parquet\n",
            "316675 Werte in Datei gefunden.\n",
            "Lade Datei: /content/observation_tables/observation_tables/parquet/part-18.parquet\n",
            "236652 Werte in Datei gefunden.\n",
            "Lade Datei: /content/observation_tables/observation_tables/parquet/part-230.parquet\n",
            "196995 Werte in Datei gefunden.\n",
            "Lade Datei: /content/observation_tables/observation_tables/parquet/part-1.parquet\n",
            "275186 Werte in Datei gefunden.\n",
            "Lade Datei: /content/observation_tables/observation_tables/parquet/part-111.parquet\n",
            "236771 Werte in Datei gefunden.\n",
            "Lade Datei: /content/observation_tables/observation_tables/parquet/part-83.parquet\n",
            "303149 Werte in Datei gefunden.\n",
            "Lade Datei: /content/observation_tables/observation_tables/parquet/part-35.parquet\n",
            "249068 Werte in Datei gefunden.\n",
            "Lade Datei: /content/observation_tables/observation_tables/parquet/part-163.parquet\n",
            "212750 Werte in Datei gefunden.\n",
            "Lade Datei: /content/observation_tables/observation_tables/parquet/part-127.parquet\n",
            "182976 Werte in Datei gefunden.\n",
            "Lade Datei: /content/observation_tables/observation_tables/parquet/part-23.parquet\n",
            "218608 Werte in Datei gefunden.\n",
            "Lade Datei: /content/observation_tables/observation_tables/parquet/part-28.parquet\n",
            "189297 Werte in Datei gefunden.\n",
            "Lade Datei: /content/observation_tables/observation_tables/parquet/part-88.parquet\n",
            "222020 Werte in Datei gefunden.\n",
            "Lade Datei: /content/observation_tables/observation_tables/parquet/part-232.parquet\n",
            "244966 Werte in Datei gefunden.\n",
            "Lade Datei: /content/observation_tables/observation_tables/parquet/part-237.parquet\n",
            "240427 Werte in Datei gefunden.\n",
            "Lade Datei: /content/observation_tables/observation_tables/parquet/part-175.parquet\n",
            "279891 Werte in Datei gefunden.\n",
            "Lade Datei: /content/observation_tables/observation_tables/parquet/part-11.parquet\n",
            "183498 Werte in Datei gefunden.\n",
            "Lade Datei: /content/observation_tables/observation_tables/parquet/part-124.parquet\n",
            "205019 Werte in Datei gefunden.\n",
            "Lade Datei: /content/observation_tables/observation_tables/parquet/part-33.parquet\n",
            "266983 Werte in Datei gefunden.\n",
            "Lade Datei: /content/observation_tables/observation_tables/parquet/part-130.parquet\n",
            "203883 Werte in Datei gefunden.\n",
            "Lade Datei: /content/observation_tables/observation_tables/parquet/part-141.parquet\n",
            "210187 Werte in Datei gefunden.\n",
            "Lade Datei: /content/observation_tables/observation_tables/parquet/part-40.parquet\n",
            "224262 Werte in Datei gefunden.\n",
            "Lade Datei: /content/observation_tables/observation_tables/parquet/part-114.parquet\n",
            "242974 Werte in Datei gefunden.\n",
            "Lade Datei: /content/observation_tables/observation_tables/parquet/part-101.parquet\n",
            "207532 Werte in Datei gefunden.\n",
            "Lade Datei: /content/observation_tables/observation_tables/parquet/part-60.parquet\n",
            "213049 Werte in Datei gefunden.\n",
            "Lade Datei: /content/observation_tables/observation_tables/parquet/part-155.parquet\n",
            "228353 Werte in Datei gefunden.\n",
            "Lade Datei: /content/observation_tables/observation_tables/parquet/part-170.parquet\n",
            "228767 Werte in Datei gefunden.\n",
            "Lade Datei: /content/observation_tables/observation_tables/parquet/part-37.parquet\n",
            "221462 Werte in Datei gefunden.\n",
            "Lade Datei: /content/observation_tables/observation_tables/parquet/part-92.parquet\n",
            "201302 Werte in Datei gefunden.\n",
            "Lade Datei: /content/observation_tables/observation_tables/parquet/part-139.parquet\n",
            "271699 Werte in Datei gefunden.\n",
            "Lade Datei: /content/observation_tables/observation_tables/parquet/part-178.parquet\n",
            "323916 Werte in Datei gefunden.\n",
            "Lade Datei: /content/observation_tables/observation_tables/parquet/part-106.parquet\n",
            "224965 Werte in Datei gefunden.\n",
            "\n",
            " Gesamtanzahl nicht-NaN-Werte für VariableID 200: 60432336\n"
          ]
        }
      ]
    },
    {
      "cell_type": "code",
      "source": [],
      "metadata": {
        "id": "Pxo4498SAFUf"
      },
      "execution_count": null,
      "outputs": []
    }
  ],
  "metadata": {
    "hide_input": false,
    "kernelspec": {
      "display_name": "Python 3",
      "language": "python",
      "name": "python3"
    },
    "language_info": {
      "codemirror_mode": {
        "name": "ipython",
        "version": 3
      },
      "file_extension": ".py",
      "mimetype": "text/x-python",
      "name": "python",
      "nbconvert_exporter": "python",
      "pygments_lexer": "ipython3",
      "version": "3.7.5"
    },
    "toc": {
      "base_numbering": 1,
      "nav_menu": {},
      "number_sections": true,
      "sideBar": true,
      "skip_h1_title": false,
      "title_cell": "Table of Contents",
      "title_sidebar": "Contents",
      "toc_cell": false,
      "toc_position": {},
      "toc_section_display": true,
      "toc_window_display": false
    },
    "varInspector": {
      "cols": {
        "lenName": 16,
        "lenType": 16,
        "lenVar": 40
      },
      "kernels_config": {
        "python": {
          "delete_cmd_postfix": "",
          "delete_cmd_prefix": "del ",
          "library": "var_list.py",
          "varRefreshCmd": "print(var_dic_list())"
        },
        "r": {
          "delete_cmd_postfix": ") ",
          "delete_cmd_prefix": "rm(",
          "library": "var_list.r",
          "varRefreshCmd": "cat(var_dic_list()) "
        }
      },
      "types_to_exclude": [
        "module",
        "function",
        "builtin_function_or_method",
        "instance",
        "_Feature"
      ],
      "window_display": false
    },
    "colab": {
      "provenance": [],
      "include_colab_link": true
    }
  },
  "nbformat": 4,
  "nbformat_minor": 0
}